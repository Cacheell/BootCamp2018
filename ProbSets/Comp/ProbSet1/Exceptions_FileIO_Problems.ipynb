{
 "cells": [
  {
   "cell_type": "markdown",
   "metadata": {},
   "source": [
    "**Exceptions_FileIO Problems**\n",
    "\n",
    "**Problem 1:**"
   ]
  },
  {
   "cell_type": "code",
   "execution_count": null,
   "metadata": {},
   "outputs": [],
   "source": [
    "def arithmagic():\n",
    "    step_1 = input(\"Enter a 3-digit number where the first and last \"\n",
    "                                           \"digits differ by 2 or more: \")\n",
    "    if (int(step_1) > 999 or int(step_1) < 100):\n",
    "        raise ValueError(\"The first number is not a 3-Digit Number\")\n",
    "    if (abs(int(step_1[0]) - int(step_1[2])) < 2) :\n",
    "        raise ValueError(\"The first and last digits differ by less than 2\")\n",
    "    step_2 = input(\"Enter the reverse of the first number, obtained \"\n",
    "                                              \"by reading it backwards: \")\n",
    "    if step_2 != step_1[::-1]:\n",
    "        raise ValueError(\"This is not the reverse of the first number.\")\n",
    "    step_3 = input(\"Enter the positive difference of these numbers: \")\n",
    "    print(abs(int(step_1) - int(step_2)))\n",
    "    if int(step_3) != abs(int(step_1) - int(step_2)):\n",
    "        raise ValueError(\"This is not the positive difference of the first two numbers\")\n",
    "    step_4 = input(\"Enter the reverse of the previous result: \")\n",
    "\n",
    "    if step_4 != step_3[::-1]:\n",
    "        raise ValueError(\"This is not the reverse of the positive difference.\")\n",
    "    print(str(step_3), \"+\", str(step_4), \"= 1089 (ta-da!)\")\n",
    "arithmagic()\n"
   ]
  },
  {
   "cell_type": "markdown",
   "metadata": {},
   "source": [
    "**Problem 2:**\n",
    "<br>This is also saved under random_walk.py to run on the terminal"
   ]
  },
  {
   "cell_type": "code",
   "execution_count": 8,
   "metadata": {},
   "outputs": [
    {
     "name": "stdout",
     "output_type": "stream",
     "text": [
      "Process completed\n",
      "26\n"
     ]
    }
   ],
   "source": [
    "from random import choice\n",
    "def random_walk(max_iters=1e12):\n",
    "    walk = 0\n",
    "    directions = [1, -1]\n",
    "    for i in range(int(max_iters)):\n",
    "        try:\n",
    "             walk += choice(directions)\n",
    "        except KeyboardInterrupt as e:\n",
    "            print(\"\\nProcess interrupted at iteration \", i)\n",
    "            break\n",
    "    else:\n",
    "        print(\"Process completed\")\n",
    "    return walk\n",
    "\n",
    "print(random_walk(5000))"
   ]
  },
  {
   "cell_type": "markdown",
   "metadata": {},
   "source": [
    "**Problem 3 & Problem 4 :**\n",
    "<br> A working txt file that you can use is work.txt"
   ]
  },
  {
   "cell_type": "code",
   "execution_count": 152,
   "metadata": {},
   "outputs": [],
   "source": [
    "class ContentFilter:\n",
    "    \"\"\"A Content filter object class. Has a ..\n",
    "    Attributes:\n",
    "        filename (str): the file name of a file to be read.\n",
    "        content (str): the content of the valid file. \n",
    "    \"\"\"\n",
    "    def __init__(self, filename):           # This function is the constructor.\n",
    "        \"\"\"Set the file name and its content.  It will continue to run and ask for a valid name until you give a valid file name.\n",
    "        Parameters:\n",
    "        filename (str): the file name of a file to be read.\n",
    "        content (str): the files contents all saved as a string. \n",
    "        \"\"\"\n",
    "        TF = False\n",
    "        while not TF:\n",
    "            try:\n",
    "                with open(filename, 'r') as readfile:\n",
    "                    TF = True\n",
    "                    self.filename = filename \n",
    "                    self.content = readfile.read()\n",
    "                    self.numlines = len(readfile.readlines())\n",
    "            except:\n",
    "                filename = input(\"Please enter a valid file name: \")\n",
    "        \n",
    "        self.characters = len(self.content)\n",
    "        self.alphachar = sum(c.isalpha() for c in self.content)\n",
    "        self.numdigit = sum(c.isdigit() for c in self.content)\n",
    "        self.whitespace = sum(c.isspace() for c in self.content)\n",
    "                \n",
    "    def uniform(self, writefile, mode='w', case='upper'):\n",
    "        valid = {'w', 'x', 'a'}\n",
    "        valid.add(mode)\n",
    "        if len(valid) != 3:\n",
    "            raise ValueError(\"This is not a valid mode. Change to 'x', 'w', or 'a'\")\n",
    "        if case == 'upper':\n",
    "            writethis = self.content.upper()\n",
    "        elif case == 'lower':\n",
    "            writethis = self.content.lower()  \n",
    "        else: \n",
    "            raise ValueError(\"This is not a valid case.  Use upper or lower\")\n",
    "        with open(writefile, mode) as outfile:\n",
    "            outfile.write(writethis)\n",
    "    \n",
    "    def reverse(self, writefile, mode='w', unit='line'):\n",
    "        valid = {'w', 'x', 'a'}\n",
    "        valid.add(mode)\n",
    "        if len(valid) != 3:\n",
    "            raise ValueError(\"This is not a valid mode. Change to 'x', 'w', or 'a'\")\n",
    "        if unit == 'line':\n",
    "            wordlist = self.content.split('\\n')\n",
    "            newwordlist = wordlist[::-1]\n",
    "            writethis = \"\\n\".join(newwordlist)\n",
    "        elif unit == 'word':\n",
    "            wordlist = self.content.split('\\n')\n",
    "            newwordlist = wordlist\n",
    "            for i in range(len(wordlist)):\n",
    "                newwordlist[i] = wordlist[i][::-1]\n",
    "            writethis = \"\\n\".join(newwordlist)\n",
    "        else: \n",
    "            raise ValueError(\"This is not a valid unit.  Use line or word\")\n",
    "        with open(writefile, mode) as outfile:\n",
    "            outfile.write(writethis)\n",
    "\n",
    "    def transpose(self, writefile, mode='w'):\n",
    "        valid = {'w', 'x', 'a'}\n",
    "        valid.add(mode)\n",
    "        if len(valid) != 3:\n",
    "            raise ValueError(\"This is not a valid mode. Change to 'x', 'w', or 'a'\")\n",
    "        lines = self.content.split('\\n')\n",
    "        matrix = []\n",
    "        for i in range(len(lines)):\n",
    "            matrix.append(lines[i].split(' '))\n",
    "        matrix = [*zip(*matrix)]\n",
    "        print(matrix)\n",
    "        print(matrix[2][4])\n",
    "        for j in range(len(matrix)):\n",
    "            matrix[j] = \" \".join(matrix[j])\n",
    "        writethis = \"\\n\".join(matrix)\n",
    "        print(writethis)\n",
    "        with open(writefile, mode) as outfile:\n",
    "            outfile.write(writethis)\n",
    "\n",
    "    def __str__(self):\n",
    "        \"\"\"Magic method of printing the class object.  It prints the Owner, Color, Size, Max Size,\n",
    "        and contents.  \n",
    "        \"\"\"\n",
    "        \n",
    "        string = str(\"Source File:\\t\\t\\t\" + str(self.filename) + \"\\nTotal characters:\\t\\t\" + str(self.characters) + \"\\nAlphabetic Characters:\\t\\t\" + str(self.alphachar)\n",
    "        + \"\\nNumerical characters:\\t\\t\" + str(self.numdigit) + \"\\nWhitespace characters:\\t\\t\" + str(self.whitespace) + \"\\nNumber of lines:\\t\\t\" + str(self.numlines))\n",
    "        return string  "
   ]
  },
  {
   "cell_type": "code",
   "execution_count": 154,
   "metadata": {},
   "outputs": [
    {
     "name": "stdout",
     "output_type": "stream",
     "text": [
      "[('This', 'I', 'there', 'I', 'i'), ('is', 'hope', 'are', 'need', 'will'), ('my', 'it', 'five', 'words', 'build'), ('text', 'work', 'words', 'that', 'a'), ('file', 'well', 'here', 'are', 'haiku')]\n",
      "build\n",
      "This I there I i\n",
      "is hope are need will\n",
      "my it five words build\n",
      "text work words that a\n",
      "file well here are haiku\n",
      "Source File:\t\t\twork.txt\n",
      "Total characters:\t\t109\n",
      "Alphabetic Characters:\t\t85\n",
      "Numerical characters:\t\t0\n",
      "Whitespace characters:\t\t24\n",
      "Number of lines:\t\t0\n"
     ]
    }
   ],
   "source": [
    "cf1 = ContentFilter(\"work.txt\")\n",
    "cf1.transpose('copy.txt', 'w')\n",
    "print(cf1)"
   ]
  }
 ],
 "metadata": {
  "kernelspec": {
   "display_name": "Python 3",
   "language": "python",
   "name": "python3"
  },
  "language_info": {
   "codemirror_mode": {
    "name": "ipython",
    "version": 3
   },
   "file_extension": ".py",
   "mimetype": "text/x-python",
   "name": "python",
   "nbconvert_exporter": "python",
   "pygments_lexer": "ipython3",
   "version": "3.6.4"
  }
 },
 "nbformat": 4,
 "nbformat_minor": 2
}
