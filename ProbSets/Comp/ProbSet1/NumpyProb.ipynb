{
 "cells": [
  {
   "cell_type": "markdown",
   "metadata": {},
   "source": [
    "**Introduction to NumPy**"
   ]
  },
  {
   "cell_type": "markdown",
   "metadata": {},
   "source": [
    "**Problem 1:**"
   ]
  },
  {
   "cell_type": "code",
   "execution_count": 8,
   "metadata": {},
   "outputs": [
    {
     "data": {
      "text/plain": [
       "array([[ 37,  14, -32, -10],\n",
       "       [-54,  -7,  58,  65]])"
      ]
     },
     "execution_count": 8,
     "metadata": {},
     "output_type": "execute_result"
    }
   ],
   "source": [
    "import numpy as np \n",
    "\n",
    "#Write a function that defines the following matrices as NumPy arrays\n",
    "def problem_1(x, y):\n",
    "    return x @ y\n",
    "\n",
    "A = np.array([[3, -1, 4], [1, 5, -9]])\n",
    "B = np.array([[2, 6, -5, 3], [5, -8, 9, 7], [9, -3, -2, -3]])\n",
    "problem_1(A, B)"
   ]
  },
  {
   "cell_type": "markdown",
   "metadata": {},
   "source": [
    "**Problem 2:**"
   ]
  },
  {
   "cell_type": "code",
   "execution_count": 15,
   "metadata": {},
   "outputs": [
    {
     "data": {
      "text/plain": [
       "array([[0, 0, 0],\n",
       "       [0, 0, 0],\n",
       "       [0, 0, 0]])"
      ]
     },
     "execution_count": 15,
     "metadata": {},
     "output_type": "execute_result"
    }
   ],
   "source": [
    "# Write a function that defines the following matrix as a NumPy array.\n",
    "def problem_2(x):\n",
    "    answer = -x @ -x @ -x + 9 * x @ x - 15 * x\n",
    "    return answer\n",
    "\n",
    "A = np.array([[3, 1, 4], [1, 5, 9], [-5, 3, 1]])\n",
    "problem_2(A)"
   ]
  },
  {
   "cell_type": "markdown",
   "metadata": {},
   "source": [
    "**Problem 3:**"
   ]
  },
  {
   "cell_type": "code",
   "execution_count": 27,
   "metadata": {},
   "outputs": [
    {
     "data": {
      "text/plain": [
       "array([[ -1,   4,  15,  32,  55,  84, 119],\n",
       "       [ -6,  -6,   0,  12,  30,  54,  84],\n",
       "       [ -5, -10,  -9,  -2,  11,  30,  55],\n",
       "       [ -4,  -8, -12, -10,  -2,  12,  32],\n",
       "       [ -3,  -6,  -9, -12,  -9,   0,  15],\n",
       "       [ -2,  -4,  -6,  -8, -10,  -6,   4],\n",
       "       [ -1,  -2,  -3,  -4,  -5,  -6,  -1]])"
      ]
     },
     "execution_count": 27,
     "metadata": {},
     "output_type": "execute_result"
    }
   ],
   "source": [
    "# Write a function that defines the following matrices as NumPy arrays using the functions presented in this section.  \n",
    "def problem_3(A, B):\n",
    "    One = np.ones(7)\n",
    "    A = np.triu(One)\n",
    "    Five = np.full_like(A, 6)\n",
    "    B = np.triu(Five) - 1\n",
    "    answer = A @ B @ A\n",
    "    answer = answer.astype(np.int64)\n",
    "    return answer\n",
    "problem_3(A, B)"
   ]
  },
  {
   "cell_type": "markdown",
   "metadata": {},
   "source": [
    "**Problem 4:**"
   ]
  },
  {
   "cell_type": "code",
   "execution_count": 34,
   "metadata": {},
   "outputs": [
    {
     "data": {
      "text/plain": [
       "array([[  0,   4,  15,  32,  55,  84, 119],\n",
       "       [  0,   0,   0,  12,  30,  54,  84],\n",
       "       [  0,   0,   0,   0,  11,  30,  55],\n",
       "       [  0,   0,   0,   0,   0,  12,  32],\n",
       "       [  0,   0,   0,   0,   0,   0,  15],\n",
       "       [  0,   0,   0,   0,   0,   0,   4],\n",
       "       [  0,   0,   0,   0,   0,   0,   0]])"
      ]
     },
     "execution_count": 34,
     "metadata": {},
     "output_type": "execute_result"
    }
   ],
   "source": [
    "#Write a function that accepts a single array as input.\n",
    "def problem_4(X):\n",
    "    copy = np.copy(X)\n",
    "    mask = copy < 0 \n",
    "    copy[mask] = 0 \n",
    "    return copy\n",
    "problem_4(problem_3(A, B))"
   ]
  },
  {
   "cell_type": "markdown",
   "metadata": {},
   "source": [
    "**Problem 5:**"
   ]
  },
  {
   "cell_type": "code",
   "execution_count": 56,
   "metadata": {},
   "outputs": [
    {
     "data": {
      "text/plain": [
       "array([[ 0,  0,  0,  0,  1,  1,  0,  0],\n",
       "       [ 0,  0,  0,  2,  3,  0,  1,  0],\n",
       "       [ 0,  0,  0,  4,  5,  0,  0,  1],\n",
       "       [ 0,  2,  4,  0,  0,  0,  0,  0],\n",
       "       [ 1,  3,  5,  0,  0,  0,  0,  0],\n",
       "       [ 3,  0,  0,  0,  0, -2,  0,  0],\n",
       "       [ 3,  3,  0,  0,  0,  0, -2,  0],\n",
       "       [ 3,  3,  3,  0,  0,  0,  0, -2]])"
      ]
     },
     "execution_count": 56,
     "metadata": {},
     "output_type": "execute_result"
    }
   ],
   "source": [
    "#Write a function that\n",
    "def problem_5():\n",
    "    A = np.arange(6).reshape((3,2)).T\n",
    "    I = np.eye(3)\n",
    "    B = np.tril(np.full_like(I,3))\n",
    "    C = np.diag([-2, -2, -2])\n",
    "    x1 = np.vstack((np.zeros((3,3)), A, B))\n",
    "    x2 = np.vstack((A.T, np.zeros((2,2)), np.zeros((3,2))))\n",
    "    x3 = np.vstack((I, np.zeros((2,3)), C))\n",
    "    answer = np.hstack((x1,x2,x3))\n",
    "    answer = answer.astype(np.int64)\n",
    "    return answer\n",
    "problem_5()"
   ]
  },
  {
   "cell_type": "markdown",
   "metadata": {},
   "source": [
    "**Problem 6:**"
   ]
  },
  {
   "cell_type": "code",
   "execution_count": 86,
   "metadata": {},
   "outputs": [
    {
     "data": {
      "text/plain": [
       "array([[0.        , 0.33333333, 0.66666667],\n",
       "       [0.25      , 0.33333333, 0.41666667]])"
      ]
     },
     "execution_count": 86,
     "metadata": {},
     "output_type": "execute_result"
    }
   ],
   "source": [
    "def problem_6(X):\n",
    "    summed = X.sum(axis=1)\n",
    "    colsum = summed.reshape(-1,1)\n",
    "    answer = X / colsum\n",
    "    return answer\n",
    "mat = np.arange(6).reshape((2,3))\n",
    "problem_6(mat)\n"
   ]
  },
  {
   "cell_type": "markdown",
   "metadata": {},
   "source": [
    "**Problem 7:**"
   ]
  },
  {
   "cell_type": "code",
   "execution_count": 1,
   "metadata": {},
   "outputs": [
    {
     "data": {
      "text/plain": [
       "[48477312, 51267216, 40304286, 70600674]"
      ]
     },
     "execution_count": 1,
     "metadata": {},
     "output_type": "execute_result"
    }
   ],
   "source": [
    "import numpy as np\n",
    "def max_numbers():\n",
    "    grid = np.load(\"grid.npy\")\n",
    "    maxright = np.max(grid[:,:-3] * grid[:,1:-2] * grid[:,2:-1] * grid[:,3:])\n",
    "    maxup = np.max(grid[:-3,:] * grid[1:-2,:] * grid[2:-1,:] * grid[3:,:])\n",
    "    maxrightdiag = np.max(grid[:-3,:-3] * grid[1:-2,1:-2] * grid[2:-1,2:-1] * grid[3:,3:])\n",
    "    maxleftdiag = np.max(grid[:-3,3:] * grid[1:-2,2:-1] * grid[2:-1,1:-2] * grid[3:,:-3])\n",
    "    maxes = [maxright, maxup, maxrightdiag, maxleftdiag]\n",
    "    \n",
    "    return maxes\n",
    "max_numbers()"
   ]
  },
  {
   "cell_type": "code",
   "execution_count": null,
   "metadata": {},
   "outputs": [],
   "source": []
  }
 ],
 "metadata": {
  "kernelspec": {
   "display_name": "Python 3",
   "language": "python",
   "name": "python3"
  },
  "language_info": {
   "codemirror_mode": {
    "name": "ipython",
    "version": 3
   },
   "file_extension": ".py",
   "mimetype": "text/x-python",
   "name": "python",
   "nbconvert_exporter": "python",
   "pygments_lexer": "ipython3",
   "version": "3.6.4"
  }
 },
 "nbformat": 4,
 "nbformat_minor": 2
}
