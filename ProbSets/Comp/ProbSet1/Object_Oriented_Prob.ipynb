{
 "cells": [
  {
   "cell_type": "markdown",
   "metadata": {},
   "source": [
    "**Object Oriented Problems**\n",
    "\n",
    "**Problem 1 and Problem 3:**"
   ]
  },
  {
   "cell_type": "code",
   "execution_count": 77,
   "metadata": {},
   "outputs": [],
   "source": [
    "class Backpack:\n",
    "    \"\"\"A Backpack object class. Has a name, color, and max_size and a list of contents.\n",
    "    Attributes:\n",
    "        name (str): the name of the backpack's owner.\n",
    "        color (str): the color of the backpakself.\n",
    "        max_size (int): the maximum length of the backpack's contents.\n",
    "        contents (list): the contents of the backpack.\n",
    "    \"\"\"\n",
    "    def __init__(self, name, color, max_size=5):           # This function is the constructor.\n",
    "        \"\"\"Set the name, color, max_size and initialize an empty list of contents.\n",
    "        Parameters:\n",
    "            name (str): the name of the backpack's owner\n",
    "            color(str): the color of the Backpack\n",
    "            max_size(int): the max length of the backpack's contents.   The\n",
    "        default is 5.\n",
    "        \"\"\"\n",
    "        self.name = name                # Initialize some attributes.\n",
    "        self.color = color\n",
    "        self.max_size = max_size\n",
    "        self.contents = []\n",
    "    \n",
    "    def __eq__(self, other):\n",
    "        \"\"\"Checks to see if two Backpack objects are equal if and only if they have the same name, \n",
    "        color, and number of contents. This evokes ==.\n",
    "        \"\"\"\n",
    "        nameeq = self.name == other.name\n",
    "        coloreq = self.color == other.color\n",
    "        contentseq = len(self.contents) == len(other.contents)\n",
    "        return (nameeq and coloreq and contentseq)\n",
    "\n",
    "    def __str__(self):\n",
    "        \"\"\"Magic method of printing the class object.  It prints the Owner, Color, Size, Max Size,\n",
    "        and contents.  \n",
    "        \"\"\"\n",
    "        string = str(\"Owner:\\t\\t\" + str(self.name) + \"\\nColor:\\t\\t\" + str(self.color) + \"\\nSize:\\t\\t\" + str(len(self.contents))\n",
    "        + \"\\nMax Size:\\t\" + str(self.max_size) + \"\\nContents:\\t\" + str(self.contents))\n",
    "        return string\n",
    "    \n",
    "    def put(self, item):\n",
    "        \"\"\"Add 'item' to the backpack's list of contents if the size of the\n",
    "        contents is less than the maximum size\"\"\"\n",
    "        if (len(self.contents) >= self.max_size):\n",
    "            print(\"No Room!\")\n",
    "        else:\n",
    "            self.contents.append(item)  # Use 'self.contents', not just 'contents'.\n",
    "    def take(self, item):\n",
    "        \"\"\"Remove 'item' from the backpack's list of contents.\"\"\"\n",
    "        self.contents.remove(item)\n",
    "    def dump(self):\n",
    "        \"\"\"Reset the contents of the backpack\"\"\"\n",
    "        self.contents = []\n",
    "        print(\"You dumped out your backpack!\")\n"
   ]
  },
  {
   "cell_type": "code",
   "execution_count": 64,
   "metadata": {},
   "outputs": [
    {
     "name": "stdout",
     "output_type": "stream",
     "text": [
      "Fred Black 5 []\n"
     ]
    }
   ],
   "source": [
    "my_backpack = Backpack(\"Fred\", \"Black\")\n",
    "print(my_backpack.name, my_backpack.color, my_backpack.max_size, my_backpack.contents)"
   ]
  },
  {
   "cell_type": "code",
   "execution_count": 65,
   "metadata": {},
   "outputs": [
    {
     "name": "stdout",
     "output_type": "stream",
     "text": [
      "Backpack.name assigned incorrectly\n",
      "Contents: ['pencil', 'pen', 'paper', 'computer', 'water bottle']\n",
      "No Room!\n",
      "Contents: [] This should have none\n",
      "You dumped out your backpack!\n",
      "Contents: [] This should have none\n"
     ]
    }
   ],
   "source": [
    "def test_backpack():\n",
    "    testpack = Backpack(\"Barry\", \"black\",)       # Instantiate the object.\n",
    "    if testpack.name != \"Barry\":                # Test an attribute.\n",
    "        print(\"Backpack.name assigned incorrectly\")\n",
    "    \n",
    "    if testpack.color != \"black\":                # Test an attribute.\n",
    "        print(\"Backpack.color assigned incorrectly\")\n",
    "   \n",
    "    if testpack.max_size != \"5\":                # Test an attribute.\n",
    "        print(\"Backpack.name assigned incorrectly\")\n",
    "    \n",
    "    for item in [\"pencil\", \"pen\", \"paper\", \"computer\", \"water bottle\"]:\n",
    "        testpack.put(item)                      # Test a method.\n",
    "    print(\"Contents:\", testpack.contents)\n",
    "    \n",
    "    testpack.put(\"too much\")                    # Test a method\n",
    "    if len(testpack.contents) != 5:\n",
    "        print(\"Backpack put function assigned incorrectly\")\n",
    "    \n",
    "    for item in [\"pencil\", \"pen\", \"paper\", \"computer\", \"water bottle\"]:\n",
    "        testpack.take(item)                    # Test a method\n",
    "    print(\"Contents:\", testpack.contents, \"This should have none\")\n",
    "    \n",
    "    testpack.put(\"dump this\")\n",
    "    testpack.dump()                          # Test a method\n",
    "    print(\"Contents:\", testpack.contents, \"This should have none\")\n",
    "\n",
    "test_backpack()"
   ]
  },
  {
   "cell_type": "markdown",
   "metadata": {},
   "source": [
    "**Problem 2:**\n",
    "<br>This file is found under object_oriented.py under the class Jetpack"
   ]
  },
  {
   "cell_type": "code",
   "execution_count": 33,
   "metadata": {},
   "outputs": [],
   "source": [
    "class Jetpack(Backpack):\n",
    "    \"\"\"A jetpack object class. Inherits from the Backpack class.\n",
    "        A jetpack is smaller than a backpack and contains fuel.\n",
    "        Attributes:\n",
    "        name (str): the name of the jetpack's owner.\n",
    "        color (str): the color of the jetpack.\n",
    "        max_size (int): the maximum number of items that can fit inside.\n",
    "        contents (list): the contents of the jetpack.\n",
    "        fuel (int): the amount of fuel.\n",
    "    \"\"\"\n",
    "    def __init__(self, name, color, max_size=2, fuel=10):\n",
    "        \"\"\"Use the Backpack constructor to initialize the name, color,\n",
    "        and max_size attributes and adds fuel.  A jetpack only holds 2 items\n",
    "        by default and 10 fuel by default.\n",
    "        Parameters:\n",
    "            name (str): the name of the jetpack's owner.\n",
    "            color (str): the color of the jetpack.\n",
    "            max_size (int): the maximum number of items that can fit inside.\n",
    "            fuel (int): the amount of fuel the jetpack has.\n",
    "        \"\"\"\n",
    "        self.fuel = fuel\n",
    "\n",
    "    def fly(self, fuelamount):               #define a new method\n",
    "        \"\"\"Fly the jetpack.  This checks to see if the argument or the amount\n",
    "        you want to fly is below or equal to the amount of fuel you have.  If\n",
    "        so minus that amount off your fuel.\"\"\"\n",
    "        if (fuelamount > self.fuel):\n",
    "            print(\"Not enough fuel!\")\n",
    "        else:\n",
    "            self.fuel = self.fuel - fuelamount\n",
    "    def dump(self):          #overide the put() method\n",
    "        \"dump out contents and fuel\"\n",
    "        self.contents = []\n",
    "        self.fuel = 0"
   ]
  },
  {
   "cell_type": "code",
   "execution_count": 34,
   "metadata": {},
   "outputs": [
    {
     "name": "stdout",
     "output_type": "stream",
     "text": [
      "Not enough fuel!\n",
      "30\n",
      "[] 0\n"
     ]
    }
   ],
   "source": [
    "my_jetpack = Jetpack(\"Cache\", \"black\", 1, 30)\n",
    "my_jetpack.fly(31)\n",
    "print(my_jetpack.fuel)\n",
    "my_jetpack.dump()\n",
    "print(my_jetpack.contents, my_jetpack.fuel)\n"
   ]
  },
  {
   "cell_type": "markdown",
   "metadata": {},
   "source": [
    "**Problem 3:**\n",
    "<br>Check if problem 3 was implemented correctly."
   ]
  },
  {
   "cell_type": "code",
   "execution_count": 78,
   "metadata": {},
   "outputs": [
    {
     "name": "stdout",
     "output_type": "stream",
     "text": [
      "True\n",
      "False\n",
      "Owner:\t\tCache\n",
      "Color:\t\tblack\n",
      "Size:\t\t1\n",
      "Max Size:\t5\n",
      "Contents:\t['paper']\n"
     ]
    }
   ],
   "source": [
    "pack1 = Backpack(\"Cache\", \"black\")\n",
    "pack2 = Backpack(\"Cache\", \"black\")\n",
    "pack3 = Backpack(\"Jan\", \"Orange\")\n",
    "pack1.put(\"paper\")\n",
    "pack2.put(\"pens\")\n",
    "pack3.put(\"cars\")\n",
    "print(pack1 == pack2)\n",
    "print(pack1 == pack3)\n",
    "print(pack1)\n"
   ]
  },
  {
   "cell_type": "markdown",
   "metadata": {},
   "source": [
    "**Problem 4:**"
   ]
  },
  {
   "cell_type": "code",
   "execution_count": 138,
   "metadata": {},
   "outputs": [],
   "source": [
    "import math\n",
    "class ComplexNumber:\n",
    "    \"\"\"A ComplexNumber object class. Has a real and imaginary object\n",
    "    Attributes:\n",
    "        real (int): the real number.\n",
    "        imag (str): the imaginary number.\n",
    "    \"\"\"\n",
    "    def __init__(self, real, imag):           # This function is the constructor.\n",
    "        \"\"\"Set the real and imaginary number.\n",
    "        Parameters:\n",
    "            real (int): the real number.\n",
    "            imag (str): the imaginary number.\n",
    "        \"\"\"\n",
    "        self.real = real               # Initialize some attributes.\n",
    "        self.imag = imag\n",
    "    \n",
    "    def __str__(self):\n",
    "        \"\"\"Print out the Complex number. Make sure it's negative or positive.\"\"\"\n",
    "        if (self.imag >= 0):\n",
    "            string = str(\"(\" + str(self.real) + \"+\" + str(self.imag) + \"j)\")\n",
    "        else:\n",
    "            string = str(\"(\" + str(self.real) + \"-\" + str(abs(self.imag)) + \"j)\") \n",
    "        return string\n",
    "    \n",
    "    def __abs__(self):\n",
    "        \"\"\"Do the absolute value of a complex number. \"\"\"\n",
    "        return math.sqrt(self.real * self.real + self.imag * self.imag)\n",
    "\n",
    "    def __eq__(self, other):\n",
    "        \"\"\"do the equality\"\"\"\n",
    "        return (self.real == other.real, self.imag == other.imag )\n",
    "    \n",
    "    def __add__(self, other):\n",
    "        \"\"\"Do the addition\"\"\"\n",
    "        return ComplexNumber(self.real + other.real, self.imag + other.imag)\n",
    "    \n",
    "    def __sub__(self, other):\n",
    "        \"\"\"Do the subtraction of two complex numbers\"\"\"\n",
    "        return ComplexNumber(self.real - other.real, self.imag - other.imag)\n",
    "        \n",
    "    def __mul__(self, other):\n",
    "        \"\"\"\"Do the multiplication of two complex numbers\"\"\"\n",
    "        return ComplexNumber(self.real * other.real + self.imag * other.imag * (-1), self.real * other.imag + self.imag * other.imag)\n",
    "    \n",
    "    def __truediv__(self, other):\n",
    "        \"\"\"Do the division of two complex numbers\"\"\"\n",
    "        a = self.real\n",
    "        b = self.imag\n",
    "        c = other.real\n",
    "        d = other.imag\n",
    "        return ComplexNumber((a*c + b*d)/(c*c + d*d), (b*c - b*d)/(c*c + d*d))\n",
    "        \n",
    "    def conjugate(self):\n",
    "        \"\"\"Create a conjugate\"\"\"\n",
    "        complexcong = ComplexNumber(self.real, -self.imag)\n",
    "        return complexcong\n",
    "    \n",
    "\n",
    "def test_ComplexNumber(a, b):\n",
    "    py_cnum, my_cnum = complex(a, b), ComplexNumber(a, b)\n",
    "    # Validate the constructor.\n",
    "    if my_cnum.real != a or my_cnum.imag != b:\n",
    "        print(\"__init__() set self.real and self.imag incorrectly\")\n",
    "    # Validate conjugate() by checking the new number's imag attribute.\n",
    "    if py_cnum.conjugate().imag != my_cnum.conjugate().imag:\n",
    "        print(\"conjugate() failed for\", py_cnum)\n",
    "    # Validate __str__().\n",
    "    if str(py_cnum) != str(my_cnum):\n",
    "        print(\"__str__() failed for\", py_cnum)\n",
    "    # Validate __abs__().\n",
    "    if abs(py_cnum) != abs(my_cnum):\n",
    "        print(\"__abs__() failed for\", py_cnum)\n",
    "    # Validate __eq__().\n",
    "    if py_cnum != my_cnum:\n",
    "        print(\"__eq__() failed for\", py_cnum)    \n",
    "\n",
    "    py_cnum2, my_cnum2 = complex(a + 1, b - 1), ComplexNumber(a + 1, b - 1)\n",
    "\n",
    "    # Validate __add__(). \n",
    "    if py_cnum + py_cnum2 != my_cnum + my_cnum2:\n",
    "        print(\"__add__() failed\")\n",
    "    # Validate __sub__().\n",
    "    if py_cnum - py_cnum2 != my_cnum - my_cnum2:\n",
    "        print(\"__sub__() failed\")\n",
    "    # Validate __mul__().\n",
    "    if py_cnum * py_cnum2 != my_cnum * my_cnum2:\n",
    "        print(\"__mul__() failed\")\n",
    "    # Validate __truediv__().\n",
    "    if py_cnum / py_cnum2 != my_cnum / my_cnum2:\n",
    "        print(\"__truediv__() failed\")       \n",
    "test_ComplexNumber(2, 2)"
   ]
  }
 ],
 "metadata": {
  "kernelspec": {
   "display_name": "Python 3",
   "language": "python",
   "name": "python3"
  },
  "language_info": {
   "codemirror_mode": {
    "name": "ipython",
    "version": 3
   },
   "file_extension": ".py",
   "mimetype": "text/x-python",
   "name": "python",
   "nbconvert_exporter": "python",
   "pygments_lexer": "ipython3",
   "version": "3.6.4"
  }
 },
 "nbformat": 4,
 "nbformat_minor": 2
}
