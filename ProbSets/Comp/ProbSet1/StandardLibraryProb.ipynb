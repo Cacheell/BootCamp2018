{
 "cells": [
  {
   "cell_type": "markdown",
   "metadata": {},
   "source": [
    "**Problem 1:**"
   ]
  },
  {
   "cell_type": "code",
   "execution_count": 8,
   "metadata": {},
   "outputs": [],
   "source": [
    "import numpy as np"
   ]
  },
  {
   "cell_type": "code",
   "execution_count": 9,
   "metadata": {},
   "outputs": [
    {
     "data": {
      "text/plain": [
       "(1, 8, 4.5)"
      ]
     },
     "execution_count": 9,
     "metadata": {},
     "output_type": "execute_result"
    }
   ],
   "source": [
    "#A function that passes in a list and returns the minimum, maximum, and average of the entries of L.\n",
    "my_list = [1, 2, 3, 4, 5, 6, 7, 8]\n",
    "f = lambda x: (min(x), max(x), np.mean(x))\n",
    "f(my_list)"
   ]
  },
  {
   "cell_type": "markdown",
   "metadata": {},
   "source": [
    "**Problem 2:**"
   ]
  },
  {
   "cell_type": "code",
   "execution_count": 22,
   "metadata": {},
   "outputs": [
    {
     "name": "stdout",
     "output_type": "stream",
     "text": [
      "False\n",
      "False\n",
      "True\n",
      "False\n",
      "True\n"
     ]
    }
   ],
   "source": [
    "my_int = int(5)\n",
    "my_string = \"hello world\"\n",
    "my_list = [1 ,2 ,3 ,4 ,5]\n",
    "my_tuple = (1, 2, 3, 4, 5, 6)\n",
    "my_set = set([\"Postcard\", \"Radio\", \"Telegram\"])\n",
    "new_int = my_int\n",
    "new_string = my_string\n",
    "new_list = my_list\n",
    "new_tuple = my_tuple\n",
    "new_set = my_set\n",
    "\n",
    "new_int += 1\n",
    "new_string = \"hello worlp\"\n",
    "new_list[3] = 100\n",
    "new_tuple += (1,)\n",
    "new_set.add('s')\n",
    "\n",
    "print(new_int == my_int)\n",
    "print(new_string == my_string)\n",
    "print(new_list == my_list)\n",
    "print(new_tuple == my_tuple)\n",
    "print(new_set == my_set)"
   ]
  },
  {
   "cell_type": "markdown",
   "metadata": {},
   "source": [
    "**Problem 3:**"
   ]
  },
  {
   "cell_type": "code",
   "execution_count": 31,
   "metadata": {},
   "outputs": [
    {
     "data": {
      "text/plain": [
       "1.4142135623730951"
      ]
     },
     "execution_count": 31,
     "metadata": {},
     "output_type": "execute_result"
    }
   ],
   "source": [
    "import calculator as cl\n",
    "def find_hyp(A, B):\n",
    "    new_side = cl.sqrt(cl.add(cl.times(A, A),cl.times(B, B)))\n",
    "    return new_side\n",
    "find_hyp(1, 1)"
   ]
  },
  {
   "cell_type": "markdown",
   "metadata": {},
   "source": [
    "**Problem 4:**"
   ]
  },
  {
   "cell_type": "code",
   "execution_count": 33,
   "metadata": {},
   "outputs": [
    {
     "name": "stdout",
     "output_type": "stream",
     "text": [
      "[(), ('j',), ('k',), ('l',), ('m',), ('j', 'k'), ('j', 'l'), ('j', 'm'), ('k', 'l'), ('k', 'm'), ('l', 'm'), ('j', 'k', 'l'), ('j', 'k', 'm'), ('j', 'l', 'm'), ('k', 'l', 'm'), ('j', 'k', 'l', 'm')]\n"
     ]
    }
   ],
   "source": [
    "from itertools import combinations, chain\n",
    "def powerset(A):\n",
    "    A = list(A)\n",
    "    return chain.from_iterable(combinations(A, i) for i in range(len(A) + 1))\n",
    "B = ['j', 'k', 'l', 'm']\n",
    "print(list(powerset(B)))\n",
    "# look over\n",
    "# It can't be a set of sets in Python because...."
   ]
  },
  {
   "cell_type": "markdown",
   "metadata": {},
   "source": [
    "**Problem 5:**\n"
   ]
  },
  {
   "cell_type": "code",
   "execution_count": null,
   "metadata": {},
   "outputs": [],
   "source": [
    "import box\n"
   ]
  }
 ],
 "metadata": {
  "kernelspec": {
   "display_name": "Python 3",
   "language": "python",
   "name": "python3"
  },
  "language_info": {
   "codemirror_mode": {
    "name": "ipython",
    "version": 3
   },
   "file_extension": ".py",
   "mimetype": "text/x-python",
   "name": "python",
   "nbconvert_exporter": "python",
   "pygments_lexer": "ipython3",
   "version": "3.6.4"
  }
 },
 "nbformat": 4,
 "nbformat_minor": 2
}
