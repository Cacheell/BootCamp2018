{
 "cells": [
  {
   "cell_type": "markdown",
   "metadata": {},
   "source": [
    "**Problem 1:**"
   ]
  },
  {
   "cell_type": "code",
   "execution_count": 8,
   "metadata": {},
   "outputs": [],
   "source": [
    "import numpy as np"
   ]
  },
  {
   "cell_type": "code",
   "execution_count": 9,
   "metadata": {},
   "outputs": [
    {
     "data": {
      "text/plain": [
       "(1, 8, 4.5)"
      ]
     },
     "execution_count": 9,
     "metadata": {},
     "output_type": "execute_result"
    }
   ],
   "source": [
    "#A function that passes in a list and returns the minimum, maximum, and average of the entries of L.\n",
    "my_list = [1, 2, 3, 4, 5, 6, 7, 8]\n",
    "f = lambda x: (min(x), max(x), np.mean(x))\n",
    "f(my_list)"
   ]
  },
  {
   "cell_type": "markdown",
   "metadata": {},
   "source": [
    "**Problem 2:**"
   ]
  },
  {
   "cell_type": "code",
   "execution_count": 1,
   "metadata": {},
   "outputs": [
    {
     "name": "stdout",
     "output_type": "stream",
     "text": [
      "False\n",
      "False\n",
      "True\n",
      "False\n",
      "True\n"
     ]
    }
   ],
   "source": [
    "my_int = int(5)\n",
    "my_string = \"hello world\"\n",
    "my_list = [1 ,2 ,3 ,4 ,5]\n",
    "my_tuple = (1, 2, 3, 4, 5, 6)\n",
    "my_set = set([\"Postcard\", \"Radio\", \"Telegram\"])\n",
    "new_int = my_int\n",
    "new_string = my_string\n",
    "new_list = my_list\n",
    "new_tuple = my_tuple\n",
    "new_set = my_set\n",
    "\n",
    "new_int += 1\n",
    "new_string = \"hello worlp\"\n",
    "new_list[3] = 100\n",
    "new_tuple += (1,)\n",
    "new_set.add('s')\n",
    "\n",
    "print(new_int == my_int)\n",
    "print(new_string == my_string)\n",
    "print(new_list == my_list)\n",
    "print(new_tuple == my_tuple)\n",
    "print(new_set == my_set)"
   ]
  },
  {
   "cell_type": "markdown",
   "metadata": {},
   "source": [
    "**Problem 3:**"
   ]
  },
  {
   "cell_type": "code",
   "execution_count": 2,
   "metadata": {},
   "outputs": [
    {
     "data": {
      "text/plain": [
       "1.4142135623730951"
      ]
     },
     "execution_count": 2,
     "metadata": {},
     "output_type": "execute_result"
    }
   ],
   "source": [
    "import calculator as cl\n",
    "def find_hyp(A, B):\n",
    "    new_side = cl.sqrt(cl.add(cl.times(A, A),cl.times(B, B)))\n",
    "    return new_side\n",
    "find_hyp(1, 1)"
   ]
  },
  {
   "cell_type": "markdown",
   "metadata": {},
   "source": [
    "**Problem 4:**"
   ]
  },
  {
   "cell_type": "code",
   "execution_count": 3,
   "metadata": {},
   "outputs": [
    {
     "name": "stdout",
     "output_type": "stream",
     "text": [
      "[(), ('j',), ('k',), ('l',), ('m',), ('j', 'k'), ('j', 'l'), ('j', 'm'), ('k', 'l'), ('k', 'm'), ('l', 'm'), ('j', 'k', 'l'), ('j', 'k', 'm'), ('j', 'l', 'm'), ('k', 'l', 'm'), ('j', 'k', 'l', 'm')]\n"
     ]
    }
   ],
   "source": [
    "from itertools import combinations, chain\n",
    "def powerset(A):\n",
    "    A = list(A)\n",
    "    return chain.from_iterable(combinations(A, i) for i in range(len(A) + 1))\n",
    "B = ['j', 'k', 'l', 'm']\n",
    "print(list(powerset(B)))\n",
    "# look over\n",
    "# It can't be a set of sets in Python because...."
   ]
  },
  {
   "cell_type": "markdown",
   "metadata": {},
   "source": [
    "**Problem 5:**\n",
    "Run from the command line.  Saved in shutthebox.py.  This is just here for reference.\n"
   ]
  },
  {
   "cell_type": "code",
   "execution_count": 5,
   "metadata": {},
   "outputs": [
    {
     "ename": "ValueError",
     "evalue": "invalid literal for int() with base 10: '/Users/cacheellsworth/Library/Jupyter/runtime/kernel-cd13fa1c-2427-45f7-a437-75770507250c.json'",
     "output_type": "error",
     "traceback": [
      "\u001b[0;31m---------------------------------------------------------------------------\u001b[0m",
      "\u001b[0;31mValueError\u001b[0m                                Traceback (most recent call last)",
      "\u001b[0;32m<ipython-input-5-d88a4a0cff43>\u001b[0m in \u001b[0;36m<module>\u001b[0;34m()\u001b[0m\n\u001b[1;32m     10\u001b[0m \u001b[0mname\u001b[0m \u001b[0;34m=\u001b[0m \u001b[0msys\u001b[0m\u001b[0;34m.\u001b[0m\u001b[0margv\u001b[0m\u001b[0;34m[\u001b[0m\u001b[0;36m1\u001b[0m\u001b[0;34m]\u001b[0m\u001b[0;34m\u001b[0m\u001b[0m\n\u001b[1;32m     11\u001b[0m \u001b[0mtimelim\u001b[0m \u001b[0;34m=\u001b[0m \u001b[0msys\u001b[0m\u001b[0;34m.\u001b[0m\u001b[0margv\u001b[0m\u001b[0;34m[\u001b[0m\u001b[0;36m2\u001b[0m\u001b[0;34m]\u001b[0m\u001b[0;34m\u001b[0m\u001b[0m\n\u001b[0;32m---> 12\u001b[0;31m \u001b[0mtimelimsec\u001b[0m \u001b[0;34m=\u001b[0m \u001b[0mint\u001b[0m\u001b[0;34m(\u001b[0m\u001b[0mtimelim\u001b[0m\u001b[0;34m)\u001b[0m\u001b[0;34m\u001b[0m\u001b[0m\n\u001b[0m\u001b[1;32m     13\u001b[0m \u001b[0;34m\u001b[0m\u001b[0m\n\u001b[1;32m     14\u001b[0m \u001b[0mnumbers\u001b[0m \u001b[0;34m=\u001b[0m \u001b[0mlist\u001b[0m\u001b[0;34m(\u001b[0m\u001b[0mrange\u001b[0m\u001b[0;34m(\u001b[0m\u001b[0;36m1\u001b[0m\u001b[0;34m,\u001b[0m \u001b[0;36m10\u001b[0m\u001b[0;34m)\u001b[0m\u001b[0;34m)\u001b[0m\u001b[0;34m\u001b[0m\u001b[0m\n",
      "\u001b[0;31mValueError\u001b[0m: invalid literal for int() with base 10: '/Users/cacheellsworth/Library/Jupyter/runtime/kernel-cd13fa1c-2427-45f7-a437-75770507250c.json'"
     ]
    }
   ],
   "source": [
    "import box\n",
    "import time\n",
    "import sys\n",
    "import random\n",
    "\n",
    "#Require three total command line arguments\n",
    "if len(sys.argv) != 3:\n",
    "    print(\"You need exactly 3 arguments\")\n",
    "    quit()\n",
    "name = sys.argv[1]\n",
    "timelim = sys.argv[2]\n",
    "timelimsec = int(timelim)\n",
    "\n",
    "numbers = list(range(1, 10))\n",
    "begintime = time.time()\n",
    "timediff = 0\n",
    " \n",
    "while timelimsec - timediff > 0:\n",
    "    print(\"Remaining Numbers = \", numbers)\n",
    "    if sum(numbers) <= 6:\n",
    "        dice = random.randint(1, 6)\n",
    "    else:\n",
    "        dice = random.randint(1, 6) + random.randint(1, 6)\n",
    "    print(\"Your dice roll is \", dice)\n",
    "    if not box.isvalid(dice, numbers):\n",
    "        print(\"Game is Done\")\n",
    "        quit()\n",
    "    timediff = time.time() - begintime\n",
    "    print(\"Seconds left = \", timelimsec - timediff)\n",
    "    indicator = False\n",
    "    while inputs == False:\n",
    "        name_input = input(\"Numbers to eliminate = \")\n",
    "        parsed_input = box.parse_input(name_input, numbers)\n",
    "        if parsed_input:\n",
    "            if sum(parsed_input) == dice:\n",
    "                for i in range(1, len(parsed_input) + 1):\n",
    "                    remaining.remove(parsed_input[i-1])\n",
    "                indiactor = True\n",
    "            else:\n",
    "                print(\"Invalid input\")\n",
    "        else:\n",
    "            print(\"Invalid input\")\n",
    "    print(\"\")\n",
    "    if not remaining:\n",
    "        print(name, \"'s score: 0 points\")\n",
    "        print(\"Time played = \", timediff, \"seconds\")\n",
    "        quit()\n",
    "print(\"Game over\")"
   ]
  },
  {
   "cell_type": "code",
   "execution_count": null,
   "metadata": {},
   "outputs": [],
   "source": []
  }
 ],
 "metadata": {
  "kernelspec": {
   "display_name": "Python 3",
   "language": "python",
   "name": "python3"
  },
  "language_info": {
   "codemirror_mode": {
    "name": "ipython",
    "version": 3
   },
   "file_extension": ".py",
   "mimetype": "text/x-python",
   "name": "python",
   "nbconvert_exporter": "python",
   "pygments_lexer": "ipython3",
   "version": "3.6.4"
  }
 },
 "nbformat": 4,
 "nbformat_minor": 2
}
