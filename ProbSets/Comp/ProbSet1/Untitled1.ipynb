{
 "cells": [
  {
   "cell_type": "code",
   "execution_count": 25,
   "metadata": {},
   "outputs": [
    {
     "data": {
      "text/plain": [
       "6"
      ]
     },
     "execution_count": 25,
     "metadata": {},
     "output_type": "execute_result"
    }
   ],
   "source": [
    "import itertools as it\n",
    "import numpy as np\n",
    "def count_sets(cards):\n",
    "    \n",
    "    if len(cards) != 12:\n",
    "        raise ValueError(\"there are not exactly 12 cards\")\n",
    "    setofcards = set(cards)\n",
    "    if len(setofcards) != 12:\n",
    "        raise ValueError(\"the cards are not all unique\")\n",
    "    for i in cards:\n",
    "        if len(i) != 4:\n",
    "            raise ValueError(\"one or more cards does not have exactly 4 digits\")\n",
    "        for j in i:\n",
    "            if j == '0' or j == '1' or j == '2':\n",
    "                pass\n",
    "            else:\n",
    "                raise ValueError(\"one or more cards has a character other than 0, 1, or 2\")\n",
    "    poss_sets = list(it.combinations(cards, 3))\n",
    "    poss_sets_len = len(poss_sets)\n",
    "    poss_sets_vec = np.zeros(poss_sets_len)\n",
    "    for i, val in enumerate(poss_sets):\n",
    "        if is_set(*val):\n",
    "            poss_sets_vec[i] = 1\n",
    "    return int(sum(poss_sets_vec))\n",
    "\"\"\"Return the number of sets in the provided Set hand.\n",
    "     Parameters:\n",
    "         cards (list(str)) a list of twelve cards as 4-bit integers in\n",
    "         base 3 as strings, such as [\"1022\", \"1122\", ..., \"1020\"].\n",
    "     Returns:\n",
    "         (int) The number of sets in the hand.\n",
    "     Raises:\n",
    "         ValueError: if the list does not contain a valid Set hand, meaning\n",
    "             - there are not exactly 12 cards,\n",
    "             - the cards are not all unique,\n",
    "             - one or more cards does not have exactly 4 digits, or\n",
    "             - one or more cards has a character other than 0, 1, or 2.\n",
    "\"\"\"\n",
    "    \n",
    "\n",
    "def is_set(a, b, c):\n",
    "\n",
    "    set1 = {a[0], b[0], c[0]}\n",
    "    set2 = {a[1], b[1], c[1]}\n",
    "    set3 = {a[2], b[2], c[2]}\n",
    "    set4 = {a[3], b[3], c[3]}\n",
    "    digit1 = (len(set1) == 1 or len(set1) == 3)\n",
    "    digit2 = (len(set2) == 1 or len(set2) == 3)\n",
    "    digit3 = (len(set3) == 1 or len(set3) == 3)\n",
    "    digit4 = (len(set4) == 1 or len(set4) == 3)\n",
    "    if digit1 == True and digit2 == True and digit3 == True and digit4 == True:\n",
    "        return True\n",
    "    else:\n",
    "        return False\n",
    "\"\"\"Determine if the cards a, b, and c constitute a set.\n",
    "     Parameters:\n",
    "         a, b, c (str): string representations of 4-bit integers in base 3.\n",
    "             For example, \"1022\", \"1122\", and \"1020\" (which is not a set).\n",
    "     Returns:\n",
    "         True if a, b, and c form a set, meaning the ith digit of a, b,\n",
    "             and c are either the same or all different for i=1,2,3,4.\n",
    "         False if a, b, and c do not form a set.\n",
    "\"\"\"\n",
    "a = \"1022\"\n",
    "b = \"2021\"\n",
    "c = \"0020\"\n",
    "d = \"1023\"\n",
    "is_set(a, b, c)\n",
    "hand1 = [\"1022\", \"1122\", \"0100\", \"2021\",\n",
    "         \"0010\", \"2201\", \"2111\", \"0020\",\n",
    "         \"1102\", \"0210\", \"2110\", \"1020\"]\n",
    "count_sets(hand1)\n"
   ]
  },
  {
   "cell_type": "code",
   "execution_count": null,
   "metadata": {},
   "outputs": [],
   "source": []
  }
 ],
 "metadata": {
  "kernelspec": {
   "display_name": "Python 3",
   "language": "python",
   "name": "python3"
  },
  "language_info": {
   "codemirror_mode": {
    "name": "ipython",
    "version": 3
   },
   "file_extension": ".py",
   "mimetype": "text/x-python",
   "name": "python",
   "nbconvert_exporter": "python",
   "pygments_lexer": "ipython3",
   "version": "3.6.4"
  }
 },
 "nbformat": 4,
 "nbformat_minor": 2
}
