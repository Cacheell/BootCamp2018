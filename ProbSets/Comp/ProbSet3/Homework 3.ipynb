{
 "cells": [
  {
   "cell_type": "markdown",
   "metadata": {},
   "source": [
    "# Problem Set #3: Decomposition\n",
    "\n",
    "## QR Decomposition:\n",
    "\n",
    "### Problem 1[Fix]]"
   ]
  },
  {
   "cell_type": "code",
   "execution_count": 25,
   "metadata": {},
   "outputs": [
    {
     "name": "stdout",
     "output_type": "stream",
     "text": [
      "[[-0.28895041  0.15805993  0.55828374  0.74900783]\n",
      " [-0.5665607  -0.27245354 -0.23527846 -0.07940025]\n",
      " [-0.65849091 -0.36836893  0.06263079 -0.14180955]\n",
      " [-0.20984914  0.43861448  0.33275132 -0.33396764]\n",
      " [-0.2503625   0.51534823 -0.70266167  0.35815143]\n",
      " [-0.23492191  0.55418769  0.15679236 -0.41565142]] \n",
      "\n",
      " [[-1.47387337 -1.63092263 -1.31058918 -1.70982885]\n",
      " [ 0.          0.67174618  0.58839524  0.67931909]\n",
      " [ 0.          0.          0.8770218  -0.15153499]\n",
      " [ 0.          0.          0.         -0.52563108]] \n",
      "\n",
      "[[-4.24183357e-18  0.00000000e+00  0.00000000e+00  0.00000000e+00]\n",
      " [ 3.25150143e-17  0.00000000e+00  0.00000000e+00  0.00000000e+00]\n",
      " [ 2.37243828e-17  0.00000000e+00  0.00000000e+00  0.00000000e+00]\n",
      " [-1.16097472e-17  0.00000000e+00  0.00000000e+00  0.00000000e+00]\n",
      " [-2.44521956e-17  0.00000000e+00  0.00000000e+00  0.00000000e+00]\n",
      " [-2.43468944e-17  0.00000000e+00  0.00000000e+00  0.00000000e+00]] \n",
      "\n",
      " [[ 1.00000000e+00  3.25252268e-16  2.62399622e-16  3.42934006e-16]\n",
      " [ 1.84399504e-16  1.00000000e+00  0.00000000e+00  0.00000000e+00]\n",
      " [-1.41476748e-18  0.00000000e+00  1.00000000e+00  0.00000000e+00]\n",
      " [ 3.02379097e-18  0.00000000e+00  0.00000000e+00  1.00000000e+00]] \n",
      "\n",
      "True\n",
      "False\n",
      "False\n"
     ]
    }
   ],
   "source": [
    "from scipy import linalg as la\n",
    "import numpy as np\n",
    "\n",
    "def QRdecom(A):\n",
    "    m, n = A.shape\n",
    "    Q = np.copy(A)\n",
    "    R = np.zeros((n,n))\n",
    "    for i in range(n):\n",
    "        R[i,i] = la.norm(A[:,i])\n",
    "        Q[:,i] = Q[:,i] / R[i,i]\n",
    "        for j in range(n):\n",
    "            R[i,j] = Q[:, j].T @ Q[:, i]\n",
    "            Q[:,j] = Q[:,j] - (R[i, j] * Q[:, i])\n",
    "    return Q, R\n",
    "m, n = 6, 4\n",
    "A = np.random.random((m,n))\n",
    "Q, R = QRdecom(A)\n",
    "Q2, R2 = la.qr(A, mode='economic')\n",
    "print(Q2, \"\\n\\n\", R2, \"\\n\")\n",
    "\n",
    "print(Q, \"\\n\\n\", R, \"\\n\")\n",
    "print(np.allclose(np.triu(R), R))\n",
    "print(np.allclose(Q.T @ Q, np.identity(n)))\n",
    "print(np.allclose(Q @ R, A))\n"
   ]
  },
  {
   "cell_type": "markdown",
   "metadata": {},
   "source": [
    "### Problem 2[[Fix]]"
   ]
  },
  {
   "cell_type": "code",
   "execution_count": 32,
   "metadata": {},
   "outputs": [
    {
     "name": "stdout",
     "output_type": "stream",
     "text": [
      "<function <lambda> at 0x10f840a60> 0.03347519845202254\n"
     ]
    }
   ],
   "source": [
    "def detQR(A):\n",
    "    Q, R = la.qr(A, mode='economic')\n",
    "    return abs(np.prod(np.diag(R)))\n",
    "determinant = lambda A: abs(np.prod(np.diag(R)))  \n",
    "m, n = 4, 4\n",
    "A = np.random.random((m,n))\n",
    "detQR(A)\n",
    "la.det(A)\n",
    "print(determinant,  detQR(A) )"
   ]
  },
  {
   "cell_type": "markdown",
   "metadata": {},
   "source": [
    "### Problem 3"
   ]
  },
  {
   "cell_type": "code",
   "execution_count": null,
   "metadata": {},
   "outputs": [],
   "source": [
    "def NLS(A, b):\n",
    "    Q, R = la.qr(A, mode='economic')\n",
    "    y = Q.T @ b\n",
    "    return la.inv(R) @ y\n",
    "m, n = 4, 4\n",
    "A = np.random.random((m,n))"
   ]
  },
  {
   "cell_type": "markdown",
   "metadata": {},
   "source": [
    "### Problem 4"
   ]
  },
  {
   "cell_type": "code",
   "execution_count": null,
   "metadata": {},
   "outputs": [],
   "source": []
  },
  {
   "cell_type": "markdown",
   "metadata": {},
   "source": [
    "### Problem 5"
   ]
  },
  {
   "cell_type": "code",
   "execution_count": null,
   "metadata": {},
   "outputs": [],
   "source": []
  },
  {
   "cell_type": "code",
   "execution_count": null,
   "metadata": {},
   "outputs": [],
   "source": []
  },
  {
   "cell_type": "code",
   "execution_count": null,
   "metadata": {},
   "outputs": [],
   "source": []
  }
 ],
 "metadata": {
  "kernelspec": {
   "display_name": "Python 3",
   "language": "python",
   "name": "python3"
  },
  "language_info": {
   "codemirror_mode": {
    "name": "ipython",
    "version": 3
   },
   "file_extension": ".py",
   "mimetype": "text/x-python",
   "name": "python",
   "nbconvert_exporter": "python",
   "pygments_lexer": "ipython3",
   "version": "3.6.4"
  }
 },
 "nbformat": 4,
 "nbformat_minor": 2
}
