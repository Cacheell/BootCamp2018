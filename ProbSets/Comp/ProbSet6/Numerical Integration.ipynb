{
 "cells": [
  {
   "cell_type": "markdown",
   "metadata": {},
   "source": [
    "## Exercise 14.1"
   ]
  },
  {
   "cell_type": "code",
   "execution_count": 4,
   "metadata": {},
   "outputs": [],
   "source": [
    "import numpy as np\n",
    "import scipy as sy\n"
   ]
  },
  {
   "cell_type": "code",
   "execution_count": 32,
   "metadata": {},
   "outputs": [
    {
     "name": "stdout",
     "output_type": "stream",
     "text": [
      "Midpoint : 4371.96476\n",
      "Trapezoid : 4459.654288\n",
      "Simpsons : 4351.5754825870645\n"
     ]
    }
   ],
   "source": [
    "g = lambda x: 0.1*x ** 4 - 1.5 *x ** 3 + 0.53 * x ** 2 + 2 * x + 1\n",
    "\n",
    "def integration(f, a, b, N, method):\n",
    "    if method == \"midpoint\":\n",
    "        xspace = np.array([a + ((2*i + 1) * (b - a)) / (2 *N) for i in range(N)])\n",
    "        return ((b - a)/ N) * np.sum(g(xspace))\n",
    "    elif method == \"trapezoid\":\n",
    "        xspace = np.array([a + (i * (b - a)) / (N) for i in range(N + 1)])\n",
    "        return ((b - a) / (2*N)) * (g(xspace[0]) + 2*np.sum(g(xspace[1:N-1])) + g(xspace[N]))\n",
    "    elif method == \"Simpsons\":\n",
    "        xspace = np.array([a + (i * (b - a)) / (2*N) for i in range(2*N + 1)])\n",
    "        part1 = (b - a) / (3*(2*N + 1))\n",
    "        firstsum = 0\n",
    "        secondsum = 0\n",
    "        for i in range(1, len(xspace) - 1):\n",
    "            if i % 2 == 0:\n",
    "                secondsum = g(xspace[i]) + secondsum\n",
    "            else:\n",
    "                firstsum = g(xspace[i]) + firstsum\n",
    "        part2 = (g(xspace[0]) + 4*firstsum + 2*secondsum + g(xspace[2*N]))\n",
    "        return part1 * part2\n",
    "    else:\n",
    "        return None\n",
    "\n",
    "a = -10\n",
    "b = 10\n",
    "N = 100\n",
    "\n",
    "print(\"Midpoint :\", integration(g, a, b, N, 'midpoint'))\n",
    "print(\"Trapezoid :\", integration(g, a, b, N, 'trapezoid'))\n",
    "print(\"Simpsons :\", integration(g, a, b, N, 'Simpsons'))"
   ]
  },
  {
   "cell_type": "markdown",
   "metadata": {},
   "source": [
    "## Exercise 14.2"
   ]
  },
  {
   "cell_type": "code",
   "execution_count": 34,
   "metadata": {},
   "outputs": [],
   "source": [
    "from scipy.stats import norm "
   ]
  },
  {
   "cell_type": "code",
   "execution_count": 55,
   "metadata": {},
   "outputs": [],
   "source": [
    "def newton_cotes_z(mu, sigma, N, k):\n",
    "    \n",
    "    Z = np.linspace(mu - k*sigma, mu + k*sigma, N)\n",
    "    omega = np.zeros_like(Z)\n",
    "    omega[0] = norm.cdf((Z[0] + Z[1]) / 2, loc=mu, scale=sigma)\n",
    "    omega[N - 1] = 1 - norm.cdf((Z[N - 2] + Z[N - 1]) / 2, loc=mu, scale=sigma)\n",
    "    for i in range(1, N - 2):\n",
    "        z_min = (Z[i - 1] + Z[i]) / 2\n",
    "        z_max = (Z[i] + Z[i + 1]) / 2\n",
    "        omega[i] = norm.cdf(z_max, loc=mu, scale=sigma) - norm.cdf(z_min, loc=mu, scale=sigma)\n",
    "    return Z, omega\n"
   ]
  },
  {
   "cell_type": "code",
   "execution_count": 56,
   "metadata": {},
   "outputs": [
    {
     "data": {
      "text/plain": [
       "(array([-3. , -2.4, -1.8, -1.2, -0.6,  0. ,  0.6,  1.2,  1.8,  2.4,  3. ]),\n",
       " array([0.00346697, 0.01439745, 0.04894278, 0.11725292, 0.19802845,\n",
       "        0.23582284, 0.19802845, 0.11725292, 0.04894278, 0.        ,\n",
       "        0.00346697]))"
      ]
     },
     "execution_count": 56,
     "metadata": {},
     "output_type": "execute_result"
    }
   ],
   "source": [
    "mu = 0\n",
    "k = 3\n",
    "sigma= 1\n",
    "N = 11\n",
    "newton_cotes_z(mu, sigma, N, k)"
   ]
  },
  {
   "cell_type": "markdown",
   "metadata": {},
   "source": [
    "## Exercise 14.3"
   ]
  },
  {
   "cell_type": "code",
   "execution_count": 64,
   "metadata": {},
   "outputs": [],
   "source": [
    "def lognormal_dist(f, mu, sigma, N, k):\n",
    "    logA, omega = f(mu, sigma, N, k)\n",
    "    A = np.exp(logA)\n",
    "    return A, omega"
   ]
  },
  {
   "cell_type": "code",
   "execution_count": 65,
   "metadata": {},
   "outputs": [
    {
     "data": {
      "text/plain": [
       "(array([ 0.04978707,  0.09071795,  0.16529889,  0.30119421,  0.54881164,\n",
       "         1.        ,  1.8221188 ,  3.32011692,  6.04964746, 11.02317638,\n",
       "        20.08553692]),\n",
       " array([0.00346697, 0.01439745, 0.04894278, 0.11725292, 0.19802845,\n",
       "        0.23582284, 0.19802845, 0.11725292, 0.04894278, 0.        ,\n",
       "        0.00346697]))"
      ]
     },
     "execution_count": 65,
     "metadata": {},
     "output_type": "execute_result"
    }
   ],
   "source": [
    "mu = 0\n",
    "k = 3\n",
    "sigma= 1\n",
    "N = 11\n",
    "\n",
    "lognormal_dist(newton_cotes_z, mu, sigma, N, k)"
   ]
  },
  {
   "cell_type": "markdown",
   "metadata": {},
   "source": [
    "## Exercise 14.4"
   ]
  },
  {
   "cell_type": "code",
   "execution_count": 78,
   "metadata": {},
   "outputs": [
    {
     "data": {
      "text/plain": [
       "49739.23910845465"
      ]
     },
     "execution_count": 78,
     "metadata": {},
     "output_type": "execute_result"
    }
   ],
   "source": [
    "mu = 10.5\n",
    "sigma = 0.8\n",
    "N = 100\n",
    "k = 3\n",
    "Y, omega = lognormal_dist(newton_cotes_z, mu, sigma, N, k)\n",
    "Y @ omega"
   ]
  },
  {
   "cell_type": "code",
   "execution_count": 72,
   "metadata": {},
   "outputs": [
    {
     "data": {
      "text/plain": [
       "50011.087008521754"
      ]
     },
     "execution_count": 72,
     "metadata": {},
     "output_type": "execute_result"
    }
   ],
   "source": [
    "np.exp(mu + sigma ** 2 / 2)"
   ]
  },
  {
   "cell_type": "markdown",
   "metadata": {},
   "source": [
    "## Exercise 14.5 ********************"
   ]
  },
  {
   "cell_type": "code",
   "execution_count": 10,
   "metadata": {},
   "outputs": [],
   "source": [
    "g = lambda x: 0.1*x ** 4 - 1.5 *x ** 3 + 0.53 * x ** 2 + 2 * x + 1\n",
    "a = -10\n",
    "b = 10\n",
    "N = 3\n",
    "\n",
    "def approx_gaussian_quad(params):\n",
    "    a = -10\n",
    "    b = 10\n",
    "    N = 100\n",
    "    w1, w2, w3, x1, x2, x3 = params\n",
    "    w = np.array([w1, w2, w3])\n",
    "    x = np.array([x1, x2, x3])\n",
    "    equations = np.empty(6)\n",
    "    for n in range(1, 7):\n",
    "        equations[n - 1] = (b**n - a**n) / n - w @(x ** (n-1))\n",
    "    return equations"
   ]
  },
  {
   "cell_type": "code",
   "execution_count": 11,
   "metadata": {},
   "outputs": [
    {
     "data": {
      "text/plain": [
       "4373.333333340381"
      ]
     },
     "execution_count": 11,
     "metadata": {},
     "output_type": "execute_result"
    }
   ],
   "source": [
    "from scipy.optimize import root\n",
    "import numpy as np\n",
    "output = root(approx_gaussian_quad, np.ones(6))\n",
    "w = output.x[:3]\n",
    "x = output.x[3:]\n",
    "np.sum(w*g(x))"
   ]
  },
  {
   "cell_type": "markdown",
   "metadata": {},
   "source": [
    "## Exercise 14.6"
   ]
  },
  {
   "cell_type": "code",
   "execution_count": 81,
   "metadata": {},
   "outputs": [
    {
     "data": {
      "text/plain": [
       "4373.333333333334"
      ]
     },
     "execution_count": 81,
     "metadata": {},
     "output_type": "execute_result"
    }
   ],
   "source": [
    "sy.integrate.quad(g, a, b)[0]"
   ]
  },
  {
   "cell_type": "markdown",
   "metadata": {},
   "source": [
    "The right number is 4373.3333...  So this is pretty accurate.\n",
    "\n",
    "## Exercise 14.7"
   ]
  },
  {
   "cell_type": "code",
   "execution_count": 82,
   "metadata": {},
   "outputs": [],
   "source": [
    "import random"
   ]
  },
  {
   "cell_type": "code",
   "execution_count": 5,
   "metadata": {},
   "outputs": [],
   "source": [
    "def monte_carlo(g, omega, N):\n",
    "    x = np.random.uniform(omega[0][0], omega[0][1], N)\n",
    "    y = np.random.uniform(omega[1][0], omega[1][1], N)\n",
    "    return (4 / N) * np.sum(g(x, y))\n"
   ]
  },
  {
   "cell_type": "code",
   "execution_count": 15,
   "metadata": {},
   "outputs": [
    {
     "data": {
      "text/plain": [
       "3.14155868"
      ]
     },
     "execution_count": 15,
     "metadata": {},
     "output_type": "execute_result"
    }
   ],
   "source": [
    "boundary = [[-1, 1], [-1, 1]]\n",
    "g = lambda x, y: (x**2 + y ** 2 <= 1)\n",
    "monte_carlo(g, boundary, 100000000)"
   ]
  },
  {
   "cell_type": "markdown",
   "metadata": {},
   "source": [
    "It takes aprox. around 100_000_000 to get to 3.1415"
   ]
  },
  {
   "cell_type": "markdown",
   "metadata": {},
   "source": [
    "## Exercise 14.8 *****"
   ]
  },
  {
   "cell_type": "code",
   "execution_count": null,
   "metadata": {},
   "outputs": [],
   "source": []
  },
  {
   "cell_type": "markdown",
   "metadata": {},
   "source": [
    "## Exercise 14.9 ****"
   ]
  },
  {
   "cell_type": "code",
   "execution_count": null,
   "metadata": {},
   "outputs": [],
   "source": []
  }
 ],
 "metadata": {
  "kernelspec": {
   "display_name": "Python 3",
   "language": "python",
   "name": "python3"
  },
  "language_info": {
   "codemirror_mode": {
    "name": "ipython",
    "version": 3
   },
   "file_extension": ".py",
   "mimetype": "text/x-python",
   "name": "python",
   "nbconvert_exporter": "python",
   "pygments_lexer": "ipython3",
   "version": "3.6.4"
  }
 },
 "nbformat": 4,
 "nbformat_minor": 2
}
