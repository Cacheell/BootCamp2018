{
 "cells": [
  {
   "cell_type": "markdown",
   "metadata": {},
   "source": [
    "## Problem 1 & 2 & ..."
   ]
  },
  {
   "cell_type": "code",
   "execution_count": 2,
   "metadata": {},
   "outputs": [],
   "source": [
    "import numpy as np"
   ]
  },
  {
   "cell_type": "code",
   "execution_count": 6,
   "metadata": {},
   "outputs": [],
   "source": [
    "class LinearProgram:\n",
    "    def __init__(self, c, A, b):\n",
    "        self.c = c\n",
    "        self.A = A\n",
    "        self.b = b\n",
    "        if (min(self.b) < 0):\n",
    "            raise ValueError('The origin is not feasible')\n",
    "        self.m = len(self.b)\n",
    "        self.n = len(self.c)\n",
    "        self.basic = np.arange(self.n, self.n + self.m)\n",
    "        self.non_basic = np.arange(0, self.n)\n",
    "        self.list = np.concatenate((self.basic, self.non_basic))\n",
    "        self.T = self.initial_tableau()\n",
    "        \n",
    "    def initial_tableau(self):\n",
    "        A_bar = np.hstack((self.A, np.eye(self.m)))\n",
    "        c_bar = np.hstack((self.c, np.zeros(self.m)))\n",
    "        T_top = np.hstack((0 , - c_bar, 1))\n",
    "        T_bottom = np.column_stack((self.b, A_bar, np.zeros(self.m)))\n",
    "        return np.vstack((T_top, T_bottom))\n",
    "    \n",
    "    def pivot_id(self):\n",
    "        piv_col = np.argwhere(self.T[0, 1:] < 0)[0][0]\n",
    "        if (max(self.T[1:, piv_col + 1]) <= 0):\n",
    "            return None\n",
    "        ratios = self.T[1:, 0] / self.T[1:, piv_col + 1] \n",
    "        \n",
    "        ## THis ISN\"T RIGHT BECAUSE IF A RATIO IS NEGATIVE it finds it.  Also NAN values.\n",
    "        piv_row = [i for i,x in enumerate(ratios) if x == min(ratios)][0]\n",
    "        piv_id = (piv_row + 1, piv_col + 1)\n",
    "        return piv_id\n",
    "    \n",
    "    def pivot(self):\n",
    "        piv_id = pivot_id(self)\n",
    "        row_id = piv_id[0]\n",
    "        col_id = piv_id[1]\n",
    "        #self.list = \n",
    "        self.T = self.T[row_id, :] / self.T[row_id, col_id]\n",
    "        if piv_id is None:\n",
    "            raise ValueError('This is a unbounded.')\n",
    "            \n",
    "    def solve(self):\n",
    "        while np.any(self.T[0] < 0):\n",
    "            self.pivot()\n",
    "        basic_dict = {self.basic[i]: round(self.T[i + 1, 0], 2) for i in range(self.m)}\n",
    "        non_basic_dict = {self.non_basic[i]: 0 for i in range(self.n)}\n",
    "        return self.T[0,0], basic_dict, nonbasic_dict\n",
    "    "
   ]
  },
  {
   "cell_type": "code",
   "execution_count": 7,
   "metadata": {},
   "outputs": [
    {
     "data": {
      "text/plain": [
       "array([2, 3, 4, 0, 1])"
      ]
     },
     "execution_count": 7,
     "metadata": {},
     "output_type": "execute_result"
    }
   ],
   "source": [
    "c = np.array([3, 2])\n",
    "A = np.array([[1, -1], [3, 1], [4, 3]])\n",
    "b = np.array([2, 5, 7])\n",
    "LinearProgram(c, A, b).pivot_id()\n",
    "LinearProgram(c, A, b).list"
   ]
  },
  {
   "cell_type": "code",
   "execution_count": null,
   "metadata": {},
   "outputs": [],
   "source": []
  }
 ],
 "metadata": {
  "kernelspec": {
   "display_name": "Python 3",
   "language": "python",
   "name": "python3"
  },
  "language_info": {
   "codemirror_mode": {
    "name": "ipython",
    "version": 3
   },
   "file_extension": ".py",
   "mimetype": "text/x-python",
   "name": "python",
   "nbconvert_exporter": "python",
   "pygments_lexer": "ipython3",
   "version": "3.6.4"
  }
 },
 "nbformat": 4,
 "nbformat_minor": 2
}
