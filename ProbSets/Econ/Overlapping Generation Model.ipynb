{
 "cells": [
  {
   "cell_type": "code",
   "execution_count": 2,
   "metadata": {},
   "outputs": [],
   "source": [
    "import numpy as np"
   ]
  },
  {
   "cell_type": "code",
   "execution_count": 3,
   "metadata": {},
   "outputs": [],
   "source": [
    "# Set parameters\n",
    "beta_annual = 0.96\n",
    "beta = beta_annual ** (20)\n",
    "sigma = 2.2\n",
    "n_vec = np.array([1.0, 1.0, 0.2])\n",
    "alpha = 0.35\n",
    "A = 1.0\n",
    "delta_annual = 0.05\n",
    "delta = 1 - (1 - delta_annual) ** 20\n",
    "\n",
    "T = 50\n",
    "path_toler = 1e-9\n",
    "xi = 0.2"
   ]
  },
  {
   "cell_type": "code",
   "execution_count": 4,
   "metadata": {},
   "outputs": [
    {
     "ename": "NameError",
     "evalue": "name 'get_SS' is not defined",
     "output_type": "error",
     "traceback": [
      "\u001b[0;31m---------------------------------------------------------------------------\u001b[0m",
      "\u001b[0;31mNameError\u001b[0m                                 Traceback (most recent call last)",
      "\u001b[0;32m<ipython-input-4-326aef101120>\u001b[0m in \u001b[0;36m<module>\u001b[0;34m()\u001b[0m\n\u001b[1;32m      1\u001b[0m \u001b[0;31m# Solve for the steady-state\u001b[0m\u001b[0;34m\u001b[0m\u001b[0;34m\u001b[0m\u001b[0m\n\u001b[0;32m----> 2\u001b[0;31m \u001b[0mb2bar\u001b[0m\u001b[0;34m,\u001b[0m \u001b[0mb3bar\u001b[0m \u001b[0;34m=\u001b[0m \u001b[0mget_SS\u001b[0m\u001b[0;34m(\u001b[0m\u001b[0;34m)\u001b[0m\u001b[0;34m\u001b[0m\u001b[0m\n\u001b[0m\u001b[1;32m      3\u001b[0m \u001b[0;34m\u001b[0m\u001b[0m\n\u001b[1;32m      4\u001b[0m \u001b[0;31m# Set Initial condition\u001b[0m\u001b[0;34m\u001b[0m\u001b[0;34m\u001b[0m\u001b[0m\n\u001b[1;32m      5\u001b[0m \u001b[0mb21\u001b[0m \u001b[0;34m=\u001b[0m \u001b[0;36m0.8\u001b[0m \u001b[0;34m*\u001b[0m \u001b[0mb2bar\u001b[0m\u001b[0;34m\u001b[0m\u001b[0m\n",
      "\u001b[0;31mNameError\u001b[0m: name 'get_SS' is not defined"
     ]
    }
   ],
   "source": [
    "# Solve for the steady-state\n",
    "b2bar, b3bar = get_SS()\n",
    "\n",
    "# Set Initial condition\n",
    "b21 = 0.8 * b2bar\n",
    "b31 = 1.1 * b3bar\n",
    "\n",
    "# Initial guess for K\n",
    "K1 = b21 + b31\n",
    "Kbar = b2bar + b3bar\n",
    "Kpath = np.linspace(K1, Kbar, T)\n",
    "rpath = get_r(Kpath, stuff)\n"
   ]
  },
  {
   "cell_type": "code",
   "execution_count": null,
   "metadata": {},
   "outputs": [],
   "source": []
  },
  {
   "cell_type": "code",
   "execution_count": null,
   "metadata": {},
   "outputs": [],
   "source": [
    "# solve for individual lifetime decisions\n",
    "def get_a_life(b2, rpath, wpath, nvec, beta, sigma):\n",
    "    return b3\n",
    "\n",
    "def get_some_lives(b1, rpath, wpath, nvec, beta, sigma):\n",
    "    return b2, b3\n",
    "\n",
    "    "
   ]
  },
  {
   "cell_type": "code",
   "execution_count": 17,
   "metadata": {},
   "outputs": [
    {
     "data": {
      "text/plain": [
       "array([[ 4.00000000e-01, -1.66533454e-16],\n",
       "       [ 0.00000000e+00,  1.00000000e+00]])"
      ]
     },
     "execution_count": 17,
     "metadata": {},
     "output_type": "execute_result"
    }
   ],
   "source": [
    "P = np.array([[-1, 2], [1, 1]])\n",
    "#P = np.array([[1, -1], [1, 0]])\n",
    "\n",
    "A = np.array([[.8, .4], [.2, .6]])\n",
    "np.linalg.inv(P) @ A @ P"
   ]
  },
  {
   "cell_type": "code",
   "execution_count": null,
   "metadata": {},
   "outputs": [],
   "source": [
    "bmat = np.zeros((T + 1, 2))\n",
    "get_a_life()\n",
    "diag_mask = np.eye(2, dtype=bool)\n",
    "for t in range(T + 1):\n",
    "    # solve for b2 and b3\n",
    "    get_some_lives()\n",
    "    \n",
    "Kpath_prime = bmat[:-1].sum(axis=1)\n",
    "\n",
    "dist = ((Kpath_prime - Kpath) ** 2).sum()\n",
    "\n",
    "Kpath_new = xi * Kpath_prime + (1 - xi) * Kpath"
   ]
  }
 ],
 "metadata": {
  "kernelspec": {
   "display_name": "Python 3",
   "language": "python",
   "name": "python3"
  },
  "language_info": {
   "codemirror_mode": {
    "name": "ipython",
    "version": 3
   },
   "file_extension": ".py",
   "mimetype": "text/x-python",
   "name": "python",
   "nbconvert_exporter": "python",
   "pygments_lexer": "ipython3",
   "version": "3.6.4"
  }
 },
 "nbformat": 4,
 "nbformat_minor": 2
}
