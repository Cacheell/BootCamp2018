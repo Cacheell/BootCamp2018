{
 "cells": [
  {
   "cell_type": "markdown",
   "metadata": {},
   "source": [
    "## OSM Bootcamp 2018 Exercise Set 1\n",
    "\n",
    "\n",
    "#### John Stachurski"
   ]
  },
  {
   "cell_type": "markdown",
   "metadata": {},
   "source": [
    "### Exercise 1\n",
    "\n",
    "Let $X$ be an $n \\times n$ matrix with all positive elements.  The spectral radius $r(X)$ of $X$ is maximum of $|\\lambda|$ over all eigenvalues $\\lambda$ of $X$, where $|\\cdot|$ is the modulus of a complex number.\n",
    "\n",
    "A version of the **local spectral radius theorem** states that if $X$ has all positive entries and $v$ is any strictly positive $n \\times 1$ vector, then\n",
    "\n",
    "$$\n",
    "    \\lim_{i \\to \\infty} \\| X^i v \\|^{1/i} \\to r(X) \n",
    "    \\qquad \\qquad \\text{(LSR)}\n",
    "$$\n",
    "\n",
    "where $\\| \\cdot \\|$ is the usual Euclidean norm.\n",
    "\n",
    "Intuitively, the norm of the iterates of a positive vector scale like $r(X)$ asymptotically.\n",
    "\n",
    "The data file `matrix_data.txt` contains the data for a single matrix $X$.  \n",
    "\n",
    "1. Read it in and compute the spectral raduis using the tools for working with eigenvalues in `scipy.linalg`.\n",
    "\n",
    "2. Test the claim in (LSR) iteratively, computing $\\| X^i v \\|^{1/i}$ for successively larger values of $i$.  See if the sequence so generated converges to $r(A)$."
   ]
  },
  {
   "cell_type": "code",
   "execution_count": null,
   "metadata": {},
   "outputs": [],
   "source": [
    "from scipy.linalg import eigvals\n",
    "from scipy.spatial.distance import cdist\n",
    "import numpy as np\n",
    "from matplotlib import pyplot as plt"
   ]
  },
  {
   "cell_type": "code",
   "execution_count": null,
   "metadata": {},
   "outputs": [],
   "source": [
    "f = open('matrix_data.txt', 'r')\n",
    "data = [[float(num) for num in line.split(' ')] for line in f]\n",
    "rA = np.max(abs(eigvals(data))) # The modulus of complex eigenvectors\n",
    "maxiter = 30000\n",
    "tolerance = 1e-60\n",
    "iterat = 1\n",
    "power = 1\n",
    "data = np.array(data)\n",
    "v = np.ones(len(data[:, 0]))\n",
    "step = 1\n",
    "while step > tolerance and iterat < maxiter:\n",
    "    rX = np.linalg.norm(np.matmul(np.linalg.matrix_power(data, power), np.transpose(v))) ** (1 / power)\n",
    "    step = abs(rA - rX)\n",
    "    power += power\n",
    "    iterat += iterat\n",
    "print(\"r(A)\\t\\t\", rA)\n",
    "print(\"r(X)\\t\\t\", rX)\n",
    "print(\"Iteration:\\t\", iterat)"
   ]
  },
  {
   "cell_type": "markdown",
   "metadata": {
    "collapsed": true
   },
   "source": [
    "Thus it converges iteratively.\n",
    "\n",
    "\n",
    "\n",
    "### Exercise 2"
   ]
  },
  {
   "cell_type": "markdown",
   "metadata": {},
   "source": [
    "Recall that the quadratic map generates time series of the form\n",
    "\n",
    "$$ x_{t+1} = 4 \\, x_t (1 - x_t) $$\n",
    "\n",
    "for some given $x_0$, and that these trajectories are chaotic.\n",
    "\n",
    "This means that different initial conditions generate seemingly very different outcomes.\n",
    "\n",
    "Nevertheless, the regions of the state space where these trajectories spend most of their time are in fact typically invariant to the initial condition.\n",
    "\n",
    "Illustrate this by generating 100 histograms of time series generated from the quadratic map, with $x_0$ drawn independently from the uniform distribution on $(0, 1)$.  \n",
    "\n",
    "Do they all look alike?\n",
    "\n",
    "Try to make your code efficient.\n",
    "\n"
   ]
  },
  {
   "cell_type": "code",
   "execution_count": null,
   "metadata": {},
   "outputs": [],
   "source": [
    "from numba import vectorize, jit, njit, float64, prange\n",
    "\n",
    "@jit\n",
    "def my_func():\n",
    "    for i in range(100):\n",
    "        xiterations = np.empty(100_000)\n",
    "        xiterations[0] = np.random.uniform(0, 1)\n",
    "        for j in range(100_000 - 1):\n",
    "            xiterations[j + 1] = 4 * xiterations[j] * (1 - xiterations[j])\n",
    "        plt.hist(xiterations, bins='auto') \n",
    "        plt.show()\n",
    "my_func()"
   ]
  },
  {
   "cell_type": "markdown",
   "metadata": {
    "collapsed": true
   },
   "source": [
    "### Exercise 3"
   ]
  },
  {
   "cell_type": "markdown",
   "metadata": {},
   "source": [
    "In the lecture it was claim that, if $(\\mathbb X, g)$ is a dynamical system, $g$ is continuous at $\\hat x \\in \\mathbb X$ and, for some $x \\in \\mathbb X$, $g^t(x) \\to \\hat x$, then $\\hat x$ is a steady state of $(\\mathbb X, g)$.\n",
    "\n",
    "Prove this."
   ]
  },
  {
   "cell_type": "code",
   "execution_count": null,
   "metadata": {},
   "outputs": [],
   "source": []
  },
  {
   "cell_type": "markdown",
   "metadata": {},
   "source": [
    "## Homework 2\n",
    "\n",
    "\n",
    "### Exercise 1"
   ]
  },
  {
   "cell_type": "code",
   "execution_count": 9,
   "metadata": {},
   "outputs": [],
   "source": [
    "from scipy import stats\n",
    "import numpy as np\n",
    "from numpy import random as rand\n",
    "import matplotlib.pyplot as plt\n",
    "\n",
    "\n",
    "class KDE:\n",
    "    \"\"\"test\"\"\"\n",
    "    def __init__(self, X, bandwidth=None):\n",
    "        \"\"\"Test\"\"\"\n",
    "        self.X = X\n",
    "        if not bandwidth:\n",
    "            self.bandwidth = 1.06*np.sqrt(np.var(X))*(len(X) ** (-0.2))\n",
    "        else:\n",
    "            self.bandwidth = bandwidth\n",
    "        self.n = len(X)\n",
    "        self.sigma = np.var(X)\n",
    "    \n",
    "    def density(self, x):\n",
    "        \"\"\"test\"\"\"\n",
    "        f_x = np.empty(len(x))\n",
    "        for j in range(len(x)):\n",
    "            z = np.zeros(len(self.X))\n",
    "            for i in range(self.n):\n",
    "                z[i] = stats.norm.pdf((x[j] - self.X[i]) / self.bandwidth)\n",
    "            f_x[j] = (1 / (self.bandwidth*self.n) * np.sum(z))\n",
    "        return f_x\n",
    "        "
   ]
  },
  {
   "cell_type": "code",
   "execution_count": 14,
   "metadata": {},
   "outputs": [
    {
     "data": {
      "image/png": "[encoded data removed]",
      "text/plain": [
       "<matplotlib.figure.Figure at 0x1a1a2e62b0>"
      ]
     },
     "metadata": {},
     "output_type": "display_data"
    },
    {
     "data": {
      "image/png": "[encoded data removed]",
      "text/plain": [
       "<matplotlib.figure.Figure at 0x1a1a213828>"
      ]
     },
     "metadata": {},
     "output_type": "display_data"
    },
    {
     "data": {
      "image/png": "[encoded data removed]",
      "text/plain": [
       "<matplotlib.figure.Figure at 0x1a1984d208>"
      ]
     },
     "metadata": {},
     "output_type": "display_data"
    }
   ],
   "source": [
    "# Use the beta distribution to test the class\n",
    "\n",
    "grid = np.linspace(0, 1, 100)\n",
    "\n",
    "X_1 = rand.beta(2, 2, 100)\n",
    "X_2 = rand.beta(2, 5, 100)\n",
    "X_3 = rand.beta(.5, .5, 100)\n",
    "\n",
    "beta_1 = KDE(X_1)\n",
    "output_1 = beta_1.density(grid)\n",
    "plt.plot(grid, output_1)\n",
    "plt.plot(grid, stats.beta.pdf(grid, 2, 2), 'r')\n",
    "plt.show()\n",
    "\n",
    "beta_2 = KDE(X_2)\n",
    "output_2 = beta_2.density(grid)\n",
    "plt.plot(grid, output_2)\n",
    "plt.plot(grid, stats.beta.pdf(grid, 2, 5), 'r')\n",
    "plt.show()\n",
    "\n",
    "beta_3 = KDE(X_3)\n",
    "output_3 = beta_3.density(grid)\n",
    "plt.plot(grid, output_3)\n",
    "plt.plot(grid, stats.beta.pdf(grid, 0.5, 0.5), 'r')\n",
    "plt.show()\n",
    "\n"
   ]
  },
  {
   "cell_type": "markdown",
   "metadata": {},
   "source": [
    "This isn't a good estimator of these distributions. "
   ]
  },
  {
   "cell_type": "code",
   "execution_count": null,
   "metadata": {},
   "outputs": [],
   "source": []
  },
  {
   "cell_type": "code",
   "execution_count": null,
   "metadata": {},
   "outputs": [],
   "source": []
  }
 ],
 "metadata": {
  "kernelspec": {
   "display_name": "Python 3",
   "language": "python",
   "name": "python3"
  },
  "language_info": {
   "codemirror_mode": {
    "name": "ipython",
    "version": 3
   },
   "file_extension": ".py",
   "mimetype": "text/x-python",
   "name": "python",
   "nbconvert_exporter": "python",
   "pygments_lexer": "ipython3",
   "version": "3.6.4"
  }
 },
 "nbformat": 4,
 "nbformat_minor": 2
}
