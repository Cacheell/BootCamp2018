{
 "cells": [
  {
   "cell_type": "markdown",
   "metadata": {},
   "source": [
    "## Exercise 2.1:\n"
   ]
  },
  {
   "cell_type": "code",
   "execution_count": 1,
   "metadata": {},
   "outputs": [],
   "source": [
    "import numpy as np\n",
    "import time\n",
    "import pandas as pd\n",
    "import scipy.optimize as opt\n",
    "from matplotlib import pyplot as plt"
   ]
  },
  {
   "cell_type": "code",
   "execution_count": 2,
   "metadata": {},
   "outputs": [],
   "source": [
    "beta_annual = 0.96\n",
    "beta = beta_annual ** (20)\n",
    "delta_annual = 0.05\n",
    "delta = 1 - (1 - delta_annual) ** 20\n",
    "sigma = 3.0\n",
    "A = 1.0\n",
    "alpha = 0.35\n",
    "n_vec = np.array([1.0, 1.0, 0.2])\n",
    "f_params = (n_vec, A, alpha, delta)"
   ]
  },
  {
   "cell_type": "code",
   "execution_count": 3,
   "metadata": {},
   "outputs": [],
   "source": [
    "def get_r(f_params, bvec_guess):\n",
    "    (n_vec, A, alpha, delta) = f_params\n",
    "    r = (alpha * A * (np.sum(n_vec) / np.sum(bvec_guess)) ** (1 - alpha)) - delta\n",
    "    return r\n",
    "\n",
    "def get_w(f_params, bvec_guess):\n",
    "    \"\"\"Get the wage for the current time period\"\"\"\n",
    "    (n_vec, A, alpha, delta) = f_params\n",
    "    w = (1 - alpha) * A * (np.sum(bvec_guess) / np.sum(n_vec)) ** alpha\n",
    "    return w\n",
    "\n",
    "def feasible(f_params, bvec_guess):\n",
    "    \"\"\"Uses steady state parameters to check if there is a constraint violation.\"\"\"\n",
    "    (n_vec, A, alpha, delta) = f_params\n",
    "    b_cnstr = [False, False]\n",
    "    c_cnstr = [False, False, False]  \n",
    "    K_cnstr = False                  \n",
    "    c = [0, 0 , 0]                   #initialize c\n",
    "    K = np.sum(bvec_guess)\n",
    "    c[0] = get_w(f_params, bvec_guess)- bvec_guess[0]\n",
    "    c[1] = get_w(f_params, bvec_guess) + (1 + get_r(f_params, bvec_guess))* bvec_guess[0] - bvec_guess[1]\n",
    "    c[2] = 0.2 * get_w(f_params, bvec_guess) + (1 + get_r(f_params, bvec_guess))*bvec_guess[1]\n",
    "    if K <= 0:\n",
    "        K_cnstr = True\n",
    "    for s in range(len(c_cnstr)):\n",
    "        if c[s] <=0:\n",
    "            c_cnstr[s] = True\n",
    "    if c_cnstr[0] == True:\n",
    "        b_cnstr[0] = True\n",
    "    if c_cnstr[1] == True:\n",
    "        b_cnstr[0] = True\n",
    "        b_cnstr[1] = True\n",
    "    if c_cnstr[2] == True:\n",
    "        b_cnstr[1] = True\n",
    "    return b_cnstr, c_cnstr, K_cnstr"
   ]
  },
  {
   "cell_type": "code",
   "execution_count": 4,
   "metadata": {},
   "outputs": [
    {
     "name": "stdout",
     "output_type": "stream",
     "text": [
      "([True, False], [True, False, False], False)\n",
      "([False, False], [False, False, False], False)\n",
      "([False, False], [False, False, False], False)\n"
     ]
    }
   ],
   "source": [
    "# a)\n",
    "bvec_guess = np.array([1.0, 1.2])\n",
    "output_1 = feasible(f_params, bvec_guess)\n",
    "print(output_1)\n",
    "# b)\n",
    "bvec_guess = np.array([0.06, -0.001])\n",
    "output_2 = feasible(f_params, bvec_guess)\n",
    "print(output_2)\n",
    "# c)\n",
    "bvec_guess = np.array([0.1, 0.1])\n",
    "output_3 = feasible(f_params, bvec_guess)\n",
    "print(output_3)"
   ]
  },
  {
   "cell_type": "markdown",
   "metadata": {},
   "source": [
    "a) With this initial guess of 1.0 and 1.2 we get the b constraint and the c constraint holding.\n",
    "\n",
    "b)  There are no constraints violated\n",
    "\n",
    "c)  There are no constraints violated"
   ]
  },
  {
   "cell_type": "markdown",
   "metadata": {},
   "source": [
    "## Exercise 2.2"
   ]
  },
  {
   "cell_type": "code",
   "execution_count": 5,
   "metadata": {},
   "outputs": [],
   "source": [
    "def Euler_error(bvec_guess, euler_params):\n",
    "    (beta, sigma, n_vec, L, A, alpha, delta) = euler_params\n",
    "    f_params = (n_vec, A, alpha, delta)\n",
    "    r_ss = get_r(f_params, bvec_guess)\n",
    "    w_ss = get_w(f_params, bvec_guess)\n",
    "    c1_ss = w_ss * n_vec[0] + (1 + r_ss) * 0 - bvec_guess[0]\n",
    "    c2_ss = w_ss * n_vec[1] + (1 + r_ss) * bvec_guess[0] - bvec_guess[1]\n",
    "    c3_ss = w_ss * n_vec[2] + (1 + r_ss) * bvec_guess[1] \n",
    "    \n",
    "\n",
    "    uprime_c1 = c1_ss ** (-sigma)\n",
    "    uprime_c2 = c2_ss ** (-sigma)\n",
    "    uprime_c3 = c3_ss ** (-sigma)\n",
    "    \n",
    "    EulErr_ss = np.empty(2)\n",
    "    EulErr_ss[0] = beta*(1 + r_ss)*uprime_c2 - uprime_c1\n",
    "    EulErr_ss[1] = beta*(1 + r_ss)*uprime_c3 - uprime_c2\n",
    "    \n",
    "    return EulErr_ss\n",
    "\n",
    "def get_SS(params, bvec_guess, SS_graphs):\n",
    "    \"\"\"Get's the Steady State\"\"\"\n",
    "    start_time = time.clock() # Time the number of seconds it takes to run the steady state program\n",
    "    (beta, sigma, n_vec, L, A, alpha, delta, SS_tol) = params\n",
    "    euler_params = (beta, sigma, n_vec, L, A, alpha, delta)\n",
    "    f_params = (n_vec, A, alpha, delta)\n",
    "    root = opt.root(Euler_error, bvec_guess, [beta, sigma, n_vec, L, A, alpha, delta], tol=SS_tol)\n",
    "    \n",
    "    b_ss = root.x\n",
    "    r_ss = get_r(f_params, b_ss)\n",
    "    w_ss = get_w(f_params, b_ss)\n",
    "    c_ss = np.empty(3)\n",
    "    c_ss[0] = w_ss * n_vec[0] + (1 + r_ss) * 0 - b_ss[0]\n",
    "    c_ss[1] = w_ss * n_vec[1] + (1 + r_ss) * b_ss[0] - b_ss[1]\n",
    "    c_ss[2] = w_ss * n_vec[2] + (1 + r_ss) * b_ss[1]\n",
    "    \n",
    "    K_ss = np.sum(b_ss)\n",
    "    C_ss = np.sum(c_ss)\n",
    "    I_ss = K_ss - (1 - delta) * K_ss\n",
    "    #Y_ss = C_ss + I_ss\n",
    "    Y_ss = A*(K_ss ** alpha)* L ** (1 - alpha)\n",
    "    \n",
    "    EulErr_ss = Euler_error(b_ss, euler_params)\n",
    "    RCerr_ss = Y_ss - C_ss - delta*K_ss\n",
    "    \n",
    "    if SS_graphs == True:\n",
    "        \"\"\"Writes a figure of the steady-state distribution of consumption and savings if SS-graphs is set to True\"\"\"\n",
    "        plt.bar(['a-Young', 'b-Middle', 'c-Old'], c_ss)\n",
    "        plt.xlabel(\"Time Period\")\n",
    "        plt.ylabel(\"Consumption\")\n",
    "        plt.title(f\"Consumption by Age group for beta - {beta}\")\n",
    "        plt.show()\n",
    "    ss_labels = [\"b_ss\", 'c_ss', 'w_ss', 'r_ss', 'K_ss', 'Y_ss', 'C_ss', 'EulErr_ss', 'RCerr_ss', 'ss_time']\n",
    "    ss_time = time.clock() - start_time \n",
    "    ss_values = [b_ss, c_ss, w_ss, r_ss, K_ss, Y_ss, C_ss, EulErr_ss, RCerr_ss, ss_time]\n",
    "    ss_output = dict(zip(ss_labels, ss_values))\n",
    "    return ss_output"
   ]
  },
  {
   "cell_type": "code",
   "execution_count": 6,
   "metadata": {},
   "outputs": [],
   "source": [
    "L = np.sum(n_vec)\n",
    "SS_tol = .001\n",
    "params = (beta, sigma, n_vec, L, A, alpha, delta, SS_tol)\n",
    "bvec_guess = np.array([0.1, 0.1])"
   ]
  },
  {
   "cell_type": "code",
   "execution_count": 7,
   "metadata": {},
   "outputs": [
    {
     "data": {
      "image/png": "[encoded data removed]",
      "text/plain": [
       "<matplotlib.figure.Figure at 0x11881eb70>"
      ]
     },
     "metadata": {},
     "output_type": "display_data"
    },
    {
     "data": {
      "text/plain": [
       "{'C_ss': 0.6329047409324018,\n",
       " 'EulErr_ss': array([ 0.00253565, -0.00548184]),\n",
       " 'K_ss': 0.07772574745877081,\n",
       " 'RCerr_ss': -6.938893903907228e-18,\n",
       " 'Y_ss': 0.6827669021185218,\n",
       " 'b_ss': array([0.01931282, 0.05841292]),\n",
       " 'c_ss': array([0.18241376, 0.20961447, 0.24087651]),\n",
       " 'r_ss': 2.4329937084963125,\n",
       " 'ss_time': 0.10932299999999984,\n",
       " 'w_ss': 0.20172658471683597}"
      ]
     },
     "execution_count": 7,
     "metadata": {},
     "output_type": "execute_result"
    }
   ],
   "source": [
    "# a) b)\n",
    "SS = get_SS(params, bvec_guess, True)\n",
    "SS"
   ]
  },
  {
   "cell_type": "code",
   "execution_count": 8,
   "metadata": {},
   "outputs": [
    {
     "data": {
      "image/png": "[encoded data removed]",
      "text/plain": [
       "<matplotlib.figure.Figure at 0x118844c88>"
      ]
     },
     "metadata": {},
     "output_type": "display_data"
    },
    {
     "data": {
      "text/plain": [
       "{'C_ss': 0.6882806422350269,\n",
       " 'EulErr_ss': array([-2.08609578e-06,  4.47879074e-06]),\n",
       " 'K_ss': 0.10346130886427794,\n",
       " 'RCerr_ss': 1.5265566588595902e-16,\n",
       " 'Y_ss': 0.7546525283574993,\n",
       " 'b_ss': array([0.0276472 , 0.07581411]),\n",
       " 'c_ss': array([0.19531832, 0.2276436 , 0.26531872]),\n",
       " 'r_ss': 1.911405345374785,\n",
       " 'ss_time': 0.11894800000000005,\n",
       " 'w_ss': 0.2229655197419884}"
      ]
     },
     "execution_count": 8,
     "metadata": {},
     "output_type": "execute_result"
    }
   ],
   "source": [
    "# c)\n",
    "beta_annual = 0.97\n",
    "beta = beta_annual ** (20)\n",
    "params = (beta, sigma, n_vec, L, A, alpha, delta, SS_tol)\n",
    "bvec_guess = np.array([0.1, 0.1])\n",
    "SS = get_SS(params, bvec_guess, True)\n",
    "SS"
   ]
  },
  {
   "cell_type": "markdown",
   "metadata": {},
   "source": [
    "When people are more patient, overall consumption rises, wages, capital increases, savings increase, and consumption per period increases as well. Interest rates decrease.  The intuition of this is that when we increase beta, savings in the young and middle ages increases.  This gives us more capital in the economy and produces greater wealth for consumption. "
   ]
  },
  {
   "cell_type": "markdown",
   "metadata": {},
   "source": [
    "## Exercise 2.3"
   ]
  },
  {
   "cell_type": "code",
   "execution_count": 9,
   "metadata": {},
   "outputs": [],
   "source": [
    "# Guess T and define more parameters\n",
    "T = 30\n",
    "xi = 0.3\n",
    "eps = 1e-9\n",
    "\n",
    "# Define the steady state b and initial b\n",
    "b2_ss = SS[\"b_ss\"][0]\n",
    "b3_ss = SS['b_ss'][1]\n",
    "b21 = 0.8*b2_ss\n",
    "b31 = 1.1*b3_ss\n",
    "\n",
    "# Guess {k}^T\n",
    "k1 = b21 + b31\n",
    "k_ss = b2_ss + b3_ss\n",
    "K_path = np.linspace(k1, k_ss, T)\n",
    "K_path = np.append(K_path, np.array([[k_ss], [k_ss], [k_ss], [k_ss], [k_ss], [k_ss]]))\n",
    "\n",
    "# Knowing {k}^T gives us {w_t, r_t}^T\n",
    "W_path = np.empty(T + 4)\n",
    "R_path = np.empty(T + 4)\n",
    "for i in range(T + 4):\n",
    "    W_path[i] = get_w(f_params, K_path[i])\n",
    "    R_path[i] = get_r(f_params, K_path[i])\n"
   ]
  },
  {
   "cell_type": "code",
   "execution_count": 10,
   "metadata": {},
   "outputs": [
    {
     "data": {
      "text/plain": [
       "array([0.07170167])"
      ]
     },
     "execution_count": 10,
     "metadata": {},
     "output_type": "execute_result"
    }
   ],
   "source": [
    "# Solve for b32\n",
    "def get_a_life_equation(b32, get_a_life_params):\n",
    "    (b21, R_path, W_path, n_vec, beta, sigma) = get_a_life_params  \n",
    "    error = beta*(1 + R_path[1])*((1 + R_path[1])*b32 + W_path[1]*n_vec[2])**(-sigma) - ((1 + R_path[0])*b21 + W_path[0]*n_vec[1] - b32) ** (-sigma)\n",
    "    return error\n",
    "\n",
    "def get_a_life(params, b32):\n",
    "    (b21, R_path, W_path, n_vec, beta, sigma) = get_a_life_params  \n",
    "    root = opt.root(get_a_life_equation, b32, [b21, R_path, W_path, n_vec, beta, sigma], tol = 1e-9)\n",
    "    b32 = root.x\n",
    "    return b32\n",
    "\n",
    "get_a_life_params = (b21, R_path, W_path, n_vec, beta, sigma)\n",
    "b32_guess = 0.1\n",
    "b32_t2 = get_a_life(get_a_life_params, b32_guess)\n",
    "b32_t2"
   ]
  },
  {
   "cell_type": "code",
   "execution_count": 11,
   "metadata": {},
   "outputs": [],
   "source": [
    "def get_lives_error(b, lives_params):\n",
    "    ( R_path1, R_path2, R_path3, W_path1, W_path2, W_path3, n_vec, beta, sigma) = lives_params\n",
    "    \n",
    "    error = np.empty(2)\n",
    "    error[0] = beta*(1 + R_path2)*((1 + R_path2)*b[0] + W_path2*n_vec[1] - b[1])**(-sigma) - (W_path1*n_vec[0] - b[0]) ** (-sigma)\n",
    "    error[1] = beta*(1 + R_path3)*((1 + R_path3)*b[1] + W_path3*n_vec[2]) ** (-sigma) - ((1 + R_path2)*b[0] + W_path2*n_vec[1] - b[1])**(-sigma)\n",
    "    return error\n",
    "\n",
    "def get_lives(lives_params, b):\n",
    "    (R_path1, R_path2, R_path3, W_path1, W_path2, W_path3, n_vec, beta, sigma) = lives_params\n",
    "    root = opt.root(get_lives_error, b, [ R_path1, R_path2, R_path3, W_path1, W_path2, W_path3, n_vec, beta, sigma], tol=1e-9)\n",
    "    b = root.x\n",
    "    b22 = b[0]\n",
    "    b33 = b[1]\n",
    "    return b22, b33\n",
    "\n",
    "R_path1, R_path2, R_path3, W_path1, W_path2, W_path3 = R_path[0], R_path[1], R_path[2], W_path[0], W_path[1], W_path[2]\n",
    "lives_params = (R_path1, R_path2, R_path3, W_path1, W_path2, W_path3, n_vec, beta, sigma)\n",
    "b22, b33 = get_lives(lives_params, [.1, .1])"
   ]
  },
  {
   "cell_type": "code",
   "execution_count": 44,
   "metadata": {},
   "outputs": [
    {
     "name": "stdout",
     "output_type": "stream",
     "text": [
      "83 8.843663433570196e-10\n"
     ]
    }
   ],
   "source": [
    "b_guess = np.array([0.1, 0.1])\n",
    "b32_t2 = get_a_life(get_a_life_params, b32_guess)\n",
    "\n",
    "iterations = 0\n",
    "dist = 0.05\n",
    "tol = 1e-9\n",
    "R_path_upd = R_path.copy()\n",
    "W_path_upd = W_path.copy()\n",
    "K_path_upd = K_path.copy()\n",
    "\n",
    "Kpathprime = K_path.copy()\n",
    "while iterations < 300 and dist > tol:\n",
    "    \n",
    "    b_matrix = np.empty((T+1, 2))\n",
    "    b_matrix[0][0] = b21\n",
    "    b_matrix[0][1] = b31\n",
    "    b_matrix[1][1] = b32_t2\n",
    "    for i in range(T - 1):\n",
    "        R_path1, W_path1 = R_path_upd[i + 1], W_path_upd[i + 1]\n",
    "        R_path2, R_path3, W_path2, W_path3 = R_path_upd[i + 2], R_path_upd[i + 3], W_path_upd[i + 2], W_path_upd[i + 3]\n",
    "        b_guess = np.array([0.1, 0.1])\n",
    "        life_params = (R_path1, R_path2, R_path3, W_path1, W_path2, W_path3, n_vec, beta, sigma)\n",
    "        b2, b3 = get_lives(life_params, b_guess)\n",
    "        b_matrix[i + 1, 0] = b2\n",
    "        b_matrix[i + 2, 1] = b3\n",
    "    kpathtrans = K_path_upd.copy()\n",
    "    kpathtrans = b_matrix.sum(axis=1)\n",
    "    Kpathprime[1:T+1] = kpathtrans[0:T]\n",
    "    dist = np.linalg.norm(Kpathprime - K_path_upd, 2)\n",
    "    Kpathnew = xi * Kpathprime + (1 - xi)*K_path_upd\n",
    "    K_path_upd = Kpathnew\n",
    "    W_path_upd = ((1-alpha)*A/(np.sum(n_vec)**alpha))*Kpathnew**alpha\n",
    "    R_path_upd = alpha*A*(np.sum(n_vec)/Kpathnew)**(1-alpha) - delta\n",
    "    iterations = iterations + 1\n",
    "        \n",
    "        \n",
    "print(iterations, dist)\n",
    "Timepath = Kpathprime"
   ]
  },
  {
   "cell_type": "code",
   "execution_count": 53,
   "metadata": {},
   "outputs": [
    {
     "data": {
      "image/png": "[encoded data removed]",
      "text/plain": [
       "<matplotlib.figure.Figure at 0x118cc3518>"
      ]
     },
     "metadata": {},
     "output_type": "display_data"
    }
   ],
   "source": [
    "plt.plot(Timepath)\n",
    "plt.xlabel('Time')\n",
    "plt.ylabel('Capital')\n",
    "plt.title('Time Path of Capital')\n",
    "plt.show()\n"
   ]
  },
  {
   "cell_type": "code",
   "execution_count": 50,
   "metadata": {},
   "outputs": [
    {
     "data": {
      "image/png": "[encoded data removed]",
      "text/plain": [
       "<matplotlib.figure.Figure at 0x151d110240>"
      ]
     },
     "metadata": {},
     "output_type": "display_data"
    }
   ],
   "source": [
    "W_path_end = ((1-alpha)*A/(np.sum(n_vec)**alpha))*Timepath**alpha\n",
    "R_path_end = alpha*A*(np.sum(n_vec)/Timepath)**(1-alpha) - delta\n",
    "plt.plot(W_path_end, label='Wages')\n",
    "plt.xlabel('Time')\n",
    "plt.ylabel('Wages' )\n",
    "plt.legend()\n",
    "plt.title('Time Path of the wages')\n",
    "plt.show()"
   ]
  },
  {
   "cell_type": "code",
   "execution_count": 52,
   "metadata": {},
   "outputs": [
    {
     "data": {
      "image/png": "[encoded data removed]",
      "text/plain": [
       "<matplotlib.figure.Figure at 0x151d148b70>"
      ]
     },
     "metadata": {},
     "output_type": "display_data"
    },
    {
     "data": {
      "text/plain": [
       "array([[0.02211776, 0.08339552],\n",
       "       [0.02877528, 0.07170167],\n",
       "       [0.02682959, 0.07648578],\n",
       "       [0.02773829, 0.0750215 ],\n",
       "       [0.02748294, 0.07580319],\n",
       "       [0.02763428, 0.07563446],\n",
       "       [0.02760787, 0.07577516],\n",
       "       [0.02763632, 0.07576606],\n",
       "       [0.0276362 , 0.07579565],\n",
       "       [0.02764253, 0.07579963],\n",
       "       [0.02764379, 0.07580705],\n",
       "       [0.02764546, 0.07580944],\n",
       "       [0.02764608, 0.07581159],\n",
       "       [0.02764658, 0.07581256],\n",
       "       [0.02764682, 0.07581323],\n",
       "       [0.02764698, 0.07581359],\n",
       "       [0.02764707, 0.07581381],\n",
       "       [0.02764712, 0.07581394],\n",
       "       [0.02764715, 0.07581401],\n",
       "       [0.02764717, 0.07581405],\n",
       "       [0.02764718, 0.07581408],\n",
       "       [0.02764719, 0.07581409],\n",
       "       [0.02764719, 0.0758141 ],\n",
       "       [0.02764719, 0.07581411],\n",
       "       [0.02764719, 0.07581411],\n",
       "       [0.02764719, 0.07581411],\n",
       "       [0.0276472 , 0.07581411],\n",
       "       [0.0276472 , 0.07581411],\n",
       "       [0.0276472 , 0.07581411],\n",
       "       [0.0276472 , 0.07581411]])"
      ]
     },
     "execution_count": 52,
     "metadata": {},
     "output_type": "execute_result"
    }
   ],
   "source": [
    "plt.plot(R_path_end, label='Interest Rate')\n",
    "plt.xlabel('Time')\n",
    "plt.ylabel('Interest rate')\n",
    "plt.legend()\n",
    "plt.title('Time Path of Interest rate')\n",
    "plt.show()\n",
    "b_matrix[:-1]"
   ]
  },
  {
   "cell_type": "markdown",
   "metadata": {},
   "source": [
    "I underestimated the time it would take me to do this problem, and ran out of time and passion to report the max euler error and max resource error.  Also comparing, my results to other people's my result is a little high and can't figure out the bug that is pushing my answers slightly higher than others. (around .02-ish)."
   ]
  },
  {
   "cell_type": "code",
   "execution_count": null,
   "metadata": {},
   "outputs": [],
   "source": []
  }
 ],
 "metadata": {
  "kernelspec": {
   "display_name": "Python 3",
   "language": "python",
   "name": "python3"
  },
  "language_info": {
   "codemirror_mode": {
    "name": "ipython",
    "version": 3
   },
   "file_extension": ".py",
   "mimetype": "text/x-python",
   "name": "python",
   "nbconvert_exporter": "python",
   "pygments_lexer": "ipython3",
   "version": "3.6.4"
  }
 },
 "nbformat": 4,
 "nbformat_minor": 2
}
