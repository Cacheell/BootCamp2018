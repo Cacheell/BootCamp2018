{
 "cells": [
  {
   "cell_type": "code",
   "execution_count": null,
   "metadata": {},
   "outputs": [],
   "source": []
  },
  {
   "cell_type": "code",
   "execution_count": null,
   "metadata": {},
   "outputs": [],
   "source": []
  },
  {
   "cell_type": "code",
   "execution_count": null,
   "metadata": {},
   "outputs": [],
   "source": []
  },
  {
   "cell_type": "code",
   "execution_count": null,
   "metadata": {},
   "outputs": [],
   "source": []
  },
  {
   "cell_type": "markdown",
   "metadata": {},
   "source": [
    "## Exercise 5"
   ]
  },
  {
   "cell_type": "code",
   "execution_count": 31,
   "metadata": {},
   "outputs": [],
   "source": [
    "import numpy as np\n",
    "import scipy.optimize as opt"
   ]
  },
  {
   "cell_type": "code",
   "execution_count": 32,
   "metadata": {},
   "outputs": [],
   "source": [
    "# Parameters\n",
    "gamma = 2.5\n",
    "beta = 0.98\n",
    "alpha = 0.40\n",
    "delta = 0.10\n",
    "zbar = 0\n",
    "tao = 0.05\n",
    "Lbar = 1"
   ]
  },
  {
   "cell_type": "code",
   "execution_count": 63,
   "metadata": {},
   "outputs": [],
   "source": [
    "# Numerical Solutions\n",
    "def Error_Euler(steadystate, *arguments):\n",
    "    gamma, beta, alpha, delta, zbar, tao, Lbar = arguments\n",
    "    cbar = steadystate[0]\n",
    "    kbar = steadystate[1]\n",
    "    \n",
    "    rbar = alpha * ((Lbar * np.e ** zbar) / kbar) ** (1 - alpha)\n",
    "\n",
    "    error_1 = 1/(cbar ** gamma) - beta* ((rbar - delta)*(1 - tao) + 1) / ((cbar)**gamma)\n",
    "    \n",
    "    error_2 = -cbar + ((1-alpha)*(kbar/(np.e **zbar))**alpha + (alpha*(np.e ** zbar / kbar) ** (1 - alpha) - delta)* kbar)\n",
    "    \n",
    "    return np.array([error_1, error_2])\n"
   ]
  },
  {
   "cell_type": "code",
   "execution_count": 64,
   "metadata": {},
   "outputs": [
    {
     "data": {
      "text/plain": [
       "(1.4845048188586933, 7.287497951065252)"
      ]
     },
     "execution_count": 64,
     "metadata": {},
     "output_type": "execute_result"
    }
   ],
   "source": [
    "# Solve for steady state consumption and kapital\n",
    "arguments = gamma, beta, alpha, delta, zbar, tao, Lbar\n",
    "kbarguess = .5\n",
    "cbarguess = .5\n",
    "solution = opt.root(Error_Euler, [cbarguess, kbarguess], args=arguments, tol=1e-8)\n",
    "cbar, kbar = solution.x\n",
    "cbar, kbar"
   ]
  },
  {
   "cell_type": "code",
   "execution_count": null,
   "metadata": {},
   "outputs": [],
   "source": [
    "# algebraic solutions"
   ]
  },
  {
   "cell_type": "code",
   "execution_count": 11,
   "metadata": {},
   "outputs": [
    {
     "data": {
      "text/plain": [
       "7.2874979506929884"
      ]
     },
     "execution_count": 11,
     "metadata": {},
     "output_type": "execute_result"
    }
   ],
   "source": [
    "# steady state captial\n",
    "kbar = ((1 - tao)*beta*alpha)**(1/(1 - alpha))*(np.e**zbar) * Lbar / ((1 - beta + delta*(1 - tao)*beta)**(1/(1 - alpha)))\n",
    "kbar"
   ]
  },
  {
   "cell_type": "code",
   "execution_count": 12,
   "metadata": {},
   "outputs": [
    {
     "data": {
      "text/plain": [
       "0.1214822771213749"
      ]
     },
     "execution_count": 12,
     "metadata": {},
     "output_type": "execute_result"
    }
   ],
   "source": [
    "#Solve for return on captial\n",
    "rbar = (1 -beta) / (beta * (1 - tao)) + delta\n",
    "rbar"
   ]
  },
  {
   "cell_type": "code",
   "execution_count": 13,
   "metadata": {},
   "outputs": [
    {
     "data": {
      "text/plain": [
       "1.3279527683513057"
      ]
     },
     "execution_count": 13,
     "metadata": {},
     "output_type": "execute_result"
    }
   ],
   "source": [
    "# Solve for wages\n",
    "wbar = (1 - alpha)*(kbar / (Lbar*np.e ** zbar))**alpha\n",
    "wbar"
   ]
  },
  {
   "cell_type": "code",
   "execution_count": 54,
   "metadata": {},
   "outputs": [
    {
     "data": {
      "text/plain": [
       "1.4845048188497072"
      ]
     },
     "execution_count": 54,
     "metadata": {},
     "output_type": "execute_result"
    }
   ],
   "source": [
    "# Solve for consumption and taxation\n",
    "cbar = (wbar + (rbar - delta)*kbar)\n",
    "Tbar = tao*(wbar + (rbar - delta)*kbar)\n",
    "cbar, Tbar"
   ]
  },
  {
   "cell_type": "code",
   "execution_count": 17,
   "metadata": {},
   "outputs": [
    {
     "data": {
      "text/plain": [
       "0.7287497950692989"
      ]
     },
     "execution_count": 17,
     "metadata": {},
     "output_type": "execute_result"
    }
   ],
   "source": [
    "# Solve for investment\n",
    "ibar = kbar - (1 - delta)*kbar\n",
    "ibar"
   ]
  },
  {
   "cell_type": "code",
   "execution_count": 19,
   "metadata": {},
   "outputs": [
    {
     "data": {
      "text/plain": [
       "2.213254613918843"
      ]
     },
     "execution_count": 19,
     "metadata": {},
     "output_type": "execute_result"
    }
   ],
   "source": [
    "# Solve for output\n",
    "ybar = kbar ** alpha * (Lbar * np.e ** zbar) ** (1 - alpha)\n",
    "ybar"
   ]
  },
  {
   "cell_type": "code",
   "execution_count": 21,
   "metadata": {},
   "outputs": [],
   "source": []
  },
  {
   "cell_type": "markdown",
   "metadata": {},
   "source": [
    "## Exercise 6"
   ]
  },
  {
   "cell_type": "code",
   "execution_count": 79,
   "metadata": {},
   "outputs": [],
   "source": [
    "gamma = 2.5\n",
    "xi = 1.5\n",
    "beta = .98\n",
    "alpha = 0.40\n",
    "a = 0.5\n",
    "delta = 0.10\n",
    "zbar = 0\n",
    "tao = 0.05"
   ]
  },
  {
   "cell_type": "code",
   "execution_count": 115,
   "metadata": {},
   "outputs": [],
   "source": [
    "# Numerical Solutions\n",
    "    \n",
    "def Error_Euler_2(steadystate, *arguments):\n",
    "    gamma, xi, beta, alpha, a, delta, zbar, tao = arguments\n",
    "    cbar = steadystate[0]\n",
    "    kbar = steadystate[1]\n",
    "    l_bar = steadystate[2]\n",
    "    \n",
    "    rbar = alpha * ((l_bar * np.e ** zbar) / kbar) ** (1 - alpha)\n",
    "    wbar = (1 - alpha) * (kbar / (l_bar * np.e ** zbar)) ** alpha * (np.e **zbar)\n",
    "    \n",
    "    error_1 = (1/(cbar ** gamma)) - beta * (((rbar - delta)*(1 - tao) + 1) / ((cbar)**gamma))\n",
    "    \n",
    "    error_2 = (a) / ((1 - l_bar) ** xi) - (wbar * (1 - tao)) / (cbar ** gamma)\n",
    "    \n",
    "    error_3 = (cbar) - (wbar * l_bar + (rbar - delta) * kbar)\n",
    "   \n",
    "    return np.array([error_1, error_2, error_3])"
   ]
  },
  {
   "cell_type": "code",
   "execution_count": 117,
   "metadata": {},
   "outputs": [
    {
     "data": {
      "text/plain": [
       "(0.8607032061541214, 4.225229026778794, 0.5797914531669064)"
      ]
     },
     "execution_count": 117,
     "metadata": {},
     "output_type": "execute_result"
    }
   ],
   "source": [
    "# Solve for steady state consumption, capital, and labor\n",
    "arguments = gamma, xi, beta, alpha, a, delta, zbar, tao\n",
    "kbarguess = .5\n",
    "cbarguess = .5\n",
    "lbarguess = .5\n",
    "solution = opt.root(Error_Euler_2, [cbarguess, kbarguess, lbarguess], args=arguments, tol=1e-8)\n",
    "cbar, kbar, Lbar = solution.x\n",
    "cbar, kbar, Lbar"
   ]
  },
  {
   "cell_type": "code",
   "execution_count": 119,
   "metadata": {},
   "outputs": [
    {
     "data": {
      "text/plain": [
       "(1.3279527683507593, 0.12148227712144986)"
      ]
     },
     "execution_count": 119,
     "metadata": {},
     "output_type": "execute_result"
    }
   ],
   "source": [
    "# Solve for steady state wages and return on capital\n",
    "wbar = (1 - alpha) * (kbar / (Lbar * np.e ** zbar)) ** alpha * (np.e **zbar)\n",
    "rbar = alpha * ((Lbar * np.e ** zbar) / kbar) ** (1 - alpha)\n",
    "wbar, rbar"
   ]
  },
  {
   "cell_type": "code",
   "execution_count": 121,
   "metadata": {},
   "outputs": [
    {
     "data": {
      "text/plain": [
       "0.04303516030770607"
      ]
     },
     "execution_count": 121,
     "metadata": {},
     "output_type": "execute_result"
    }
   ],
   "source": [
    "# Solve for taxation\n",
    "Tbar = tao * cbar\n",
    "Tbar"
   ]
  },
  {
   "cell_type": "code",
   "execution_count": 122,
   "metadata": {},
   "outputs": [
    {
     "data": {
      "text/plain": [
       "0.4225229026778794"
      ]
     },
     "execution_count": 122,
     "metadata": {},
     "output_type": "execute_result"
    }
   ],
   "source": [
    "# Solve for investment\n",
    "ibar = kbar - (1 - delta)*kbar\n",
    "ibar"
   ]
  },
  {
   "cell_type": "code",
   "execution_count": 123,
   "metadata": {},
   "outputs": [
    {
     "data": {
      "text/plain": [
       "1.2832261088318382"
      ]
     },
     "execution_count": 123,
     "metadata": {},
     "output_type": "execute_result"
    }
   ],
   "source": [
    "# Solve for Output\n",
    "ybar = kbar ** alpha * (Lbar * np.e ** zbar) ** (1 - alpha)\n",
    "ybar"
   ]
  },
  {
   "cell_type": "markdown",
   "metadata": {},
   "source": [
    "# Linearization Notes\n",
    "\n",
    "## Exercise 1"
   ]
  },
  {
   "cell_type": "markdown",
   "metadata": {},
   "source": [
    "The analyticall values of F, G, H, L, M, and N are already given in the notes 1.4."
   ]
  },
  {
   "cell_type": "code",
   "execution_count": 21,
   "metadata": {},
   "outputs": [
    {
     "name": "stdout",
     "output_type": "stream",
     "text": [
      "This is P and Q.  P:  0.35  and Q:  0.24750650674493596\n"
     ]
    }
   ],
   "source": [
    "import numpy as np\n",
    "import scipy.optimize as opt\n",
    "import matplotlib.pyplot as plt\n",
    "from mpl_toolkits.mplot3d import Axes3D\n",
    "from matplotlib import cm\n",
    "from matplotlib.ticker import LinearLocator\n",
    "\n",
    "# Parameters\n",
    "alpha =0.35\n",
    "beta = 0.98\n",
    "rho = 0.95\n",
    "sigma = 0.02\n",
    "A = beta * alpha\n",
    "Kbar = A ** (1 /(1 - alpha))\n",
    "\n",
    "F = (alpha * Kbar ** ( alpha - 1)) / (Kbar ** alpha - Kbar)\n",
    "G = - (alpha * Kbar ** (alpha - 1)*(alpha + Kbar ** (alpha - 1))) / (Kbar ** alpha - Kbar)\n",
    "H = (alpha ** 2 * Kbar ** (2*(alpha - 1))) / (Kbar ** alpha - Kbar)\n",
    "L = - (alpha * Kbar ** (2 * alpha - 1)) / (Kbar ** alpha - Kbar)\n",
    "M = (alpha ** 2 * Kbar ** (2*(alpha - 1))) / (Kbar ** alpha - Kbar)\n",
    "N = rho\n",
    "# Not sure why N = rho and we only use P2 and not P1 but everyone else is doing it.\n",
    "P1 = (- G + np.sqrt(G*G - 4*F*H)) / (2*F)\n",
    "P2 = (- G - np.sqrt(G*G - 4*F*H)) / (2*F)\n",
    "Q = - (L*N + M) / (F * N + F * P2 + G)\n",
    "zbar = 0\n",
    "print(\"This is P and Q.  P: \", P2, \" and Q: \", Q)"
   ]
  },
  {
   "cell_type": "code",
   "execution_count": 62,
   "metadata": {},
   "outputs": [],
   "source": [
    "def find_K_tp1(Kbar, P, Q, K, z):\n",
    "    return Kbar + P*(K - Kbar) + Q*z \n",
    "\n",
    "def pol_fun_graph(Kbar, P, Q):\n",
    "    \"\"\"Plot the policy function.  Which is given in the lecture notes.\"\"\"\n",
    "    kspace = np.linspace(Kbar * 0.5, Kbar* 1.5, 200)\n",
    "    zspace = np.linspace( -1, 1, 200)\n",
    "    kt, zt = np.meshgrid(kspace, zspace)\n",
    "    ktp1 = np.empty((200, 200))\n",
    "    for i in range(200):\n",
    "        for j in range(200):\n",
    "            ktp1[i, j] = find_K_tp1(Kbar, P, Q, kspace[i], zspace[i])\n",
    "    fig = plt.figure(figsize=(10, 8))\n",
    "    ax = fig.gca(projection='3d')\n",
    "    #ax = fig.add_subplot(111, projection='3d')\n",
    "    surf = ax.plot_surface(kt, zt, ktp1, cmap=cm.coolwarm, linewidth=0, antialiased=False)\n",
    "    plt.xlabel('K_t')\n",
    "    plt.ylabel('Z_t')\n",
    "    plt.title(\"Policy Function\")\n",
    "    plt.show()"
   ]
  },
  {
   "cell_type": "code",
   "execution_count": 63,
   "metadata": {},
   "outputs": [
    {
     "data": {
      "image/png": "[encoded data removed]",
      "text/plain": [
       "<matplotlib.figure.Figure at 0x1515e09908>"
      ]
     },
     "metadata": {},
     "output_type": "display_data"
    }
   ],
   "source": [
    "pol_fun_graph(Kbar, P2, Q)"
   ]
  },
  {
   "cell_type": "markdown",
   "metadata": {},
   "source": []
  },
  {
   "cell_type": "markdown",
   "metadata": {},
   "source": [
    "### Exercise 2:\n"
   ]
  },
  {
   "cell_type": "markdown",
   "metadata": {},
   "source": [
    "I'm confused on what we are supposed to do."
   ]
  },
  {
   "cell_type": "markdown",
   "metadata": {},
   "source": [
    "### Exercise 3:"
   ]
  },
  {
   "cell_type": "markdown",
   "metadata": {},
   "source": [
    "I did this by hand. But after writing the first line in code, I realized it wasn't worth my Saturday night and so I copied the Proof from Tim. \n",
    "\n",
    "$ 0 = E_t \\Big\\{ F \\tilde{X}_{t+1} + G  \\tilde{X}_{t} + H \\tilde{X}_{t-1} + L \\tilde{Z}_{t+1} + M \\tilde{Z}_{t} \\Big\\}$\n",
    "\n",
    "$ 0 = E_t \\Big\\{ F P \\tilde{X}_t + F Q \\tilde{Z}_{t+1} + G P \\tilde{X}_{t-1} + G Q \\tilde{Z}_t + H \\tilde{X}_{t-1} + L N \\tilde{Z}_t + L \\varepsilon_{t+1} + M \\tilde{Z}_t \\Big\\}$\n",
    "\n",
    "$= E_t \\Big\\{ F P^2 \\tilde{X}_{t-1} + F P Q \\tilde{Z}_t + F Q N \\tilde{Z}_t + F Q \\varepsilon_{t+1}G P \\tilde{X}_{t-1} + G Q \\tilde{Z}_t + H \\tilde{X}_{t-1} + LN \\tilde{Z}_t + L\\varepsilon_{t+1} + M \\tilde{Z}_t \\Big\\} $\n",
    "\n",
    "$= E_t \\Big\\{ F P^2 \\tilde{X}_{t-1} + F P Q \\tilde{Z}_t + F Q N \\tilde{Z}_t + F Q \\varepsilon_{t+1}+ \n",
    "    G P \\tilde{X}_{t-1} + G Q \\tilde{Z}_t + H \\tilde{X}_{t-1} + LN \\tilde{Z}_t + L\\varepsilon_{t+1} + M\\tilde{Z}_t \\Big\\}$\n",
    "    \n",
    "$= F P^2 \\tilde{X}_{t-1} + F P Q \\tilde{Z}_t + F Q N \\tilde{Z}_t +\n",
    "    G P \\tilde{X}_{t-1} + G Q \\tilde{Z}_t + H \\tilde{X}_{t-1} + LN \\tilde{Z}_t + M\\tilde{Z}_t $\n",
    "    \n",
    "$= (F P^2 + GP + H) \\tilde{X}_{t-1} + (F P Q + F Q N + G Q + LN + M) \\tilde{Z}_t $\n",
    "\n",
    "$= ((F P + G)P + H) \\tilde{X}_{t-1} + ((FQ + L)N + (FP + G)Q + M) \\tilde{Z}_t $"
   ]
  },
  {
   "cell_type": "markdown",
   "metadata": {},
   "source": [
    "### Exercise 4:"
   ]
  },
  {
   "cell_type": "code",
   "execution_count": null,
   "metadata": {},
   "outputs": [],
   "source": [
    "# Parameters\n",
    "gamma = 2.5\n",
    "xi = 1.5\n",
    "beta = 0.98\n",
    "alpha = 0.40\n",
    "a = 0.5\n",
    "delta = 0.1\n",
    "zbar = 0\n",
    "p_z = 0.9\n",
    "tau = 0.05"
   ]
  },
  {
   "cell_type": "code",
   "execution_count": null,
   "metadata": {},
   "outputs": [],
   "source": [
    "#Solve for k, c, r, w, l, T, y, i\n",
    "u = (c ** (1 - gamma) - 1) / ( 1 - gamma) + a * ((1 - l) ** (1 - xi) - 1) / (1 - xi)\n",
    "F = K ** alpha * (L * np.e ** z) ** (1 - alpha)"
   ]
  }
 ],
 "metadata": {
  "kernelspec": {
   "display_name": "Python 3",
   "language": "python",
   "name": "python3"
  },
  "language_info": {
   "codemirror_mode": {
    "name": "ipython",
    "version": 3
   },
   "file_extension": ".py",
   "mimetype": "text/x-python",
   "name": "python",
   "nbconvert_exporter": "python",
   "pygments_lexer": "ipython3",
   "version": "3.6.4"
  }
 },
 "nbformat": 4,
 "nbformat_minor": 2
}
