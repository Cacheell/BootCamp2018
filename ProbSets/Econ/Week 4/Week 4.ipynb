{
 "cells": [
  {
   "cell_type": "markdown",
   "metadata": {},
   "source": [
    "# DSGE Models\n",
    "\n",
    "### Exercise 1"
   ]
  },
  {
   "cell_type": "markdown",
   "metadata": {},
   "source": [
    "We find the value of A in the policy function.  \n",
    "\\begin{align*}\n",
    "    K_{t+1} = Ae^z_t K_t^\\alpha\n",
    "\\end{align*}\n",
    "We know that Y is savings plus consumption.  So $Y_t = c_t + k_{t+1} = e^z_t K_t^\\alpha$.  We guess $c_t = \\phi Y_t$.  Then $k_{t+1} = (1 - \\phi)Y_t$.  Then the Euler is:  \n",
    "\n",
    "\\begin{align*}\n",
    "    \\frac{1}{Y_t - Y_t + \\phi Y_t} &= \\beta E_t \\Big \\{ \\frac{\\alpha e^{x_t}(k_{t+1})^{\\alpha - 1}}{\\phi Y_{t+1}} \\Big\\} \\\\\n",
    "    \\implies \\frac{1}{\\phi e^z_t k_t^\\alpha} &= \\beta E_t \\Big \\{\\frac{\\alpha (k_{t+1})^{\\alpha - 1}}{\\phi k_{t+1}^\\alpha} \\Big\\} \\\\\n",
    "    \\implies \\frac{1}{\\phi e^z_t k_t^\\alpha} &= \\beta \\Big\\{ \\frac{\\alpha}{\\phi k_{t+1}} \\Big\\}  \\\\\n",
    "    \\implies k_{t+1} &= \\beta \\alpha e^z_t k_t^\\alpha\n",
    "\\end{align*}\n",
    "\n",
    "Thus $ A = \\alpha \\beta$\n"
   ]
  },
  {
   "cell_type": "markdown",
   "metadata": {},
   "source": [
    "### Exercise 2\n",
    "\n",
    "<number>\n",
    "1. $c_t = $ Same as defined in notes\n",
    "    \n",
    "2. $\\frac{1}{c_t} = \\beta E_t \\Big\\{\\frac{(r_{t+1} - \\delta)(1 - \\tau) + 1}{c_t} \\Big\\}$\n",
    "\n",
    "3. $\\frac{a}{1 - l_t} = \\frac{w_t(1-\\tau)}{c_t}$\n",
    "\n",
    "4. $r_t = \\alpha k_t^{\\alpha - 1} e^{z_t} L_t^{1-\\alpha}$\n",
    "\n",
    "5. $w_t = (1 - \\alpha)\\frac{e^z_t k_t^\\alpha}{L_t^\\alpha}$\n",
    "\n",
    "6. $T_t = $ Same as defined in notes.\n",
    "\n",
    "7. $z_t = $ Same as defined in notes.\n"
   ]
  },
  {
   "cell_type": "markdown",
   "metadata": {},
   "source": [
    "### Exercise 3\n",
    "\n",
    "<number>\n",
    "1. $c_t = $ Same as above\n",
    "    \n",
    "2. $\\frac{1}{c_t^\\gamma} = \\beta E_t \\Big\\{\\frac{(r_{t+1} - \\delta)(1 - \\tau) + 1}{c_t^\\gamma} \\Big\\}$\n",
    "\n",
    "3. $\\frac{a}{1 - l_t} = \\frac{w_t(1-\\tau)}{c_t^\\gamma}$\n",
    "\n",
    "4. $r_t = $ Same as defined above.\n",
    "\n",
    "5. $w_t = $ Same as defined above.\n",
    "\n",
    "6. $T_t = $ Same as defined above.\n",
    "\n",
    "7. $z_t = $ Same as defined above."
   ]
  },
  {
   "cell_type": "markdown",
   "metadata": {},
   "source": [
    "### Exercise 4\n",
    "\n",
    "<number>\n",
    "1. $c_t = $ Same as above.\n",
    "    \n",
    "2. $\\frac{1}{c_t^\\gamma} = \\beta E_t \\Big\\{\\frac{(r_{t+1} - \\delta)(1 - \\tau) + 1}{c_t^\\gamma} \\Big\\}$\n",
    "\n",
    "3. $\\frac{a}{(1 - l_t)^\\xi} = \\frac{w_t(1-\\tau)}{c_t^\\gamma}$\n",
    "\n",
    "4. $r_t = e^z_t(\\alpha k_t^\\eta + (1- \\alpha)L_t^\\eta)^{\\frac{1 - \\eta}{\\eta}}(1 - \\alpha)L_t^{\\eta - 1}$ \n",
    "\n",
    "5. $w_t = e^z_t (\\alpha k_t^\\eta + (1 - \\alpha)L_t^\\eta)^{\\frac{1- \\eta}{\\eta}}\\alpha k_t^{\\eta - 1}$\n",
    "\n",
    "6. $T_t = $ Same as defined above.\n",
    "\n",
    "7. $z_t = $ Same as defined above."
   ]
  },
  {
   "cell_type": "markdown",
   "metadata": {},
   "source": [
    "## Exercise 5\n",
    "\n",
    "\n",
    "Characteristic EQ\n",
    "<number>\n",
    "1. $c_t = $ Same as above. \n",
    "    \n",
    "2. $\\frac{1}{c_t^\\gamma} = \\beta E_t \\Big\\{\\frac{(r_{t+1} - \\delta)(1 - \\tau) + 1}{c_t^\\gamma} \\Big\\}$\n",
    "\n",
    "4. $r_t = \\alpha (\\frac{L_t e^{z_t}}{k_t}^{1 - \\alpha} $ \n",
    "\n",
    "5. $w_t = (1 - \\alpha)(\\frac{k_t}{L_t e^{z_t}})^\\alpha$\n",
    "\n",
    "6. $T_t = \\tau [w_t + (r_t - \\delta)k_t]$\n",
    "\n",
    "7. $z_t = (1 - p_z)\\tilde z + p_z z_{t - 1} + \\epsilon_t^z$\n",
    "\n",
    "Steady State - there is a bar on every time parameter\n",
    "<number>\n",
    "1. $c = [w + (r - \\delta)k]$\n",
    "    \n",
    "2. $\\frac{1}{c^\\gamma} = \\beta  \\Big\\{\\frac{(r - \\delta)(1 - \\tau) + 1}{c^\\gamma} \\Big\\}$\n",
    "\n",
    "4. $r = \\alpha (\\frac{L e^{z}}{k})^{1 - \\alpha} $ \n",
    "\n",
    "5. $w = (1 - \\alpha)(\\frac{k}{L e^{z}})^\\alpha$\n",
    "\n",
    "6. $T = \\tau [w + (r - \\delta)k]$\n",
    "\n",
    "7. $z = 0$\n",
    "\n",
    "We note that $ L = 1$ we solve by solving for $r$ from the euler equation and then plugging that into cbar, along with wbar.  We then solve for kbar.  This is solved out and this solved out function can be seen in raw form below."
   ]
  },
  {
   "cell_type": "code",
   "execution_count": 1,
   "metadata": {},
   "outputs": [],
   "source": [
    "import numpy as np\n",
    "import scipy.optimize as opt"
   ]
  },
  {
   "cell_type": "code",
   "execution_count": 2,
   "metadata": {},
   "outputs": [],
   "source": [
    "# Parameters\n",
    "gamma = 2.5\n",
    "beta = 0.98\n",
    "alpha = 0.40\n",
    "delta = 0.10\n",
    "zbar = 0\n",
    "tao = 0.05\n",
    "Lbar = 1"
   ]
  },
  {
   "cell_type": "code",
   "execution_count": 3,
   "metadata": {},
   "outputs": [],
   "source": [
    "# Numerical Solutions\n",
    "def Error_Euler(steadystate, *arguments):\n",
    "    gamma, beta, alpha, delta, zbar, tao, Lbar = arguments\n",
    "    cbar = steadystate[0]\n",
    "    kbar = steadystate[1]\n",
    "    \n",
    "    rbar = alpha * ((Lbar * np.e ** zbar) / kbar) ** (1 - alpha)\n",
    "\n",
    "    error_1 = 1/(cbar ** gamma) - beta* ((rbar - delta)*(1 - tao) + 1) / ((cbar)**gamma)\n",
    "    \n",
    "    error_2 = -cbar + ((1-alpha)*(kbar/(np.e **zbar))**alpha + (alpha*(np.e ** zbar / kbar) ** (1 - alpha) - delta)* kbar)\n",
    "    \n",
    "    return np.array([error_1, error_2])\n"
   ]
  },
  {
   "cell_type": "code",
   "execution_count": 4,
   "metadata": {},
   "outputs": [
    {
     "data": {
      "text/plain": [
       "(1.4845048188586933, 7.287497951065252)"
      ]
     },
     "execution_count": 4,
     "metadata": {},
     "output_type": "execute_result"
    }
   ],
   "source": [
    "# Solve for steady state consumption and kapital\n",
    "arguments = gamma, beta, alpha, delta, zbar, tao, Lbar\n",
    "kbarguess = .5\n",
    "cbarguess = .5\n",
    "solution = opt.root(Error_Euler, [cbarguess, kbarguess], args=arguments, tol=1e-8)\n",
    "cbar, kbar = solution.x\n",
    "cbar, kbar"
   ]
  },
  {
   "cell_type": "code",
   "execution_count": 5,
   "metadata": {},
   "outputs": [],
   "source": [
    "# algebraic solutions"
   ]
  },
  {
   "cell_type": "code",
   "execution_count": 6,
   "metadata": {},
   "outputs": [
    {
     "data": {
      "text/plain": [
       "7.2874979506929884"
      ]
     },
     "execution_count": 6,
     "metadata": {},
     "output_type": "execute_result"
    }
   ],
   "source": [
    "# steady state captial\n",
    "kbar = ((1 - tao)*beta*alpha)**(1/(1 - alpha))*(np.e**zbar) * Lbar / ((1 - beta + delta*(1 - tao)*beta)**(1/(1 - alpha)))\n",
    "kbar"
   ]
  },
  {
   "cell_type": "code",
   "execution_count": 7,
   "metadata": {},
   "outputs": [
    {
     "data": {
      "text/plain": [
       "0.1214822771213749"
      ]
     },
     "execution_count": 7,
     "metadata": {},
     "output_type": "execute_result"
    }
   ],
   "source": [
    "#Solve for return on captial\n",
    "rbar = (1 -beta) / (beta * (1 - tao)) + delta\n",
    "rbar"
   ]
  },
  {
   "cell_type": "code",
   "execution_count": 8,
   "metadata": {},
   "outputs": [
    {
     "data": {
      "text/plain": [
       "1.3279527683513057"
      ]
     },
     "execution_count": 8,
     "metadata": {},
     "output_type": "execute_result"
    }
   ],
   "source": [
    "# Solve for wages\n",
    "wbar = (1 - alpha)*(kbar / (Lbar*np.e ** zbar))**alpha\n",
    "wbar"
   ]
  },
  {
   "cell_type": "code",
   "execution_count": 9,
   "metadata": {},
   "outputs": [
    {
     "data": {
      "text/plain": [
       "(1.484504818849544, 0.0742252409424772)"
      ]
     },
     "execution_count": 9,
     "metadata": {},
     "output_type": "execute_result"
    }
   ],
   "source": [
    "# Solve for consumption and taxation\n",
    "cbar = (wbar + (rbar - delta)*kbar)\n",
    "Tbar = tao*(wbar + (rbar - delta)*kbar)\n",
    "cbar, Tbar"
   ]
  },
  {
   "cell_type": "code",
   "execution_count": 10,
   "metadata": {},
   "outputs": [
    {
     "data": {
      "text/plain": [
       "0.7287497950692989"
      ]
     },
     "execution_count": 10,
     "metadata": {},
     "output_type": "execute_result"
    }
   ],
   "source": [
    "# Solve for investment\n",
    "ibar = kbar - (1 - delta)*kbar\n",
    "ibar"
   ]
  },
  {
   "cell_type": "code",
   "execution_count": 11,
   "metadata": {},
   "outputs": [
    {
     "data": {
      "text/plain": [
       "2.213254613918843"
      ]
     },
     "execution_count": 11,
     "metadata": {},
     "output_type": "execute_result"
    }
   ],
   "source": [
    "# Solve for output\n",
    "ybar = kbar ** alpha * (Lbar * np.e ** zbar) ** (1 - alpha)\n",
    "ybar"
   ]
  },
  {
   "cell_type": "code",
   "execution_count": null,
   "metadata": {},
   "outputs": [],
   "source": []
  },
  {
   "cell_type": "markdown",
   "metadata": {},
   "source": [
    "## Exercise 6 \n",
    "\n",
    "Characteristic EQ\n",
    "<number>\n",
    "1. $c_t = $ Same as above. \n",
    "    \n",
    "2. $\\frac{1}{c_t^\\gamma} = \\beta E_t \\Big\\{\\frac{(r_{t+1} - \\delta)(1 - \\tau) + 1}{c_t^\\gamma} \\Big\\}$\n",
    "\n",
    "3. $\\frac{a}{(1 - l_t)^\\xi} = \\frac{w_t(1-\\tau)}{c_t^\\gamma}$\n",
    "\n",
    "4. $r_t = \\alpha (\\frac{L_t e^{z_t}}{k_t}^{1 - \\alpha} $ \n",
    "\n",
    "5. $w_t = (1 - \\alpha)(\\frac{k_t}{L_t e^{z_t}})^\\alpha$\n",
    "\n",
    "6. $T_t = \\tau [w_t + (r_t - \\delta)k_t]$\n",
    "\n",
    "7. $z_t = (1 - p_z)\\tilde z + p_z z_{t - 1} + \\epsilon_t^z$\n",
    "\n",
    "\n",
    "Steady State\n",
    "\n",
    "1. $c = [w + (r - \\delta)k]$\n",
    "    \n",
    "2. $\\frac{1}{c^\\gamma} = \\beta  \\Big\\{\\frac{(r - \\delta)(1 - \\tau) + 1}{c^\\gamma} \\Big\\}$\n",
    "\n",
    "3. $\\frac{a}{(1 - l)^\\xi} = \\frac{w(1-\\tau)}{c^\\gamma}$\n",
    "\n",
    "4. $r = \\alpha (\\frac{L e^{z}}{k})^{1 - \\alpha} $ \n",
    "\n",
    "5. $w = (1 - \\alpha)(\\frac{k}{L e^{z}})^\\alpha$\n",
    "\n",
    "6. $T = \\tau [w + (r - \\delta)k]$\n",
    "\n",
    "7. $z = 0$\n"
   ]
  },
  {
   "cell_type": "code",
   "execution_count": 12,
   "metadata": {},
   "outputs": [],
   "source": [
    "gamma = 2.5\n",
    "xi = 1.5\n",
    "beta = .98\n",
    "alpha = 0.40\n",
    "a = 0.5\n",
    "delta = 0.10\n",
    "zbar = 0\n",
    "tao = 0.05"
   ]
  },
  {
   "cell_type": "code",
   "execution_count": 13,
   "metadata": {},
   "outputs": [],
   "source": [
    "# Numerical Solutions\n",
    "    \n",
    "def Error_Euler_2(steadystate, *arguments):\n",
    "    gamma, xi, beta, alpha, a, delta, zbar, tao = arguments\n",
    "    cbar = steadystate[0]\n",
    "    kbar = steadystate[1]\n",
    "    l_bar = steadystate[2]\n",
    "    \n",
    "    rbar = alpha * ((l_bar * np.e ** zbar) / kbar) ** (1 - alpha)\n",
    "    wbar = (1 - alpha) * (kbar / (l_bar * np.e ** zbar)) ** alpha * (np.e **zbar)\n",
    "    \n",
    "    error_1 = (1/(cbar ** gamma)) - beta * (((rbar - delta)*(1 - tao) + 1) / ((cbar)**gamma))\n",
    "    \n",
    "    error_2 = (a) / ((1 - l_bar) ** xi) - (wbar * (1 - tao)) / (cbar ** gamma)\n",
    "    \n",
    "    error_3 = (cbar) - (wbar * l_bar + (rbar - delta) * kbar)\n",
    "   \n",
    "    return np.array([error_1, error_2, error_3])"
   ]
  },
  {
   "cell_type": "code",
   "execution_count": 14,
   "metadata": {},
   "outputs": [
    {
     "data": {
      "text/plain": [
       "(0.8607032061541214, 4.225229026778794, 0.5797914531669064)"
      ]
     },
     "execution_count": 14,
     "metadata": {},
     "output_type": "execute_result"
    }
   ],
   "source": [
    "# Solve for steady state consumption, capital, and labor\n",
    "arguments = gamma, xi, beta, alpha, a, delta, zbar, tao\n",
    "kbarguess = .5\n",
    "cbarguess = .5\n",
    "lbarguess = .5\n",
    "solution = opt.root(Error_Euler_2, [cbarguess, kbarguess, lbarguess], args=arguments, tol=1e-8)\n",
    "cbar, kbar, Lbar = solution.x\n",
    "cbar, kbar, Lbar"
   ]
  },
  {
   "cell_type": "code",
   "execution_count": 15,
   "metadata": {},
   "outputs": [
    {
     "data": {
      "text/plain": [
       "(1.3279527683507593, 0.12148227712144986)"
      ]
     },
     "execution_count": 15,
     "metadata": {},
     "output_type": "execute_result"
    }
   ],
   "source": [
    "# Solve for steady state wages and return on capital\n",
    "wbar = (1 - alpha) * (kbar / (Lbar * np.e ** zbar)) ** alpha * (np.e **zbar)\n",
    "rbar = alpha * ((Lbar * np.e ** zbar) / kbar) ** (1 - alpha)\n",
    "wbar, rbar"
   ]
  },
  {
   "cell_type": "code",
   "execution_count": 16,
   "metadata": {},
   "outputs": [
    {
     "data": {
      "text/plain": [
       "0.04303516030770607"
      ]
     },
     "execution_count": 16,
     "metadata": {},
     "output_type": "execute_result"
    }
   ],
   "source": [
    "# Solve for taxation\n",
    "Tbar = tao * cbar\n",
    "Tbar"
   ]
  },
  {
   "cell_type": "code",
   "execution_count": 17,
   "metadata": {},
   "outputs": [
    {
     "data": {
      "text/plain": [
       "0.4225229026778794"
      ]
     },
     "execution_count": 17,
     "metadata": {},
     "output_type": "execute_result"
    }
   ],
   "source": [
    "# Solve for investment\n",
    "ibar = kbar - (1 - delta)*kbar\n",
    "ibar"
   ]
  },
  {
   "cell_type": "code",
   "execution_count": 18,
   "metadata": {},
   "outputs": [
    {
     "data": {
      "text/plain": [
       "1.2832261088318382"
      ]
     },
     "execution_count": 18,
     "metadata": {},
     "output_type": "execute_result"
    }
   ],
   "source": [
    "# Solve for Output\n",
    "ybar = kbar ** alpha * (Lbar * np.e ** zbar) ** (1 - alpha)\n",
    "ybar"
   ]
  },
  {
   "cell_type": "markdown",
   "metadata": {},
   "source": [
    "# Linearization Notes\n",
    "\n",
    "## Exercise 1"
   ]
  },
  {
   "cell_type": "markdown",
   "metadata": {},
   "source": [
    "The analyticall values of F, G, H, L, M, and N are already given in the notes 1.4."
   ]
  },
  {
   "cell_type": "code",
   "execution_count": 20,
   "metadata": {},
   "outputs": [
    {
     "name": "stdout",
     "output_type": "stream",
     "text": [
      "Once deleted, variables cannot be recovered. Proceed (y/[n])? y\n",
      "This is P and Q.  P:  0.35  and Q:  0.24750650674493596\n"
     ]
    }
   ],
   "source": [
    "%reset\n",
    "import numpy as np\n",
    "import scipy.optimize as opt\n",
    "import matplotlib.pyplot as plt\n",
    "from mpl_toolkits.mplot3d import Axes3D\n",
    "from matplotlib import cm\n",
    "from matplotlib.ticker import LinearLocator\n",
    "\n",
    "# Parameters\n",
    "alpha =0.35\n",
    "beta = 0.98\n",
    "rho = 0.95\n",
    "sigma = 0.02\n",
    "A = beta * alpha\n",
    "Kbar = A ** (1 /(1 - alpha))\n",
    "\n",
    "F = (alpha * Kbar ** ( alpha - 1)) / (Kbar ** alpha - Kbar)\n",
    "G = - (alpha * Kbar ** (alpha - 1)*(alpha + Kbar ** (alpha - 1))) / (Kbar ** alpha - Kbar)\n",
    "H = (alpha ** 2 * Kbar ** (2*(alpha - 1))) / (Kbar ** alpha - Kbar)\n",
    "L = - (alpha * Kbar ** (2 * alpha - 1)) / (Kbar ** alpha - Kbar)\n",
    "M = (alpha ** 2 * Kbar ** (2*(alpha - 1))) / (Kbar ** alpha - Kbar)\n",
    "N = rho\n",
    "# Not sure why N = rho and we only use P2 and not P1 but everyone else is doing it.\n",
    "P1 = (- G + np.sqrt(G*G - 4*F*H)) / (2*F)\n",
    "P2 = (- G - np.sqrt(G*G - 4*F*H)) / (2*F)\n",
    "Q = - (L*N + M) / (F * N + F * P2 + G)\n",
    "zbar = 0\n",
    "print(\"This is P and Q.  P: \", P2, \" and Q: \", Q)"
   ]
  },
  {
   "cell_type": "code",
   "execution_count": 21,
   "metadata": {},
   "outputs": [],
   "source": [
    "def find_K_tp1(Kbar, P, Q, K, z):\n",
    "    return Kbar + P*(K - Kbar) + Q*z \n",
    "\n",
    "def pol_fun_graph(Kbar, P, Q):\n",
    "    \"\"\"Plot the policy function.  Which is given in the lecture notes.\"\"\"\n",
    "    kspace = np.linspace(Kbar * 0.5, Kbar* 1.5, 200)\n",
    "    zspace = np.linspace( -1, 1, 200)\n",
    "    kt, zt = np.meshgrid(kspace, zspace)\n",
    "    ktp1 = np.empty((200, 200))\n",
    "    for i in range(200):\n",
    "        for j in range(200):\n",
    "            ktp1[i, j] = find_K_tp1(Kbar, P, Q, kspace[i], zspace[i])\n",
    "    fig = plt.figure(figsize=(10, 8))\n",
    "    ax = fig.gca(projection='3d')\n",
    "    #ax = fig.add_subplot(111, projection='3d')\n",
    "    surf = ax.plot_surface(kt, zt, ktp1, cmap=cm.coolwarm, linewidth=0, antialiased=False)\n",
    "    plt.xlabel('K_t')\n",
    "    plt.ylabel('Z_t')\n",
    "    plt.title(\"Policy Function\")\n",
    "    plt.show()"
   ]
  },
  {
   "cell_type": "code",
   "execution_count": 22,
   "metadata": {},
   "outputs": [
    {
     "data": {
      "image/png": "[encoded data removed]",
      "text/plain": [
       "<matplotlib.figure.Figure at 0x115d536a0>"
      ]
     },
     "metadata": {},
     "output_type": "display_data"
    }
   ],
   "source": [
    "pol_fun_graph(Kbar, P2, Q)"
   ]
  },
  {
   "cell_type": "markdown",
   "metadata": {},
   "source": []
  },
  {
   "cell_type": "markdown",
   "metadata": {},
   "source": [
    "### Exercise 2:\n"
   ]
  },
  {
   "cell_type": "markdown",
   "metadata": {},
   "source": [
    "I'm confused on what we are supposed to do."
   ]
  },
  {
   "cell_type": "markdown",
   "metadata": {},
   "source": [
    "### Exercise 3:"
   ]
  },
  {
   "cell_type": "markdown",
   "metadata": {},
   "source": [
    "I did this by hand. But after writing the first line in code, I realized it wasn't worth my Saturday night and so I copied the Proof from Tim. \n",
    "\n",
    "$ 0 = E_t \\Big\\{ F \\tilde{X}_{t+1} + G  \\tilde{X}_{t} + H \\tilde{X}_{t-1} + L \\tilde{Z}_{t+1} + M \\tilde{Z}_{t} \\Big\\}$\n",
    "\n",
    "$ 0 = E_t \\Big\\{ F P \\tilde{X}_t + F Q \\tilde{Z}_{t+1} + G P \\tilde{X}_{t-1} + G Q \\tilde{Z}_t + H \\tilde{X}_{t-1} + L N \\tilde{Z}_t + L \\varepsilon_{t+1} + M \\tilde{Z}_t \\Big\\}$\n",
    "\n",
    "$= E_t \\Big\\{ F P^2 \\tilde{X}_{t-1} + F P Q \\tilde{Z}_t + F Q N \\tilde{Z}_t + F Q \\varepsilon_{t+1}G P \\tilde{X}_{t-1} + G Q \\tilde{Z}_t + H \\tilde{X}_{t-1} + LN \\tilde{Z}_t + L\\varepsilon_{t+1} + M \\tilde{Z}_t \\Big\\} $\n",
    "\n",
    "$= E_t \\Big\\{ F P^2 \\tilde{X}_{t-1} + F P Q \\tilde{Z}_t + F Q N \\tilde{Z}_t + F Q \\varepsilon_{t+1}+ \n",
    "    G P \\tilde{X}_{t-1} + G Q \\tilde{Z}_t + H \\tilde{X}_{t-1} + LN \\tilde{Z}_t + L\\varepsilon_{t+1} + M\\tilde{Z}_t \\Big\\}$\n",
    "    \n",
    "$= F P^2 \\tilde{X}_{t-1} + F P Q \\tilde{Z}_t + F Q N \\tilde{Z}_t +\n",
    "    G P \\tilde{X}_{t-1} + G Q \\tilde{Z}_t + H \\tilde{X}_{t-1} + LN \\tilde{Z}_t + M\\tilde{Z}_t $\n",
    "    \n",
    "$= (F P^2 + GP + H) \\tilde{X}_{t-1} + (F P Q + F Q N + G Q + LN + M) \\tilde{Z}_t $\n",
    "\n",
    "$= ((F P + G)P + H) \\tilde{X}_{t-1} + ((FQ + L)N + (FP + G)Q + M) \\tilde{Z}_t $"
   ]
  },
  {
   "cell_type": "markdown",
   "metadata": {},
   "source": [
    "### Exercise 4:\n",
    "\n",
    "This Problem is Exercise 6 from DSGE."
   ]
  },
  {
   "cell_type": "code",
   "execution_count": 23,
   "metadata": {},
   "outputs": [],
   "source": [
    "# Parameters\n",
    "gamma = 2.5\n",
    "xi = 1.5\n",
    "beta = 0.98\n",
    "alpha = 0.40\n",
    "a = 0.5\n",
    "delta = 0.1\n",
    "zbar = 0\n",
    "p_z = 0.9\n",
    "tao = 0.05"
   ]
  },
  {
   "cell_type": "code",
   "execution_count": 24,
   "metadata": {},
   "outputs": [],
   "source": [
    "#Solve for k, c, r, w, l, T, y, i\n",
    "#u = (c ** (1 - gamma) - 1) / ( 1 - gamma) + a * ((1 - l) ** (1 - xi) - 1) / (1 - xi)\n",
    "#F = K ** alpha * (L * np.e ** z) ** (1 - alpha)\n",
    "\n",
    "# Numerical Solutions\n",
    "    \n",
    "def Error_Euler_2(steadystate, *arguments):\n",
    "    #gamma, xi, beta, alpha, a, delta, zbar, tao = arguments\n",
    "    cbar = steadystate[0]\n",
    "    kbar = steadystate[1]\n",
    "    l_bar = steadystate[2]\n",
    "    \n",
    "    rbar = alpha * ((l_bar * np.e ** zbar) / kbar) ** (1 - alpha)\n",
    "    wbar = (1 - alpha) * (kbar / (l_bar * np.e ** zbar)) ** alpha * (np.e **zbar)\n",
    "    \n",
    "    error_1 = (1/(cbar ** gamma)) - beta * (((rbar - delta)*(1 - tao) + 1) / ((cbar)**gamma))\n",
    "    \n",
    "    error_2 = (a) / ((1 - l_bar) ** xi) - (wbar * (1 - tao)) / (cbar ** gamma)\n",
    "    \n",
    "    error_3 = (cbar) - (wbar * l_bar + (rbar - delta) * kbar)\n",
    "   \n",
    "    return np.array([error_1, error_2, error_3])"
   ]
  },
  {
   "cell_type": "code",
   "execution_count": 25,
   "metadata": {},
   "outputs": [],
   "source": [
    "# Solve for steady state consumption, capital, and labor\n",
    "arguments = gamma, xi, beta, alpha, a, delta, zbar, tao\n",
    "kbarguess = .5\n",
    "cbarguess = .5\n",
    "lbarguess = .5\n",
    "solution = opt.root(Error_Euler_2, [cbarguess, kbarguess, lbarguess], args=arguments, tol=1e-8)\n",
    "cbar, kbar, Lbar = solution.x\n"
   ]
  },
  {
   "cell_type": "code",
   "execution_count": 26,
   "metadata": {},
   "outputs": [
    {
     "name": "stdout",
     "output_type": "stream",
     "text": [
      " Kbar:  4.225229026778794 \n",
      " cbar:  0.8607032061541214  \n",
      " rbar:  0.12148227712144986 \n",
      " wbar:  1.3279527683507593 \n",
      " Lbar:  0.5797914531669064  \n",
      " Tbar:  0.04303516030770607 \n",
      " ybar:  1.2832261088318382 \n",
      " ibar:  0.4225229026778794\n"
     ]
    }
   ],
   "source": [
    "# Solve for steady state wages and return on capital\n",
    "wbar = (1 - alpha) * (kbar / (Lbar * np.e ** zbar)) ** alpha * (np.e **zbar)\n",
    "rbar = alpha * ((Lbar * np.e ** zbar) / kbar) ** (1 - alpha)\n",
    "# Solve for taxation\n",
    "Tbar = tao * cbar\n",
    "# Solve for investment\n",
    "ibar = kbar - (1 - delta)*kbar\n",
    "# Solve for Output\n",
    "ybar = kbar ** alpha * (Lbar * np.e ** zbar) ** (1 - alpha)\n",
    "\n",
    "#Solve for k, c, r, w, l, T, y, i\n",
    "print(\" Kbar: \", kbar, \"\\n cbar: \", cbar, \" \\n rbar: \", rbar, \n",
    "     \"\\n wbar: \", wbar, \"\\n Lbar: \", Lbar, \" \\n Tbar: \", Tbar,\n",
    "     \"\\n ybar: \", ybar, \"\\n ibar: \", ibar)"
   ]
  },
  {
   "cell_type": "markdown",
   "metadata": {},
   "source": [
    "### Exercise 5:"
   ]
  },
  {
   "cell_type": "code",
   "execution_count": 27,
   "metadata": {},
   "outputs": [
    {
     "name": "stdout",
     "output_type": "stream",
     "text": [
      "[[0. 0. 0. 0. 0. 0. 0. 0.]\n",
      " [0. 0. 0. 0. 0. 0. 0. 0.]\n",
      " [0. 0. 0. 0. 0. 0. 0. 0.]\n",
      " [0. 0. 0. 0. 0. 0. 0. 0.]\n",
      " [0. 0. 0. 0. 0. 0. 0. 0.]\n",
      " [0. 0. 0. 0. 0. 0. 0. 0.]\n",
      " [0. 0. 0. 0. 0. 0. 0. 0.]\n",
      " [0. 0. 0. 0. 0. 0. 0. 0.]]\n"
     ]
    }
   ],
   "source": [
    "def derivative(f, x, xtilde):\n",
    "    return (steadystates(x) - f(xtilde)) / np.sum(x - xtilde)\n",
    "\n",
    "def steadystates(*params):\n",
    "#    gamma, xi, beta, alpha, a, delta, zbar, tao = params\n",
    "    kbarguess = .5\n",
    "    cbarguess = .5\n",
    "    lbarguess = .5\n",
    "    solution = opt.root(Error_Euler_2, [cbarguess, kbarguess, lbarguess], args=params, tol=1e-8)\n",
    "    cbar, kbar, Lbar = solution.x\n",
    "    wbar = (1 - alpha) * (kbar / (Lbar * np.e ** zbar)) ** alpha * (np.e ** zbar)\n",
    "    rbar = alpha * ((Lbar * np.e ** zbar) / kbar) ** (1 - alpha)\n",
    "    Tbar = tao * cbar\n",
    "    ibar = kbar - (1 - delta)*kbar\n",
    "    ybar = kbar ** alpha * (Lbar * np.e ** zbar) ** (1 - alpha)\n",
    "    return np.array([cbar, kbar, Lbar, wbar, rbar, Tbar, ibar, ybar])\n",
    "\n",
    "params = np.array([delta, tao, zbar, alpha, gamma, xi, beta, a])\n",
    "eps = 1e-6\n",
    "der_matrix = np.zeros((8, len(params)))\n",
    "for i in range(8):\n",
    "    for j in range(len(params)):\n",
    "        paramstilde = np.array([delta, tao, zbar, alpha, gamma, xi, beta, a])\n",
    "        paramstilde = params[j] + eps\n",
    "        der_matrix[i, j] = (steadystates(params)[i] - steadystates(paramstilde)[i]) / eps\n",
    "print(der_matrix)\n",
    "\n",
    " #my code isn't working. It doesn't register the the epsilon change for the steady states.\n"
   ]
  },
  {
   "cell_type": "markdown",
   "metadata": {},
   "source": [
    "## Exercise 6"
   ]
  },
  {
   "cell_type": "code",
   "execution_count": 28,
   "metadata": {},
   "outputs": [
    {
     "data": {
      "text/plain": [
       "Ellipsis"
      ]
     },
     "execution_count": 28,
     "metadata": {},
     "output_type": "execute_result"
    }
   ],
   "source": [
    "..."
   ]
  },
  {
   "cell_type": "markdown",
   "metadata": {},
   "source": [
    "# Perturbation Methods\n",
    "\n",
    "## Exercise 1"
   ]
  },
  {
   "cell_type": "markdown",
   "metadata": {},
   "source": [
    "We take the derivative of equation 5 with respect to u.  It gets ugly quick but it gives us $x_{uuu}(u_0)$ as a function of the derivatives of the F function and the lower order derrivatives of the x function, if we solve for it.  "
   ]
  },
  {
   "cell_type": "markdown",
   "metadata": {},
   "source": [
    "## Exercise 2 "
   ]
  },
  {
   "cell_type": "code",
   "execution_count": 29,
   "metadata": {},
   "outputs": [
    {
     "name": "stdout",
     "output_type": "stream",
     "text": [
      "Once deleted, variables cannot be recovered. Proceed (y/[n])? y\n"
     ]
    }
   ],
   "source": [
    "%reset\n",
    "import numpy as np\n",
    "import scipy \n",
    "from matplotlib import pyplot as plt\n",
    "from scipy import optimize as opt\n",
    "import sympy as sy"
   ]
  },
  {
   "cell_type": "code",
   "execution_count": 30,
   "metadata": {},
   "outputs": [],
   "source": [
    "alpha = 0.33\n",
    "k = 5\n",
    "z = 1\n",
    "b = 2\n",
    "t = 0.1\n",
    "h = 24\n",
    "\n",
    "def nd(alpha, z, w, k):\n",
    "    return (((1-alpha)*z)/w) ** (1 / alpha) * k\n",
    "def profit(alpha, z, w, k):\n",
    "    return (z * k ** alpha * nd(alpha, z, w, k) ** (1 - alpha) - w * nd(alpha, z, w, k))\n",
    "def ns(alpha, z, w, k, h, b, t):\n",
    "    return (h - ((b)/(w*(1 + b)))*(w*h + profit(alpha, z, w, k) - t))"
   ]
  },
  {
   "cell_type": "code",
   "execution_count": 31,
   "metadata": {},
   "outputs": [
    {
     "data": {
      "text/plain": [
       "array([0.62736178])"
      ]
     },
     "execution_count": 31,
     "metadata": {},
     "output_type": "execute_result"
    }
   ],
   "source": [
    "def error(w, *params):\n",
    "    return nd(alpha, z, w, k) - ns(alpha, z, w, k, h, b, t)\n",
    "w0= 0.5\n",
    "mrkt_clear = opt.fsolve(error, w0, [alpha, z, k, h, b, t])\n",
    "#Print the market clearing wage\n",
    "mrkt_clear"
   ]
  },
  {
   "cell_type": "code",
   "execution_count": 32,
   "metadata": {},
   "outputs": [],
   "source": [
    "k = sy.Symbol('k')\n",
    "\n",
    "def function_mkc(k, alpha, z, w, h, b, t):\n",
    "    return nd(alpha, z, w, k) - ns(alpha, z, w, k, h, b, t)\n",
    "\n",
    "def factorial(n):\n",
    "    if n <=0:\n",
    "        return 1\n",
    "    else:\n",
    "        return n*factorial(n-1)\n",
    "\n",
    "def taylor(function,x0,n):\n",
    "    i = 0\n",
    "    p = 0\n",
    "    while i <= n:\n",
    "        p = p + (function.diff(k,i).subs(x,x0))/(factorial(i))*(x-x0)**i\n",
    "        i += 1\n",
    "    return p"
   ]
  },
  {
   "cell_type": "code",
   "execution_count": 33,
   "metadata": {},
   "outputs": [
    {
     "ename": "AttributeError",
     "evalue": "'function' object has no attribute 'diff'",
     "output_type": "error",
     "traceback": [
      "\u001b[0;31m---------------------------------------------------------------------------\u001b[0m",
      "\u001b[0;31mAttributeError\u001b[0m                            Traceback (most recent call last)",
      "\u001b[0;32m<ipython-input-33-005c4c9414bc>\u001b[0m in \u001b[0;36m<module>\u001b[0;34m()\u001b[0m\n\u001b[1;32m      2\u001b[0m \u001b[0mx1\u001b[0m \u001b[0;34m=\u001b[0m \u001b[0mnp\u001b[0m\u001b[0;34m.\u001b[0m\u001b[0mlinspace\u001b[0m\u001b[0;34m(\u001b[0m\u001b[0mx_lims\u001b[0m\u001b[0;34m[\u001b[0m\u001b[0;36m0\u001b[0m\u001b[0;34m]\u001b[0m\u001b[0;34m,\u001b[0m\u001b[0mx_lims\u001b[0m\u001b[0;34m[\u001b[0m\u001b[0;36m1\u001b[0m\u001b[0;34m]\u001b[0m\u001b[0;34m,\u001b[0m\u001b[0;36m100\u001b[0m\u001b[0;34m)\u001b[0m\u001b[0;34m\u001b[0m\u001b[0m\n\u001b[1;32m      3\u001b[0m \u001b[0my1\u001b[0m \u001b[0;34m=\u001b[0m \u001b[0;34m[\u001b[0m\u001b[0;34m]\u001b[0m\u001b[0;34m\u001b[0m\u001b[0m\n\u001b[0;32m----> 4\u001b[0;31m \u001b[0mfunc\u001b[0m \u001b[0;34m=\u001b[0m \u001b[0mtaylor\u001b[0m\u001b[0;34m(\u001b[0m\u001b[0mfunction_mkc\u001b[0m\u001b[0;34m,\u001b[0m\u001b[0;36m5\u001b[0m\u001b[0;34m,\u001b[0m\u001b[0;36m1\u001b[0m\u001b[0;34m)\u001b[0m\u001b[0;34m\u001b[0m\u001b[0m\n\u001b[0m\u001b[1;32m      5\u001b[0m \u001b[0mprint\u001b[0m\u001b[0;34m(\u001b[0m\u001b[0;34m'Taylor expansion at n='\u001b[0m\u001b[0;34m+\u001b[0m\u001b[0mstr\u001b[0m\u001b[0;34m(\u001b[0m\u001b[0;36m1\u001b[0m\u001b[0;34m)\u001b[0m\u001b[0;34m,\u001b[0m\u001b[0mfunc\u001b[0m\u001b[0;34m)\u001b[0m\u001b[0;34m\u001b[0m\u001b[0m\n\u001b[1;32m      6\u001b[0m \u001b[0;32mfor\u001b[0m \u001b[0mii\u001b[0m \u001b[0;32min\u001b[0m \u001b[0mx1\u001b[0m\u001b[0;34m:\u001b[0m\u001b[0;34m\u001b[0m\u001b[0m\n",
      "\u001b[0;32m<ipython-input-32-8021e4ff3225>\u001b[0m in \u001b[0;36mtaylor\u001b[0;34m(function, x0, n)\u001b[0m\n\u001b[1;32m     14\u001b[0m     \u001b[0mp\u001b[0m \u001b[0;34m=\u001b[0m \u001b[0;36m0\u001b[0m\u001b[0;34m\u001b[0m\u001b[0m\n\u001b[1;32m     15\u001b[0m     \u001b[0;32mwhile\u001b[0m \u001b[0mi\u001b[0m \u001b[0;34m<=\u001b[0m \u001b[0mn\u001b[0m\u001b[0;34m:\u001b[0m\u001b[0;34m\u001b[0m\u001b[0m\n\u001b[0;32m---> 16\u001b[0;31m         \u001b[0mp\u001b[0m \u001b[0;34m=\u001b[0m \u001b[0mp\u001b[0m \u001b[0;34m+\u001b[0m \u001b[0;34m(\u001b[0m\u001b[0mfunction\u001b[0m\u001b[0;34m.\u001b[0m\u001b[0mdiff\u001b[0m\u001b[0;34m(\u001b[0m\u001b[0mk\u001b[0m\u001b[0;34m,\u001b[0m\u001b[0mi\u001b[0m\u001b[0;34m)\u001b[0m\u001b[0;34m.\u001b[0m\u001b[0msubs\u001b[0m\u001b[0;34m(\u001b[0m\u001b[0mx\u001b[0m\u001b[0;34m,\u001b[0m\u001b[0mx0\u001b[0m\u001b[0;34m)\u001b[0m\u001b[0;34m)\u001b[0m\u001b[0;34m/\u001b[0m\u001b[0;34m(\u001b[0m\u001b[0mfactorial\u001b[0m\u001b[0;34m(\u001b[0m\u001b[0mi\u001b[0m\u001b[0;34m)\u001b[0m\u001b[0;34m)\u001b[0m\u001b[0;34m*\u001b[0m\u001b[0;34m(\u001b[0m\u001b[0mx\u001b[0m\u001b[0;34m-\u001b[0m\u001b[0mx0\u001b[0m\u001b[0;34m)\u001b[0m\u001b[0;34m**\u001b[0m\u001b[0mi\u001b[0m\u001b[0;34m\u001b[0m\u001b[0m\n\u001b[0m\u001b[1;32m     17\u001b[0m         \u001b[0mi\u001b[0m \u001b[0;34m+=\u001b[0m \u001b[0;36m1\u001b[0m\u001b[0;34m\u001b[0m\u001b[0m\n\u001b[1;32m     18\u001b[0m     \u001b[0;32mreturn\u001b[0m \u001b[0mp\u001b[0m\u001b[0;34m\u001b[0m\u001b[0m\n",
      "\u001b[0;31mAttributeError\u001b[0m: 'function' object has no attribute 'diff'"
     ]
    }
   ],
   "source": [
    "x_lims = [1,15]\n",
    "x1 = np.linspace(x_lims[0],x_lims[1],100)\n",
    "y1 = []\n",
    "func = taylor(function_mkc,5,1)\n",
    "print('Taylor expansion at n='+str(1),func)\n",
    "for ii in x1:\n",
    "    y1.append(func.subs(k,ii))\n",
    "plt.plot(x1,func,label='order '+str(1))\n",
    "y1 = []\n",
    "# Plot the function to approximate (sine, in this case)\n",
    "#     plt.plot(x1,np.sin(x1),label='sin of x')\n",
    "#     plt.xlim(x_lims)\n",
    "#     plt.ylim([-5,5])\n",
    "#     plt.xlabel('x')\n",
    "#     plt.ylabel('y')\n",
    "#     plt.legend()\n",
    "#     plt.grid(True)\n",
    "#     plt.title('Taylor series approximation')\n",
    "plt.show()\n"
   ]
  },
  {
   "cell_type": "markdown",
   "metadata": {},
   "source": [
    "I keep getting the same error.  After looking at other people's code and getting help, I realized I should have probably just hardcoded the derivatives in and not used the symbolic \"sympy\".  Instead of rewriting the whole function to get working code, I've decided to keep my originalish code (the taylor function was from online) and use the hard code of derivatives in the next problem."
   ]
  },
  {
   "cell_type": "markdown",
   "metadata": {},
   "source": [
    "## Exercise 3:\n",
    "Thanks to Tim Munday, which this problem's code is based on.  It's still not working though, and I can't find the difference.  I've changed so much of the code it's basically a copy of Tim's now. But still not working. "
   ]
  },
  {
   "cell_type": "code",
   "execution_count": 34,
   "metadata": {},
   "outputs": [
    {
     "name": "stdout",
     "output_type": "stream",
     "text": [
      "Once deleted, variables cannot be recovered. Proceed (y/[n])? y\n"
     ]
    }
   ],
   "source": [
    "%reset\n",
    "import numpy as np\n",
    "import scipy \n",
    "from matplotlib import pyplot as plt\n",
    "from scipy import optimize as opt\n",
    "import sympy as sy\n"
   ]
  },
  {
   "cell_type": "code",
   "execution_count": 35,
   "metadata": {},
   "outputs": [],
   "source": [
    "def error(x, y):\n",
    "    err = (x**0.35 + 0.9*x - y)**(-2.5) - 0.95*(y**0.35 + 0.9*y)**(-2.5)\n",
    "    return err\n",
    "\n",
    "def first_deriv(f, x, h = 1e-2):\n",
    "    return (f(x + h)- f(x - h))/(2*h)\n",
    "\n",
    "def second_deriv(f, x, h = 1e-2):\n",
    "    return (f(x + h)+ f(x - h) - 2*f(x))/(h**2)\n",
    "\n",
    "def third_deriv(f, x, h = 1e-2):\n",
    "    return (f(x + 2*h) - 2 * f(x + h) + 2 * f(x - h) - f(x - 2*h))/(2*(h**3))\n",
    "\n",
    "def first_approx(f, x0, x):\n",
    "     return f(x0) + first_deriv(f, x0)*(x - x0) \n",
    "    \n",
    "def second_approx(f, x0, x):\n",
    "    return f(x0) + first_deriv(f, x0)*(x - x0) + 0.5* second_deriv(f,x0)*(x - x0) ** 2\n",
    "\n",
    "def third_approx(f, x0, x):\n",
    "    return f(x0) + first_deriv(f, x0)*(x - x0) + 0.5* second_deriv(f,x0)*(x - x0) ** 2 + \\\n",
    "            1/6* third_deriv(f,x0)*(x - x0) ** 3\n",
    "\n",
    "def y_find(x):\n",
    "    y = opt.fsolve(error, 50, x, xtol=1e-9)\n",
    "    return y\n"
   ]
  },
  {
   "cell_type": "code",
   "execution_count": 36,
   "metadata": {},
   "outputs": [
    {
     "name": "stderr",
     "output_type": "stream",
     "text": [
      "/Users/cacheellsworth/anaconda3/lib/python3.6/site-packages/ipykernel_launcher.py:2: RuntimeWarning: invalid value encountered in power\n",
      "  \n",
      "/Users/cacheellsworth/anaconda3/lib/python3.6/site-packages/scipy/optimize/minpack.py:161: RuntimeWarning: The iteration is not making good progress, as measured by the \n",
      "  improvement from the last ten iterations.\n",
      "  warnings.warn(msg, RuntimeWarning)\n"
     ]
    },
    {
     "data": {
      "image/png": "[encoded data removed]",
      "text/plain": [
       "<matplotlib.figure.Figure at 0x151b8a16a0>"
      ]
     },
     "metadata": {},
     "output_type": "display_data"
    }
   ],
   "source": [
    "# Approximations\n",
    "xspace = np.linspace(99, 101, 100)\n",
    "\n",
    "fo_app_x = first_approx(y_find, 100, xspace)\n",
    "so_app_x = second_approx(y_find, 100, xspace)\n",
    "tho_app_x = third_approx(y_find, 100, xspace)\n",
    "xfun = np.zeros(100)\n",
    "for i in range(len(xspace)):\n",
    "    xfun[i] = y_find(xspace[i])\n",
    "\n",
    "error1 = xfun - fo_app_x\n",
    "error2 = xfun - so_app_x\n",
    "error3 = xfun - tho_app_x\n",
    "    \n",
    "plt.figure()\n",
    "plt.plot(xspace, error1, label='First order approx error')\n",
    "plt.plot(xspace, error2, label='Second order approx error')\n",
    "plt.plot(xspace, error3, label ='Third order approx error')\n",
    "plt.legend()\n",
    "plt.xlabel('X')\n",
    "plt.ylabel('Error')\n",
    "\n",
    "plt.show()"
   ]
  },
  {
   "cell_type": "code",
   "execution_count": 37,
   "metadata": {},
   "outputs": [
    {
     "data": {
      "text/plain": [
       "array([ True,  True,  True,  True,  True,  True,  True,  True,  True,\n",
       "        True,  True,  True,  True,  True,  True,  True,  True,  True,\n",
       "        True,  True,  True,  True,  True,  True,  True,  True,  True,\n",
       "        True,  True,  True,  True,  True,  True,  True,  True,  True,\n",
       "        True,  True,  True,  True,  True,  True,  True,  True,  True,\n",
       "        True,  True,  True,  True,  True,  True,  True,  True,  True,\n",
       "        True,  True,  True,  True,  True,  True,  True,  True,  True,\n",
       "        True,  True,  True,  True,  True,  True,  True,  True,  True,\n",
       "        True,  True,  True,  True,  True,  True,  True,  True,  True,\n",
       "        True,  True,  True,  True,  True,  True,  True,  True,  True,\n",
       "        True,  True,  True,  True,  True,  True,  True,  True,  True,\n",
       "        True])"
      ]
     },
     "execution_count": 37,
     "metadata": {},
     "output_type": "execute_result"
    }
   ],
   "source": [
    "error1 == error2"
   ]
  },
  {
   "cell_type": "code",
   "execution_count": null,
   "metadata": {},
   "outputs": [],
   "source": []
  }
 ],
 "metadata": {
  "kernelspec": {
   "display_name": "Python 3",
   "language": "python",
   "name": "python3"
  },
  "language_info": {
   "codemirror_mode": {
    "name": "ipython",
    "version": 3
   },
   "file_extension": ".py",
   "mimetype": "text/x-python",
   "name": "python",
   "nbconvert_exporter": "python",
   "pygments_lexer": "ipython3",
   "version": "3.6.4"
  }
 },
 "nbformat": 4,
 "nbformat_minor": 2
}
