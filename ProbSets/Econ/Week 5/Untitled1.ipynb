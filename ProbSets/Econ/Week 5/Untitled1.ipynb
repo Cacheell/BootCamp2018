{
 "cells": [
  {
   "cell_type": "code",
   "execution_count": 10,
   "metadata": {},
   "outputs": [
    {
     "name": "stdout",
     "output_type": "stream",
     "text": [
      "alpha_mle= 0.5534077576357248 \n",
      " mu_mle= 8.106499434665157 \n",
      " sigma_mle: 0.09278026792905704 \n",
      " rho_mle: 0.8246485429070475 \n",
      " Loglikvalmax= 95.85827569290834 \n",
      " InvHessVarCovar = \n",
      " [[ 2.94783896e+00 -3.91105055e+01 -2.20282338e-01 -8.61238189e-01]\n",
      " [-3.91105055e+01  5.18902999e+02  2.92239258e+00  1.14268028e+01]\n",
      " [-2.20282338e-01  2.92239258e+00  1.66392463e-02  6.39042748e-02]\n",
      " [-8.61238189e-01  1.14268028e+01  6.39042748e-02  2.56555043e-01]]\n"
     ]
    }
   ],
   "source": [
    "import numpy as np\n",
    "import scipy\n",
    "from scipy import stats\n",
    "import matplotlib.pyplot as plt\n",
    "import scipy.optimize as opt\n",
    "import math\n",
    "from scipy.special import gamma\n",
    "import pandas as pd\n",
    "from scipy.integrate import quad\n",
    "import numpy.linalg as lin\n",
    "from scipy.stats import norm\n",
    "\n",
    "#Readin\n",
    "data = pd.read_csv(\"MacroSeries.txt\", header = None)\n",
    "data.columns = ['c','k','w','r','y']\n",
    "\n",
    "macdata  =  pd.read_csv('MacroSeries.txt', header=None)\n",
    "macdata.columns = ['ct', 'kt', 'wt', 'rt', 'yt']\n",
    "                          \n",
    "def get_z(w, k, alpha): \n",
    "    '''Get me a series of z's for some series of k and w and a parameter alpha'''\n",
    "    zt = np.log(w/((1-alpha)*k**alpha))\n",
    "    return zt\n",
    "    \n",
    "def log_lik_BM_1(w, k, alpha, mu, sigma, rho):\n",
    "    '''Get me the log likelihood of the z values pdf for some data and params'''\n",
    "    zvals = get_z(w, k, alpha)\n",
    "    log_lik_val = 0\n",
    "    for i in range(len(zvals)):\n",
    "        if i == 0:\n",
    "            pdf_val = norm.pdf(mu, loc=mu, scale=sigma)\n",
    "        else:\n",
    "            pdf_val = norm.pdf(zvals[i], loc=(rho*zvals[i-1] + (1-rho)*mu), scale=sigma)\n",
    "        ln_pdf_val = np.log(pdf_val)\n",
    "        log_lik_val += ln_pdf_val\n",
    "    return log_lik_val\n",
    "\n",
    "def crit_BM_1(params, *args):\n",
    "    '''Define a criterion function to minimise\n",
    "    in this case the negative of the log likelihood'''\n",
    "    alpha, mu, sigma, rho = params\n",
    "    w, k = args\n",
    "    log_lik_val = log_lik_BM_1(w, k, alpha, mu, sigma, rho)\n",
    "    neg_log_lik_val = -log_lik_val\n",
    "    return -log_lik_val\n",
    "\n",
    "params_init_BM_1 = np.array([0.4, 0.4, 0.4, 0.8])\n",
    "mle_BM_args = (macdata.wt, macdata.kt)\n",
    "results_BM_1 = opt.minimize(crit_BM_1, params_init_BM_1, args=mle_BM_args, method ='L-BFGS-B', bounds=((1e-2, 0.99),\\\n",
    "                                                                                                       (1e-2, None),\\\n",
    "                                                                                                (1e-2, None),\\\n",
    "                                                                                                      (-0.99, 0.99)))\n",
    "alpha_mle, mu_mle, sigma_mle, rho_mle = results_BM_1.x\n",
    "loglikval_BM = -results_BM_1.fun\n",
    "IHVCV = results_BM_1.hess_inv.todense()\n",
    "#Use rick's algorithm to take negative elements of off-diagonal\n",
    "print('alpha_mle=', alpha_mle, '\\n mu_mle=', mu_mle, '\\n sigma_mle:', sigma_mle, '\\n rho_mle:', rho_mle, '\\n Loglikvalmax=', loglikval_BM, \"\\n InvHessVarCovar = \\n\", IHVCV)"
   ]
  },
  {
   "cell_type": "code",
   "execution_count": null,
   "metadata": {},
   "outputs": [],
   "source": []
  }
 ],
 "metadata": {
  "kernelspec": {
   "display_name": "Python 3",
   "language": "python",
   "name": "python3"
  },
  "language_info": {
   "codemirror_mode": {
    "name": "ipython",
    "version": 3
   },
   "file_extension": ".py",
   "mimetype": "text/x-python",
   "name": "python",
   "nbconvert_exporter": "python",
   "pygments_lexer": "ipython3",
   "version": "3.6.4"
  }
 },
 "nbformat": 4,
 "nbformat_minor": 2
}
