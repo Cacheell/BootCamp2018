{
 "cells": [
  {
   "cell_type": "markdown",
   "metadata": {},
   "source": [
    "# Exercise 1:"
   ]
  },
  {
   "cell_type": "code",
   "execution_count": 1,
   "metadata": {},
   "outputs": [],
   "source": [
    "import numpy as np\n",
    "import scipy\n",
    "from scipy import stats\n",
    "import matplotlib.pyplot as plt\n",
    "import scipy.optimize as opt\n",
    "import math\n",
    "from scipy.special import gamma\n",
    "%matplotlib notebook"
   ]
  },
  {
   "cell_type": "code",
   "execution_count": 2,
   "metadata": {},
   "outputs": [],
   "source": [
    "healthclaims = np.loadtxt(\"clms.txt\")"
   ]
  },
  {
   "cell_type": "code",
   "execution_count": 3,
   "metadata": {},
   "outputs": [
    {
     "name": "stdout",
     "output_type": "stream",
     "text": [
      "Mean Health Claim:     720.2779753272437\n",
      "Median Health Claim:   172.21\n",
      "Standard deviation:    3972.663756393663\n",
      "Minimum Health Claim:  0.01\n",
      "Maximum Health Claim:  227967.25\n"
     ]
    }
   ],
   "source": [
    "meanhc = np.mean(healthclaims)\n",
    "medianhc = np.median(healthclaims)\n",
    "maxhc = np.max(healthclaims)\n",
    "minhc = np.min(healthclaims)\n",
    "stdhc = np.std(healthclaims)\n",
    "print(\"Mean Health Claim:    \", meanhc)\n",
    "print(\"Median Health Claim:  \", medianhc)\n",
    "print(\"Standard deviation:   \", stdhc)\n",
    "print(\"Minimum Health Claim: \", minhc)\n",
    "print(\"Maximum Health Claim: \", maxhc)"
   ]
  },
  {
   "cell_type": "code",
   "execution_count": 4,
   "metadata": {
    "scrolled": false
   },
   "outputs": [
    {
     "name": "stdout",
     "output_type": "stream",
     "text": [
      "1.0000000000000322\n"
     ]
    },
    {
     "data": {
      "image/png": "[encoded data removed]",
      "text/plain": [
       "<matplotlib.figure.Figure at 0x1a172b64a8>"
      ]
     },
     "metadata": {},
     "output_type": "display_data"
    }
   ],
   "source": [
    "num_bins = 1000\n",
    "weights = (1 / len(healthclaims)) * np.ones_like(healthclaims)\n",
    "n, bin_cuts, patches = plt.hist(healthclaims, num_bins, weights=weights, edgecolor='k')\n",
    "print(n.sum())\n",
    "\n",
    "#plt.xticks(np.round_(bin_cuts, 1))\n",
    "plt.title('Histogram of health claims by household: ', fontsize=17)\n",
    "plt.xlabel(r'Value of monthly health expenditures')\n",
    "plt.ylabel(r'Percent of observations in bin')\n",
    "plt.show()\n"
   ]
  },
  {
   "cell_type": "code",
   "execution_count": 5,
   "metadata": {
    "scrolled": false
   },
   "outputs": [
    {
     "name": "stdout",
     "output_type": "stream",
     "text": [
      "0.8494208494208465\n"
     ]
    },
    {
     "data": {
      "image/png": "[encoded data removed]",
      "text/plain": [
       "<matplotlib.figure.Figure at 0x1a17582c50>"
      ]
     },
     "metadata": {},
     "output_type": "display_data"
    }
   ],
   "source": [
    "def plotfun():\n",
    "    num_bins = 100\n",
    "    weights = (1 / len(healthclaims)) * np.ones_like(healthclaims)\n",
    "    n, bin_cuts, patches = plt.hist(healthclaims, num_bins, range=(0, 800), weights=weights, edgecolor='k')\n",
    "    #plt.xticks(np.round_(bin_cuts, 1))\n",
    "    plt.title('Histogram of health claims by household: ', fontsize=17)\n",
    "    plt.xlabel(r'Value of monthly health expenditures')\n",
    "    plt.ylabel(r'Percent of observations in bin')\n",
    "    print(n.sum())\n",
    "\n",
    "plotfun()\n",
    "plt.show()"
   ]
  },
  {
   "cell_type": "markdown",
   "metadata": {},
   "source": [
    "Text on the graphs\n",
    "\n",
    "\n",
    "#### b)"
   ]
  },
  {
   "cell_type": "code",
   "execution_count": 6,
   "metadata": {},
   "outputs": [],
   "source": [
    "# Define log likelihood function for the normal distribution\n",
    "def gamma_pdf(x, alpha, beta):\n",
    "    #try:\n",
    "    G = math.gamma(alpha)\n",
    "    #except OverflowError:\n",
    "        #G = float('inf')\n",
    "    pdf = (1/((beta**alpha)*G))*(x**(alpha-1))*(np.exp(-(x/beta)))\n",
    "    return pdf\n",
    "\n",
    "\n",
    "def log_lik_gamma(xvals, alpha, beta):\n",
    "    '''\n",
    "    --------------------------------------------------------------------\n",
    "    Compute the log likelihood function for data xvals given gamma\n",
    "    distribution parameters alpha and beta.\n",
    "    --------------------------------------------------------------------\n",
    "    INPUTS:\n",
    "    xvals  = (N,) vector, values of the normally distributed random\n",
    "             variable\n",
    "    alpha   = \n",
    "    beta   = \n",
    "\n",
    "    OTHER FUNCTIONS AND FILES CALLED BY THIS FUNCTION:\n",
    "        \n",
    "    \n",
    "    OBJECTS CREATED WITHIN FUNCTION:\n",
    "    pdf_vals    = (N,) vector, normal PDF values for mu and sigma\n",
    "                  corresponding to xvals data\n",
    "    ln_pdf_vals = (N,) vector, natural logarithm of normal PDF values\n",
    "                  for mu and sigma corresponding to xvals data\n",
    "    log_lik_val = scalar, value of the log likelihood function\n",
    "    \n",
    "    FILES CREATED BY THIS FUNCTION: None\n",
    "    \n",
    "    RETURNS: log_lik_val\n",
    "    --------------------------------------------------------------------\n",
    "    '''\n",
    "    #pdf_vals = stats.gamma.pdf(xvals, a=alpha, scale=(1 / beta))  #I'm not sure why this isn't working.\n",
    "    pdf_vals = gamma_pdf(xvals, alpha, beta)\n",
    "    ln_pdf_vals = np.log(pdf_vals)\n",
    "    log_lik_val = ln_pdf_vals.sum()\n",
    "    return log_lik_val\n"
   ]
  },
  {
   "cell_type": "code",
   "execution_count": 7,
   "metadata": {},
   "outputs": [],
   "source": [
    "def crit(params, *args):\n",
    "    '''\n",
    "    --------------------------------------------------------------------\n",
    "    This function computes the negative of the log likelihood function\n",
    "    given parameters and data. This is the minimization problem version\n",
    "    of the maximum likelihood optimization problem\n",
    "    --------------------------------------------------------------------\n",
    "    INPUTS:\n",
    "\n",
    "    \n",
    "    OTHER FUNCTIONS AND FILES CALLED BY THIS FUNCTION:\n",
    "        log_lik_norm()\n",
    "    \n",
    "    OBJECTS CREATED WITHIN FUNCTION:\n",
    "    log_lik_val = scalar, value of the log likelihood function\n",
    "    neg_log_lik_val = scalar, negative of log_lik_val\n",
    "    \n",
    "    FILES CREATED BY THIS FUNCTION: None\n",
    "    \n",
    "    RETURNS: neg_log_lik_val\n",
    "    --------------------------------------------------------------------\n",
    "    '''\n",
    "    alpha, beta = params\n",
    "    xvals = args\n",
    "    #T = len(xvals)\n",
    "    #log_lik_val = -T * alpha * np.log(beta) + (alpha - 1) * np.sum(np.log(xvals)) - \\\n",
    "    #    (1 / beta) * np.sum(xvals) - T * math.gamma(alpha)\n",
    "    log_lik_val = log_lik_gamma(xvals, alpha, beta)\n",
    "    neg_log_lik_val = -log_lik_val\n",
    "    return neg_log_lik_val"
   ]
  },
  {
   "cell_type": "code",
   "execution_count": 8,
   "metadata": {},
   "outputs": [
    {
     "name": "stdout",
     "output_type": "stream",
     "text": [
      "MLE Alpha:  0.22175531882397229\n",
      "MLE Beta:   21911.06469927622\n",
      "Log likelihood function:  -82076.451605665\n"
     ]
    }
   ],
   "source": [
    "beta_0 = np.var(healthclaims) / meanhc\n",
    "alpha_0 = meanhc / beta_0\n",
    "params_0 = np.array([alpha_0, beta_0])\n",
    "mleargs = (healthclaims)\n",
    "output = opt.minimize(crit, params_0, args=mleargs, method =\"L-BFGS-B\", bounds=((1e-5, None), (1e-5, None)))\n",
    "alpha_MLE, beta_MLE = output.x\n",
    "loglikeval = -output.fun\n",
    "print(\"MLE Alpha: \", alpha_MLE)\n",
    "print(\"MLE Beta:  \", beta_MLE)\n",
    "print(\"Log likelihood function: \", loglikeval)"
   ]
  },
  {
   "cell_type": "code",
   "execution_count": 9,
   "metadata": {
    "scrolled": true
   },
   "outputs": [
    {
     "data": {
      "text/plain": [
       "      fun: 82076.451605665\n",
       " hess_inv: <2x2 LbfgsInvHessProduct with dtype=float64>\n",
       "      jac: array([0.00145519, 0.09167707])\n",
       "  message: b'CONVERGENCE: REL_REDUCTION_OF_F_<=_FACTR*EPSMCH'\n",
       "     nfev: 33\n",
       "      nit: 8\n",
       "   status: 0\n",
       "  success: True\n",
       "        x: array([2.21755319e-01, 2.19110647e+04])"
      ]
     },
     "execution_count": 9,
     "metadata": {},
     "output_type": "execute_result"
    }
   ],
   "source": [
    "output"
   ]
  },
  {
   "cell_type": "code",
   "execution_count": 10,
   "metadata": {
    "scrolled": false
   },
   "outputs": [
    {
     "name": "stdout",
     "output_type": "stream",
     "text": [
      "0.8494208494208465\n"
     ]
    },
    {
     "data": {
      "image/png": "[encoded data removed]",
      "text/plain": [
       "<matplotlib.figure.Figure at 0x1a17ebd198>"
      ]
     },
     "metadata": {},
     "output_type": "display_data"
    }
   ],
   "source": [
    "xvals = np.linspace(1e-5, 800, 100)\n",
    "plotfun()\n",
    "plt.plot(xvals, stats.gamma.pdf(xvals, a=alpha_MLE, scale=(beta_MLE)), \n",
    "         linewidth=2, color='r')\n",
    "plt.ylim(0, 0.045)\n",
    "plt.show()"
   ]
  },
  {
   "cell_type": "code",
   "execution_count": 11,
   "metadata": {},
   "outputs": [],
   "source": [
    "# c)\n",
    "\n",
    "def gengamma_pdf(xvals, alpha, beta, m):\n",
    "    G = math.gamma(alpha/m)\n",
    "    pdf = ((m / (beta ** alpha)) / G) * (xvals ** (alpha - 1)) * np.exp(-(xvals / beta) ** m)\n",
    "    return pdf\n",
    "    \n",
    "def log_lik_gengamma(xvals, alpha, beta, m):\n",
    "    pdf_vals = gengamma_pdf(xvals, alpha, beta, m)\n",
    "    ln_pdf_vals = np.log(pdf_vals)\n",
    "    log_lik_val = ln_pdf_vals.sum()\n",
    "    return log_lik_val\n",
    "\n",
    "def crit_gengamma(params, *args):\n",
    "    alpha, beta, m = params\n",
    "    xvals = args\n",
    "    log_lik_val = log_lik_gengamma(xvals, alpha, beta, m)\n",
    "    neg_log_lik_val = -log_lik_val\n",
    "    return neg_log_lik_val"
   ]
  },
  {
   "cell_type": "code",
   "execution_count": 12,
   "metadata": {},
   "outputs": [
    {
     "name": "stdout",
     "output_type": "stream",
     "text": [
      "MLE Alpha:  0.22173762513773726\n",
      "MLE Beta:   21911.064427618683\n",
      "MLE m:   0.997091828168986\n",
      "Log likelihood function:  -82076.44679016387\n"
     ]
    }
   ],
   "source": [
    "params_MLE = np.array([alpha_MLE, beta_MLE, 1])\n",
    "output = opt.minimize(crit_gengamma, params_MLE, args=healthclaims, method =\"L-BFGS-B\", bounds=((1e-5, None), (1e-5, None), (1e-5, None)))\n",
    "alpha_MLE2, beta_MLE2, m_MLE2  = output.x\n",
    "loglikeval2 = -output.fun\n",
    "print(\"MLE Alpha: \", alpha_MLE2)\n",
    "print(\"MLE Beta:  \", beta_MLE2)\n",
    "print(\"MLE m:  \", m_MLE2)\n",
    "print(\"Log likelihood function: \", loglikeval2)"
   ]
  },
  {
   "cell_type": "code",
   "execution_count": 13,
   "metadata": {},
   "outputs": [
    {
     "name": "stdout",
     "output_type": "stream",
     "text": [
      "0.8494208494208465\n"
     ]
    },
    {
     "data": {
      "image/png": "[encoded data removed]",
      "text/plain": [
       "<matplotlib.figure.Figure at 0x1a18e6ee80>"
      ]
     },
     "metadata": {},
     "output_type": "display_data"
    }
   ],
   "source": [
    "xvals = np.linspace(1e-5, 800, 100)\n",
    "plotfun()\n",
    "plt.plot(xvals, gengamma_pdf(xvals, alpha_MLE2, beta_MLE2, m_MLE2), \n",
    "         linewidth=2, color='r')\n",
    "plt.ylim(0, 0.045)\n",
    "plt.show()\n"
   ]
  },
  {
   "cell_type": "code",
   "execution_count": 14,
   "metadata": {},
   "outputs": [],
   "source": [
    "# d) Generalized beta\n",
    "\n",
    "def GB2(x, a, b, p, q):\n",
    "    B = scipy.special.beta(p, q)\n",
    "    pdf = (a*x ** (a*p - 1)) / ((b ** (a*p))*B*(1 + (x / b) ** a)**(p+q))\n",
    "    return pdf\n",
    "    \n",
    "def log_lik_GB2(xvals, a, b, m, q):\n",
    "    pdf_vals = GB2(xvals, a, b, m, q)\n",
    "    ln_pdf_vals = np.log(pdf_vals)\n",
    "    log_lik_val = ln_pdf_vals.sum()\n",
    "    return log_lik_val\n",
    "\n",
    "def crit_GB2(params, *args):\n",
    "    a, b, m, q = params\n",
    "    xvals = args\n",
    "    log_lik_val = log_lik_GB2(xvals, a, b, m, q)\n",
    "    neg_log_lik_val = -log_lik_val\n",
    "    return neg_log_lik_val"
   ]
  },
  {
   "cell_type": "code",
   "execution_count": 15,
   "metadata": {},
   "outputs": [
    {
     "name": "stdout",
     "output_type": "stream",
     "text": [
      "MLE a:  0.0988213664522644\n",
      "MLE b:   4450458.744838719\n",
      "MLE m:   62.04816856275184\n",
      "MLE q:   167.24388777924224\n",
      "Log likelihood function:  -74873.29649074416\n"
     ]
    }
   ],
   "source": [
    "q_MLE2 = 200\n",
    "params_MLE3 = np.array([m_MLE2, (q_MLE2 ** (1/m_MLE2))*beta_MLE2, alpha_MLE2/m_MLE2, q_MLE2])\n",
    "output = opt.minimize(crit_GB2, params_MLE3, args=healthclaims, method =\"L-BFGS-B\", bounds=((1e-5, None), (1e-5, None), (1e-5, None), (1e-5, None)))\n",
    "a_MLE3, b_MLE3, m_MLE3, q_MLE3  = output.x\n",
    "loglikeval3 = -output.fun\n",
    "print(\"MLE a: \", a_MLE3)\n",
    "print(\"MLE b:  \", b_MLE3)\n",
    "print(\"MLE m:  \", m_MLE3)\n",
    "print(\"MLE q:  \", q_MLE3)\n",
    "print(\"Log likelihood function: \", loglikeval3)"
   ]
  },
  {
   "cell_type": "code",
   "execution_count": 17,
   "metadata": {
    "scrolled": false
   },
   "outputs": [
    {
     "name": "stdout",
     "output_type": "stream",
     "text": [
      "0.8494208494208465\n"
     ]
    },
    {
     "data": {
      "image/png": "[encoded data removed]",
      "text/plain": [
       "<matplotlib.figure.Figure at 0x1a17c33c50>"
      ]
     },
     "metadata": {},
     "output_type": "display_data"
    }
   ],
   "source": [
    "xvals = np.linspace(1e-5, 800, 100)\n",
    "plotfun()\n",
    "plt.plot(xvals, GB2(xvals, a_MLE3, b_MLE3, m_MLE3, q_MLE3), \n",
    "         linewidth=2, color='r')\n",
    "plt.ylim(0, 0.045)\n",
    "plt.show()\n"
   ]
  },
  {
   "cell_type": "code",
   "execution_count": null,
   "metadata": {},
   "outputs": [],
   "source": [
    "# e) Likelihood ratio test\n",
    "\n",
    "log_lik_GA = log_lik_gamma(healthclaims, alpha_MLE, beta_MLE)\n",
    "log_lik_GB2 = log_lik_GB2(healthclaims, a_MLE3, b_MLE3, m_MLE3, q_MLE3)\n",
    "LR_val = 2 * (log_lik_GB2 - log_lik_GA)\n",
    "pval_h0 = 1.0 - stats.chi2.cdf(LR_val, 4)\n",
    "print('chi squared of GA with GB2 with 4 degrees of freedom p-value = ', pval_h0)\n",
    "\n",
    "\n",
    "log_lik_GG = log_lik_gengamma(healthclaims, alpha_MLE2, beta_MLE2, m_MLE2)\n",
    "LR_val = 2 * (log_lik_GB2 - log_lik_GG)\n",
    "pval_h0 = 1.0 - stats.chi2.cdf(LR_val, 4)\n",
    "print('chi squared of GG with GB2 with 4 degrees of freedom p-value = ', pval_h0)\n"
   ]
  },
  {
   "cell_type": "code",
   "execution_count": null,
   "metadata": {},
   "outputs": [],
   "source": [
    "# f)\n",
    "from scipy.integrate import quad\n",
    "integrand_GB2 = quad(GB2, 1000, np.inf, args=(a_MLE3, b_MLE3, m_MLE3, q_MLE3))\n",
    "\n",
    "integrand_Gamma = quad(gamma_pdf, 1000, np.inf, args=(alpha_MLE, beta_MLE))\n",
    "print(\"The liklihood of having a monthly health care claim of more than $1,000 under GB2\", integrand_GB2[0])\n",
    "print(\"The liklihood of having a monthly health care claim of more than $1,000 under GA\", integrand_Gamma[0])"
   ]
  },
  {
   "cell_type": "markdown",
   "metadata": {},
   "source": [
    "### Exercise 2"
   ]
  },
  {
   "cell_type": "code",
   "execution_count": 32,
   "metadata": {},
   "outputs": [
    {
     "name": "stdout",
     "output_type": "stream",
     "text": [
      "Once deleted, variables cannot be recovered. Proceed (y/[n])? y\n"
     ]
    }
   ],
   "source": [
    "# Thanks to Tim's code that helped me get this to work.\n",
    "%reset"
   ]
  },
  {
   "cell_type": "code",
   "execution_count": 45,
   "metadata": {},
   "outputs": [],
   "source": [
    "import numpy as np\n",
    "import scipy\n",
    "from scipy import stats\n",
    "import matplotlib.pyplot as plt\n",
    "import scipy.optimize as opt\n",
    "import math\n",
    "from scipy.special import gamma\n",
    "import pandas as pd\n",
    "from scipy.integrate import quad\n",
    "import numpy.linalg as lin\n",
    "from scipy.stats import norm"
   ]
  },
  {
   "cell_type": "code",
   "execution_count": 46,
   "metadata": {},
   "outputs": [
    {
     "data": {
      "text/html": [
       "<div>\n",
       "<style scoped>\n",
       "    .dataframe tbody tr th:only-of-type {\n",
       "        vertical-align: middle;\n",
       "    }\n",
       "\n",
       "    .dataframe tbody tr th {\n",
       "        vertical-align: top;\n",
       "    }\n",
       "\n",
       "    .dataframe thead th {\n",
       "        text-align: right;\n",
       "    }\n",
       "</style>\n",
       "<table border=\"1\" class=\"dataframe\">\n",
       "  <thead>\n",
       "    <tr style=\"text-align: right;\">\n",
       "      <th></th>\n",
       "      <th>0</th>\n",
       "      <th>1</th>\n",
       "      <th>2</th>\n",
       "      <th>3</th>\n",
       "      <th>4</th>\n",
       "    </tr>\n",
       "  </thead>\n",
       "  <tbody>\n",
       "    <tr>\n",
       "      <th>0</th>\n",
       "      <td>1.128323e+07</td>\n",
       "      <td>8.040697e+06</td>\n",
       "      <td>1.120211e+07</td>\n",
       "      <td>1.008852</td>\n",
       "      <td>1.931398e+07</td>\n",
       "    </tr>\n",
       "    <tr>\n",
       "      <th>1</th>\n",
       "      <td>1.215464e+07</td>\n",
       "      <td>8.030754e+06</td>\n",
       "      <td>1.206726e+07</td>\n",
       "      <td>1.088112</td>\n",
       "      <td>2.080561e+07</td>\n",
       "    </tr>\n",
       "    <tr>\n",
       "      <th>2</th>\n",
       "      <td>1.097303e+07</td>\n",
       "      <td>8.650974e+06</td>\n",
       "      <td>1.089414e+07</td>\n",
       "      <td>0.911904</td>\n",
       "      <td>1.878300e+07</td>\n",
       "    </tr>\n",
       "    <tr>\n",
       "      <th>3</th>\n",
       "      <td>9.711635e+06</td>\n",
       "      <td>7.809971e+06</td>\n",
       "      <td>9.641815e+06</td>\n",
       "      <td>0.893986</td>\n",
       "      <td>1.662382e+07</td>\n",
       "    </tr>\n",
       "    <tr>\n",
       "      <th>4</th>\n",
       "      <td>9.245673e+06</td>\n",
       "      <td>6.912184e+06</td>\n",
       "      <td>9.179203e+06</td>\n",
       "      <td>0.961637</td>\n",
       "      <td>1.582621e+07</td>\n",
       "    </tr>\n",
       "  </tbody>\n",
       "</table>\n",
       "</div>"
      ],
      "text/plain": [
       "              0             1             2         3             4\n",
       "0  1.128323e+07  8.040697e+06  1.120211e+07  1.008852  1.931398e+07\n",
       "1  1.215464e+07  8.030754e+06  1.206726e+07  1.088112  2.080561e+07\n",
       "2  1.097303e+07  8.650974e+06  1.089414e+07  0.911904  1.878300e+07\n",
       "3  9.711635e+06  7.809971e+06  9.641815e+06  0.893986  1.662382e+07\n",
       "4  9.245673e+06  6.912184e+06  9.179203e+06  0.961637  1.582621e+07"
      ]
     },
     "execution_count": 46,
     "metadata": {},
     "output_type": "execute_result"
    }
   ],
   "source": [
    "data = pd.read_csv(\"MacroSeries.txt\", header=None)\n",
    "data.head()"
   ]
  },
  {
   "cell_type": "code",
   "execution_count": 47,
   "metadata": {},
   "outputs": [],
   "source": [
    "data.columns = ['ct', 'kt', 'wt', 'rt', 'yt']"
   ]
  },
  {
   "cell_type": "code",
   "execution_count": 48,
   "metadata": {},
   "outputs": [],
   "source": [
    "beta = 0.99\n",
    "#z_0 = mu\n",
    "alpha_guess = .5\n",
    "rho_guess = 0\n",
    "mu_guess = .5\n",
    "sigma_guess = .5"
   ]
  },
  {
   "cell_type": "code",
   "execution_count": 49,
   "metadata": {},
   "outputs": [],
   "source": [
    "def find_z(wt, kt, alpha):\n",
    "    zt = np.log(wt/((1-alpha)*kt**alpha))\n",
    "    return zt\n",
    "\n",
    "def log_lik_fun(wt, kt, alpha, rho, mu, sigma):\n",
    "    zt = find_z(wt, kt, alpha)\n",
    "    log_lik_val = 0\n",
    "    for i in range(len(zt)):\n",
    "        if i == 0:\n",
    "            pdf = norm.pdf(mu, loc=mu, scale=sigma)\n",
    "        else:\n",
    "            pdf = norm.pdf(zt[i], loc=(rho*zt[i-1] + (1-rho)*mu), scale=sigma)\n",
    "        lnpdf = np.log(pdf)\n",
    "        log_lik_val = lnpdf + log_lik_val\n",
    "    return log_lik_val\n",
    "\n",
    "def crit(params, *args):\n",
    "    alpha, rho, mu, sigma = params\n",
    "    wt, kt = args\n",
    "    log_lik_val = log_lik_fun(wt, kt, alpha, rho, mu, sigma)\n",
    "    neg_log_lik_val = -log_lik_val\n",
    "    return neg_log_lik_val\n",
    "    "
   ]
  },
  {
   "cell_type": "code",
   "execution_count": 50,
   "metadata": {},
   "outputs": [
    {
     "name": "stdout",
     "output_type": "stream",
     "text": [
      "MLE Alpha:  0.5534007432114778\n",
      "MLE Rho:   0.8246518345165023\n",
      "MLE mu:   8.106593451693138\n",
      "MLE Sigma:   0.09278024059344658\n",
      "Log likelihood function:  95.85827569206461\n",
      "Inverse Hessian Variance-Covariance matrix\n",
      "[[  0.25141033   3.38310333  -3.12049007   0.11339717]\n",
      " [  3.38310333  51.18665902 -41.61085407   1.7147089 ]\n",
      " [ -3.12049007 -41.61085407  38.76052969  -1.39513554]\n",
      " [  0.11339717   1.7147089   -1.39513554   0.05774462]]\n"
     ]
    }
   ],
   "source": [
    "params_init = np.array([alpha_guess, rho_guess, mu_guess, sigma_guess])\n",
    "MLE_args = (data.wt, data.kt)\n",
    "output = opt.minimize(crit, params_init, args=(MLE_args), method = 'L-BFGS-B', \n",
    "                      bounds=((1e-5, 0.99), (-0.999, 0.99), (1e-5, None), (1e-5, None)))\n",
    "alpha_MLE, rho_MLE, mu_MLE, sigma_MLE = output.x\n",
    "IHVCV = output.hess_inv.todense()\n",
    "print(\"MLE Alpha: \", alpha_MLE)\n",
    "print(\"MLE Rho:  \", rho_MLE)\n",
    "print(\"MLE mu:  \", mu_MLE)\n",
    "print(\"MLE Sigma:  \", sigma_MLE)\n",
    "print(\"Log likelihood function: \", -output.fun)\n",
    "print(\"Inverse Hessian Variance-Covariance matrix\")\n",
    "print(IHVCV)"
   ]
  },
  {
   "cell_type": "code",
   "execution_count": 51,
   "metadata": {},
   "outputs": [],
   "source": [
    "# b)\n",
    "\n",
    "def get_z2(rt, kt, alpha):\n",
    "    zt = np.log(rt/(alpha * kt ** (alpha - 1)))\n",
    "    return zt\n",
    "\n",
    "def log_lik_val2(rt, kt, alpha, rho, mu, sigma):\n",
    "    zt = get_z2(rt, kt, alpha)\n",
    "    log_lik_val = 0\n",
    "    for i in range(len(zt)):\n",
    "        if i == 0:\n",
    "            pdf = norm.pdf(mu, loc=mu, scale=sigma)\n",
    "        else:\n",
    "            pdf = norm.pdf(zt[i], loc=(rho*zt[i - 1] + (1 - rho)*mu), scale=sigma)\n",
    "        lnpdf = np.log(pdf)\n",
    "        log_lik_val = lnpdf + log_lik_val\n",
    "    return log_lik_val\n",
    "\n",
    "def crit2(params, *args):\n",
    "    alpha, rho, mu, sigma = params\n",
    "    rt, kt = args\n",
    "    log_lik_val = log_lik_val2(rt, kt, alpha, rho, mu, sigma)\n",
    "    neg_log_lik_val = -log_lik_val\n",
    "    return neg_log_lik_val"
   ]
  },
  {
   "cell_type": "code",
   "execution_count": 52,
   "metadata": {},
   "outputs": [
    {
     "name": "stdout",
     "output_type": "stream",
     "text": [
      "MLE Alpha:  0.9167124277423602\n",
      "MLE Rho:   0.35413626237892243\n",
      "MLE mu:   0.5348376764870151\n",
      "MLE Sigma:   0.6905323103024797\n",
      "Log likelihood function:  -87.7101907964443\n",
      "Inverse Hessian Variance-Covariance matrix\n",
      "[[-0.01044459  0.09979737  0.05423054 -0.08203279]\n",
      " [ 0.09979737 -1.50866872  0.08895145  1.32242451]\n",
      " [ 0.05423054  0.08895145 -1.00618911 -0.08679618]\n",
      " [-0.08203279  1.32242451 -0.08679618 -1.27415312]]\n"
     ]
    },
    {
     "name": "stderr",
     "output_type": "stream",
     "text": [
      "/Users/cacheellsworth/anaconda3/lib/python3.6/site-packages/ipykernel_launcher.py:15: RuntimeWarning: divide by zero encountered in log\n",
      "  from ipykernel import kernelapp as app\n",
      "/Users/cacheellsworth/anaconda3/lib/python3.6/site-packages/scipy/optimize/optimize.py:643: RuntimeWarning: invalid value encountered in double_scalars\n",
      "  grad[k] = (f(*((xk + d,) + args)) - f0) / d[k]\n"
     ]
    }
   ],
   "source": [
    "params_init = np.array([alpha_guess, rho_guess, mu_guess, sigma_guess])\n",
    "MLE_args = (data.rt, data.kt)\n",
    "output2 = opt.minimize(crit2, params_init, args=(MLE_args), method = 'L-BFGS-B', \n",
    "                      bounds=((1e-5, 0.999), (-0.999, 0.999), (1e-5, None), (1e-5, None)))\n",
    "alpha_MLE, rho_MLE, mu_MLE, sigma_MLE = output2.x\n",
    "loglikval_BM = -output2.fun\n",
    "IHVCV = -output2.hess_inv.todense()\n",
    "print(\"MLE Alpha: \", alpha_MLE)\n",
    "print(\"MLE Rho:  \", rho_MLE)\n",
    "print(\"MLE mu:  \", mu_MLE)\n",
    "print(\"MLE Sigma:  \", sigma_MLE)\n",
    "print(\"Log likelihood function: \", - output2.fun)\n",
    "print(\"Inverse Hessian Variance-Covariance matrix\")\n",
    "print(IHVCV)"
   ]
  },
  {
   "cell_type": "code",
   "execution_count": 53,
   "metadata": {},
   "outputs": [
    {
     "name": "stderr",
     "output_type": "stream",
     "text": [
      "/Users/cacheellsworth/anaconda3/lib/python3.6/site-packages/ipykernel_launcher.py:13: RuntimeWarning: divide by zero encountered in log\n",
      "  del sys.path[0]\n",
      "/Users/cacheellsworth/anaconda3/lib/python3.6/site-packages/scipy/optimize/optimize.py:643: RuntimeWarning: invalid value encountered in double_scalars\n",
      "  grad[k] = (f(*((xk + d,) + args)) - f0) / d[k]\n"
     ]
    }
   ],
   "source": [
    "# c)\n",
    "\n",
    "params_init = np.array([alpha_guess, rho_guess, mu_guess, sigma_guess])\n",
    "MLE_args = (data.wt, data.kt)\n",
    "output1 =  opt.minimize(crit, params_init, args=(MLE_args), method = 'L-BFGS-B', \n",
    "                      bounds=((1e-5, 0.999), (-0.999, 0.999), (1e-5, None), (1e-5, None)))\n",
    "alpha_mle, rho_mle, mu_mle, sigma_mle = output1.x\n"
   ]
  },
  {
   "cell_type": "code",
   "execution_count": 55,
   "metadata": {},
   "outputs": [
    {
     "name": "stdout",
     "output_type": "stream",
     "text": [
      "9.990676595241005\n",
      "10.011503668338527\n",
      "0.09587375606109784\n",
      "Probability intrest rate is greater than 1:   0.4140128581118028\n"
     ]
    }
   ],
   "source": [
    "z = get_z2(1, 7500000, alpha_mle)\n",
    "mu_temp = rho_mle*10 + (1 - rho_mle) * mu_mle\n",
    "print(mu_temp)\n",
    "print(z)\n",
    "print(sigma_mle)\n",
    "cdf = stats.norm.cdf(z, mu_temp, sigma_mle)\n",
    "\n",
    "probability = 1 - cdf\n",
    "print(\"Probability intrest rate is greater than 1:  \", probability)"
   ]
  },
  {
   "cell_type": "markdown",
   "metadata": {},
   "source": [
    "### Exercise 3"
   ]
  },
  {
   "cell_type": "code",
   "execution_count": null,
   "metadata": {},
   "outputs": [],
   "source": [
    "%reset"
   ]
  },
  {
   "cell_type": "code",
   "execution_count": 57,
   "metadata": {},
   "outputs": [],
   "source": [
    "import numpy as np\n",
    "import scipy\n",
    "from scipy import stats\n",
    "import matplotlib.pyplot as plt\n",
    "import scipy.optimize as opt\n",
    "import math\n",
    "from scipy.special import gamma\n",
    "import pandas as pd\n",
    "from scipy.integrate import quad\n",
    "import numpy.linalg as lin"
   ]
  },
  {
   "cell_type": "code",
   "execution_count": 58,
   "metadata": {},
   "outputs": [
    {
     "name": "stdout",
     "output_type": "stream",
     "text": [
      "42\n"
     ]
    }
   ],
   "source": [
    "incomedist = np.loadtxt(\"usincmoms.txt\")\n",
    "data = pd.read_table(\"usincmoms.txt\", header = None)\n",
    "data.columns = [\"Percent\", \"Midpoint\"]\n",
    "percentage = incomedist[:, 0]\n",
    "midpoints_thsd = incomedist[:, 1] / 1000\n",
    "print(len(incomedist))"
   ]
  },
  {
   "cell_type": "code",
   "execution_count": 59,
   "metadata": {
    "scrolled": false
   },
   "outputs": [
    {
     "name": "stdout",
     "output_type": "stream",
     "text": [
      "0.1921792129099999\n"
     ]
    },
    {
     "data": {
      "image/png": "[encoded data removed]",
      "text/plain": [
       "<matplotlib.figure.Figure at 0x1061c6940>"
      ]
     },
     "metadata": {},
     "output_type": "display_data"
    }
   ],
   "source": [
    "def graph_hist(percentage, midpoints_thsd):\n",
    "    bins = np.append(np.linspace(0, 200, 41), [250, 350])\n",
    "    weights = percentage.copy()\n",
    "    weights[40] = weights[40]/ 10\n",
    "    weights[41] = weights[41]/ 20\n",
    "    weights = weights / 5\n",
    "    # We divide by 5\n",
    "    n, bin_cuts, patches = plt.hist(midpoints_thsd, bins=bins, weights=weights,range=(0,350), edgecolor='k')\n",
    "    print(n.sum())\n",
    "\n",
    "    #plt.xticks(np.round_(bin_cuts, 1))\n",
    "    plt.title('Histogram of US income Distribution: ', fontsize=17)\n",
    "    plt.xlabel(r'Dollar amounts by thousands')\n",
    "    plt.ylabel(r'Percent of observations in bin')\n",
    "\n",
    "\n",
    "graph_hist(percentage, midpoints_thsd)\n",
    "plt.show()"
   ]
  },
  {
   "cell_type": "code",
   "execution_count": 60,
   "metadata": {},
   "outputs": [],
   "source": [
    "# b) \n",
    "def lognormal_pdf(x, mu, sigma):\n",
    "    expo = - ((np.log(x) - mu)**2)/(2*sigma**2)\n",
    "    pdf = (1 / (x*sigma*np.sqrt(2*np.pi)))*np.exp(expo)\n",
    "    return pdf\n",
    "\n",
    "def model_moments(mu, sigma):\n",
    "    bins = np.append(np.linspace(0, 200, 41), [250, 350])\n",
    "    n = len(bins)\n",
    "    moments = np.zeros(n - 1)\n",
    "    errors = np.zeros(n - 1)\n",
    "    for i in range(n - 1):\n",
    "        pdf = lambda x: lognormal_pdf(x, mu, sigma) \n",
    "        (moments[i], errors[i]) = quad(pdf, bins[i],bins[i+1])\n",
    "    return moments\n",
    "\n",
    "def err_vec(percentage, mu, sigma, simple):\n",
    "    moms_data = np.array(percentage)\n",
    "    moms_model = model_moments(mu, sigma)\n",
    "    if simple:\n",
    "        err_vec = moms_model - moms_data\n",
    "    else:\n",
    "        err_vec = (moms_model - moms_data) / moms_data\n",
    "    return err_vec\n",
    "\n",
    "def criterion(params, *args):\n",
    "    mu, sigma = params\n",
    "    percentage, W = args\n",
    "    err = err_vec(percentage, mu, sigma, simple=False)\n",
    "    crit_val = err.T @ W @ err\n",
    "    return crit_val"
   ]
  },
  {
   "cell_type": "code",
   "execution_count": 61,
   "metadata": {},
   "outputs": [
    {
     "name": "stdout",
     "output_type": "stream",
     "text": [
      "mu_GMM1= 3.8934455794272296\n",
      "sig_GMM1= 0.9757363934058274\n"
     ]
    }
   ],
   "source": [
    "mu_init = np.log(np.mean(midpoints_thsd))\n",
    "sig_init = np.log(np.std(midpoints_thsd))\n",
    "params_init = np.array([mu_init, sig_init])\n",
    "W_hat = np.diag(percentage)\n",
    "gmm_args = (percentage, W_hat)\n",
    "results1 = opt.minimize(criterion, params_init, args=(gmm_args),\n",
    "                       method='L-BFGS-B', bounds=((1e-10, None), (1e-10, None)))\n",
    "mu_GMM1, sig_GMM1 = results1.x\n",
    "print('mu_GMM1=', mu_GMM1)\n",
    "print('sig_GMM1=', sig_GMM1)"
   ]
  },
  {
   "cell_type": "code",
   "execution_count": 62,
   "metadata": {
    "scrolled": true
   },
   "outputs": [
    {
     "name": "stdout",
     "output_type": "stream",
     "text": [
      "0.1921792129099999\n"
     ]
    },
    {
     "data": {
      "image/png": "[encoded data removed]",
      "text/plain": [
       "<matplotlib.figure.Figure at 0x1a17d07828>"
      ]
     },
     "metadata": {},
     "output_type": "display_data"
    }
   ],
   "source": [
    "graph_hist(percentage, midpoints_thsd)\n",
    "xvals = np.linspace(1e-6, 350, 600)\n",
    "plt.plot(xvals, lognormal_pdf(xvals, mu_GMM1, sig_GMM1), linewidth=2, color='r')\n",
    "plt.show()\n",
    "# Note that we times it by five because the x grid bar length doesn't have a length of 1 but a length of 5. \n"
   ]
  },
  {
   "cell_type": "code",
   "execution_count": 63,
   "metadata": {},
   "outputs": [],
   "source": [
    "# c) \n",
    "\n",
    "def gamma_pdf(x, alpha, beta):\n",
    "    G = math.gamma(alpha)\n",
    "    pdf = 1/((beta**alpha)*G)*x**(alpha-1)*np.exp(-(x/beta))\n",
    "    return pdf\n",
    "\n",
    "def model_moments2(alpha, beta):\n",
    "    bins = np.append(np.linspace(0, 200, 41), [250, 350])\n",
    "    n = len(bins)\n",
    "    moments = np.zeros(n - 1)\n",
    "    errors = np.zeros(n - 1)\n",
    "    for i in range(n - 1):\n",
    "        pdf = lambda x: gamma_pdf(x, alpha, beta)\n",
    "        (moments[i], errors[i]) = quad(pdf, bins[i],bins[i+1])\n",
    "    return moments\n",
    "\n",
    "def err_vec(percentage, alpha, beta, simple=False):\n",
    "    moms_data = np.array(percentage)\n",
    "    moms_model = model_moments2(alpha, beta)\n",
    "    if simple:\n",
    "        err_vec = moms_model - moms_data\n",
    "    else:\n",
    "        err_vec = (moms_model - moms_data) / moms_data\n",
    "    return err_vec\n",
    "\n",
    "def criterion(params, *args):\n",
    "    alpha, beta = params\n",
    "    percentage, W = args\n",
    "    err = err_vec(percentage, alpha, beta, simple=False)\n",
    "    crit_val = err.T @ W @ err\n",
    "    return crit_val\n"
   ]
  },
  {
   "cell_type": "code",
   "execution_count": 64,
   "metadata": {},
   "outputs": [
    {
     "name": "stdout",
     "output_type": "stream",
     "text": [
      "alpha_GMM2= 1.3670768821564054\n",
      "beta_GMM2= 48.061726505776726\n"
     ]
    }
   ],
   "source": [
    "alpha_init = 3\n",
    "beta_init = 20\n",
    "params_init = np.array([alpha_init, beta_init])\n",
    "W_hat = np.diag(percentage)\n",
    "gmm_args = (percentage, W_hat)\n",
    "results2 = opt.minimize(criterion, params_init, method='L-BFGS-B', args=gmm_args, bounds=((1e-10, None), (1e-10, None)))\n",
    "alpha_GMM2, beta_GMM2 = results2.x\n",
    "print('alpha_GMM2=', alpha_GMM2)\n",
    "print('beta_GMM2=', beta_GMM2)"
   ]
  },
  {
   "cell_type": "code",
   "execution_count": 65,
   "metadata": {},
   "outputs": [
    {
     "name": "stdout",
     "output_type": "stream",
     "text": [
      "0.1921792129099999\n"
     ]
    },
    {
     "data": {
      "image/png": "[encoded data removed]",
      "text/plain": [
       "<matplotlib.figure.Figure at 0x1a17d76748>"
      ]
     },
     "metadata": {},
     "output_type": "display_data"
    }
   ],
   "source": [
    "graph_hist(percentage, midpoints_thsd)\n",
    "xvals = np.linspace(1e-9, 350, 600)\n",
    "plt.plot(xvals, gamma_pdf(xvals, alpha_GMM2, beta_GMM2), \n",
    "         linewidth=2, color='g')\n",
    "plt.show()\n",
    "# Note that we times it by five because the x grid bar length doesn't have a length of 1 but a length of 5. \n"
   ]
  },
  {
   "cell_type": "code",
   "execution_count": 66,
   "metadata": {},
   "outputs": [
    {
     "name": "stdout",
     "output_type": "stream",
     "text": [
      "0.1921792129099999\n"
     ]
    },
    {
     "data": {
      "image/png": "[encoded data removed]",
      "text/plain": [
       "<matplotlib.figure.Figure at 0x1a17e37eb8>"
      ]
     },
     "metadata": {},
     "output_type": "display_data"
    },
    {
     "name": "stdout",
     "output_type": "stream",
     "text": [
      "Error Log Normal 0.0355164813322797\n",
      "Error Gamma 0.01408491948175785\n"
     ]
    }
   ],
   "source": [
    "# d)\n",
    "graph_hist(percentage, midpoints_thsd)\n",
    "xvals = np.linspace(1e-9, 350, 600)\n",
    "plt.plot(xvals, gamma_pdf(xvals, alpha_GMM2, beta_GMM2), linewidth=2, color='g')\n",
    "plt.plot(xvals, lognormal_pdf(xvals, mu_GMM1, sig_GMM1), linewidth = 2, color='r')\n",
    "plt.show()\n",
    "print(\"Error Log Normal\", results1.fun)\n",
    "print(\"Error Gamma\", results2.fun)\n"
   ]
  },
  {
   "cell_type": "code",
   "execution_count": 69,
   "metadata": {},
   "outputs": [],
   "source": [
    "# e)\n",
    "err1 = err_vec(percentage, alpha_GMM2, beta_GMM2)\n",
    "VCV2 = np.outer(err1, err1.T) / percentage.shape[0]\n",
    "W_hat2 = lin.pinv(VCV2)"
   ]
  },
  {
   "cell_type": "code",
   "execution_count": 71,
   "metadata": {},
   "outputs": [
    {
     "name": "stdout",
     "output_type": "stream",
     "text": [
      "alpha_GMM3 1.3670768821564054\n",
      "beta_GMM3 48.061726505776726\n",
      "Change in alpha_GMM3 0.0\n",
      "Change in alpha_GMM3 0.0\n"
     ]
    }
   ],
   "source": [
    "params_init2 = np.array([alpha_GMM2, beta_GMM2])\n",
    "gmm_args2 = (percentage, W_hat2)\n",
    "results = opt.minimize(criterion, params_init, args=(gmm_args), method='L-BFGS-B', bounds=((1e-10, None), (1e-10, None)))\n",
    "alpha_GMM3, beta_GMM3 = results.x\n",
    "print('alpha_GMM3', alpha_GMM3)\n",
    "print('beta_GMM3', beta_GMM3)\n",
    "print('Change in alpha_GMM3', alpha_GMM3 - alpha_GMM2)\n",
    "print('Change in alpha_GMM3', beta_GMM3 - beta_GMM2)"
   ]
  },
  {
   "cell_type": "code",
   "execution_count": null,
   "metadata": {},
   "outputs": [],
   "source": [
    "# I can't figure out why it's not giving me a different answer.  Look into if I have time later. "
   ]
  },
  {
   "cell_type": "markdown",
   "metadata": {},
   "source": [
    "## Exercise 4"
   ]
  },
  {
   "cell_type": "code",
   "execution_count": 140,
   "metadata": {},
   "outputs": [
    {
     "name": "stdout",
     "output_type": "stream",
     "text": [
      "Once deleted, variables cannot be recovered. Proceed (y/[n])? y\n"
     ]
    }
   ],
   "source": [
    "%reset"
   ]
  },
  {
   "cell_type": "code",
   "execution_count": 141,
   "metadata": {},
   "outputs": [],
   "source": [
    "import numpy as np\n",
    "import scipy\n",
    "from scipy import stats\n",
    "import matplotlib.pyplot as plt\n",
    "import scipy.optimize as opt\n",
    "import math\n",
    "from scipy.special import gamma\n",
    "import pandas as pd\n",
    "import numpy.linalg as lin"
   ]
  },
  {
   "cell_type": "code",
   "execution_count": 142,
   "metadata": {},
   "outputs": [],
   "source": [
    "data = pd.read_csv(\"MacroSeries.txt\", header=None)\n",
    "data.head()\n",
    "data.columns = ['ct', 'kt', 'wt', 'rt', 'yt']"
   ]
  },
  {
   "cell_type": "code",
   "execution_count": 143,
   "metadata": {},
   "outputs": [],
   "source": [
    "def get_z(rt, kt, alpha):\n",
    "    zt = np.log(rt/((alpha)*kt**(alpha - 1)))\n",
    "    return zt\n",
    "\n",
    "def moment1(ztp1, zt, rho, mu):\n",
    "    mom1 = ztp1 - rho*zt - (1 - rho)*mu\n",
    "    return mom1\n",
    "\n",
    "def moment2(ztp1, rho, zt, mu):\n",
    "    mom2 = (ztp1 - rho*zt - (1 - rho)*mu)*zt\n",
    "    return mom2\n",
    "\n",
    "def moment3(beta, alpha, ztp1, ktp1, ct, ctp1):\n",
    "    mom3 = beta*alpha*(np.exp( ztp1)) * ktp1 ** (alpha - 1) * (ct / ctp1) - 1\n",
    "    return mom3\n",
    "\n",
    "def moment4(beta, alpha, ztp1, ktp1, ct, ctp1, wt):\n",
    "    mom4 = (beta*alpha*(np.exp( ztp1)) * ktp1 ** (alpha - 1) * (ct / ctp1) - 1)*wt\n",
    "    return mom4\n",
    "\n",
    "def find_error(data, params, simple):\n",
    "    alpha, beta, rho, mu = params\n",
    "    ktp1 = data.kt[1:]\n",
    "    kt = data.kt[:-1]\n",
    "    ctp1 = data.ct[1:]\n",
    "    ct = data.ct[:-1]\n",
    "    wt = data.wt[:-1]\n",
    "    ztp1 = get_z(data.rt, data.kt, alpha)[1:]\n",
    "    zt = get_z(data.rt, data.kt, alpha)[:-1]\n",
    "    mom1 = moment1(ztp1, zt, rho, mu)\n",
    "    mom2 = moment2(ztp1, rho, zt, mu)\n",
    "    mom3 = moment3(beta, alpha, ztp1, ktp1, ct, ctp1)\n",
    "    mom4 = moment4(beta, alpha, ztp1, ktp1, ct, ctp1, wt)\n",
    "    moms_data = np.array([mom1.mean(), mom2.mean(), mom3.mean(), mom4.mean()])\n",
    "    moms_mod = np.array([1e-9, 1e-9, 1e-9, 1e-9])\n",
    "    if simple:\n",
    "        error = moms_mod - moms_data\n",
    "    else:\n",
    "        error = (moms_mod - moms_data) / moms_data\n",
    "    return error\n",
    "\n",
    "def crit(params, *args):\n",
    "    alpha, beta, rho, mu = params\n",
    "    data, W_hat = args\n",
    "    error = find_error(data, params, simple=True)\n",
    "    error_val = (error.T @ W_hat) @ error.T\n",
    "    return error_val\n",
    "\n"
   ]
  },
  {
   "cell_type": "code",
   "execution_count": 150,
   "metadata": {},
   "outputs": [
    {
     "name": "stdout",
     "output_type": "stream",
     "text": [
      "alpha =  0.8802314769035154\n",
      "beta =  0.9829915808920227\n",
      "rho =  0.0801052180489871\n",
      "mu =  2.012263845420212\n"
     ]
    }
   ],
   "source": [
    "alpha_guess = .5\n",
    "beta_guess = .5\n",
    "rho_guess = 0\n",
    "mu_guess = 2\n",
    "params = np.array([alpha_guess, beta_guess, rho_guess, mu_guess])\n",
    "W_hat = np.identity(4)\n",
    "args_GMM = (data, W_hat)\n",
    "output = opt.minimize(crit, params, args=(args_GMM), method ='L-BFGS-B', \n",
    "                     bounds = ((1e-9, 0.999), (1e-9, 0.999), (-0.999, 0.999), (1e-9, None)))\n",
    "alpha_GMM, beta_GMM, rho_GMM, mu_GMM = output.x\n",
    "print('alpha = ', alpha_GMM)\n",
    "print('beta = ', beta_GMM)\n",
    "print('rho = ', rho_GMM)\n",
    "print('mu = ', mu_GMM)\n"
   ]
  },
  {
   "cell_type": "code",
   "execution_count": 157,
   "metadata": {},
   "outputs": [
    {
     "name": "stdout",
     "output_type": "stream",
     "text": [
      "Moment 1:  -0.0033735316858690555\n",
      "Moment 2:  0.0033241908926312813\n",
      "Moment 3:  -0.00609988696364336\n",
      "Moment 4:  -0.04679513956795504\n",
      "[ 0.00337353 -0.00332419  0.00609989  0.04679514]\n"
     ]
    }
   ],
   "source": [
    "ztp1 = get_z(data.rt, data.kt, alpha_GMM)[1:]\n",
    "zt = get_z(data.rt, data.kt, alpha_GMM)[:-1]\n",
    "\n",
    "mom1 = moment1(ztp1, zt, rho_GMM, mu_GMM)\n",
    "mom2 = moment2(ztp1, rho_GMM, zt, mu_GMM)\n",
    "mom3 = moment3(beta_GMM, alpha_GMM, ztp1, data.kt[1:], data.ct[:-1], data.ct[1:])\n",
    "mom4 = moment4(beta_GMM, alpha_GMM, ztp1, data.kt[1:], data.ct[:-1], data.ct[1:], data.wt)\n",
    "\n",
    "print(\"Moment 1: \", mom1.mean())\n",
    "print(\"Moment 2: \", mom2.mean())\n",
    "print(\"Moment 3: \", mom3.mean())\n",
    "print(\"Moment 4: \", mom4.mean())\n",
    "\n",
    "params = np.array([alpha_GMM, beta_GMM, rho_GMM, mu_GMM])\n",
    "err1 = find_error(data, params, simple=True)\n",
    "print(err1)"
   ]
  },
  {
   "cell_type": "code",
   "execution_count": 158,
   "metadata": {},
   "outputs": [
    {
     "name": "stdout",
     "output_type": "stream",
     "text": [
      "alpha =  0.8802636230566346\n",
      "beta =  0.9829915822290168\n",
      "rho =  0.08035390675472168\n",
      "mu =  2.0853725005959114\n",
      "Moment 1:  -0.07060670878410717\n",
      "Moment 2:  -0.13172286680177797\n",
      "Moment 3:  -0.005563303050137224\n",
      "Moment 4:  5010.712193395528\n"
     ]
    }
   ],
   "source": [
    "VCV2 = np.outer(err1, err1.T) / len(data.rt)\n",
    "W_hat2 = lin.pinv(VCV2)\n",
    "args_GMM = (data, W_hat2)\n",
    "output = opt.minimize(crit, params, args=(args_GMM), method ='L-BFGS-B', \n",
    "                     bounds = ((1e-9, 0.999), (1e-9, 0.999), (-0.999, 0.999), (1e-9, None)))\n",
    "alpha_GMM2, beta_GMM2, rho_GMM2, mu_GMM2 = output.x\n",
    "print('alpha = ', alpha_GMM2)\n",
    "print('beta = ', beta_GMM2)\n",
    "print('rho = ', rho_GMM2)\n",
    "print('mu = ', mu_GMM2)\n",
    "mom1 = moment1(ztp1, zt, rho_GMM2, mu_GMM2)\n",
    "mom2 = moment2(ztp1, rho_GMM2, zt, mu_GMM2)\n",
    "mom3 = moment3(beta_GMM2, alpha_GMM2, ztp1, data.kt[1:], data.ct[:-1], data.ct[1:])\n",
    "mom4 = moment4(beta_GMM2, alpha_GMM2, ztp1, data.kt[1:], data.ct[:-1], data.ct[1:], data.wt)\n",
    "\n",
    "print(\"Moment 1: \", mom1.mean())\n",
    "print(\"Moment 2: \", mom2.mean())\n",
    "print(\"Moment 3: \", mom3.mean())\n",
    "print(\"Moment 4: \", mom4.mean())"
   ]
  },
  {
   "cell_type": "code",
   "execution_count": null,
   "metadata": {},
   "outputs": [],
   "source": []
  }
 ],
 "metadata": {
  "kernelspec": {
   "display_name": "Python 3",
   "language": "python",
   "name": "python3"
  },
  "language_info": {
   "codemirror_mode": {
    "name": "ipython",
    "version": 3
   },
   "file_extension": ".py",
   "mimetype": "text/x-python",
   "name": "python",
   "nbconvert_exporter": "python",
   "pygments_lexer": "ipython3",
   "version": "3.6.4"
  }
 },
 "nbformat": 4,
 "nbformat_minor": 2
}
