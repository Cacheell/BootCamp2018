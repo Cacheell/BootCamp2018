{
 "cells": [
  {
   "cell_type": "markdown",
   "metadata": {},
   "source": [
    "# Exercises 2.5 - Asset Pricing"
   ]
  },
  {
   "cell_type": "code",
   "execution_count": null,
   "metadata": {},
   "outputs": [],
   "source": [
    "import numpy as np\n",
    "import scipy as sy\n",
    "import datetime\n",
    "from scipy import optimize as opt\n",
    "import pandas as pd\n",
    "import pandas_datareader.data as web\n",
    "import numpy.linalg as lin\n",
    "from matplotlib import pyplot as plt"
   ]
  },
  {
   "cell_type": "code",
   "execution_count": null,
   "metadata": {},
   "outputs": [],
   "source": [
    "start = datetime.datetime(1970, 1, 1)\n",
    "end = datetime.datetime(2010, 1, 1)\n",
    "\n",
    "PCECC96 = web.DataReader('PCECC96', 'fred', start, end) \n",
    "WILL5000INDFC = web.DataReader('WILL5000INDFC', 'fred', start, end) \n",
    "GDPDEF = web.DataReader('GDPDEF', 'fred', start, end)      \n",
    "TB3MS= web.DataReader('TB3MS', 'fred', start, end)         \n",
    "\n",
    "#w5000INDFC.fillna(method=\"ffill\")\n",
    "\n",
    "# Transform the Wilshire 5000 series & T-Bill series into quarterly data. The start of the quarter.\n",
    "WILL5000INDFC = w5000INDFC.resample('QS').mean()\n",
    "TB3MS = rfr_tb3MS.resample('QS').mean()\n",
    "\n",
    "df = pd.DataFrame({'PCECC96': PCECC96[\"PCECC96\"],\n",
    "                   'WILL5000INDFC': WILL5000INDFC[\"WILL5000INDFC\"],\n",
    "                  'TB3MS': TB3MS[\"TB3MS\"],\n",
    "                  'GDPDEF': GDPDEF[\"GDPDEF\"]})\n",
    "\n",
    "# Account for inflation. (gdpdeflator = (nominal/real) * 100)\n",
    "df[\"GDPDEF\"] = df[\"GDPDEF\"] / 100 \n",
    "df[\"WILL5000INDFC_d\"] = df[\"WILL5000INDFC\"] / df[\"GDPDEF\"]\n",
    "\n",
    "\n",
    "df['R'] = df[\"WILL5000INDFC_d\"].shift(-1) / df[\"WILL5000INDFC_d\"]\n",
    "\n",
    "# drop NaN variables.  This drops the row is there is a NaN value in the row.\n",
    "df = df.dropna()\n",
    "\n",
    "df.shape[0]\n",
    "len(df)"
   ]
  },
  {
   "cell_type": "code",
   "execution_count": null,
   "metadata": {},
   "outputs": [],
   "source": [
    "# Part 1 - GMM for finding gamma\n",
    "beta = 0.99\n",
    "\n",
    "def find_m(gamma):\n",
    "    return beta * ((df[\"PCECC96\"].shift(-1) ** (-gamma)) / (df[\"PCECC96\"] ** (-gamma)))\n",
    "\n",
    "def equation_5(gamma):\n",
    "    df['m'] = find_m(gamma)\n",
    "    df_temp = df.copy().dropna()\n",
    "    df_temp['eq_five'] = (df_temp['m'].cov(df_temp['R']) + df_temp['m'].mean()*df_temp['R'].mean() - 1)\n",
    "    return df_temp['eq_five'].values @ df_temp['eq_five'].values\n",
    "\n",
    "#opt.broyden1(equation_5, 1)  # I can't get the broyden to work.  Maybe it's requiring a certain method.\n",
    "opt.root(equation_5, 1)\n"
   ]
  },
  {
   "cell_type": "markdown",
   "metadata": {},
   "source": [
    "Part 2: To determine if this parameter is reasonable we would plug it in our utility function and uprime function to see if utility is distributed reasonably.  If we do this, we get decreasing marginal return.  In this model we hate life, because utility is negative but consumption lets us hate life less.  (Since utility is all arbitrary this is a weak argument.)"
   ]
  },
  {
   "cell_type": "code",
   "execution_count": null,
   "metadata": {},
   "outputs": [],
   "source": [
    "# Part 3:  \n",
    "df['TB3MS'] = TB3MS/100. + 1    # Convert to percentage and make a gross return\n",
    "\n",
    "def equation_7(gamma):\n",
    "    df['m'] = find_m(gamma)\n",
    "    df_temp = df.copy().dropna()\n",
    "    df_temp['eq_7'] = (df_temp['TB3MS'] - 1/df['m'])\n",
    "    return df_temp['eq_7'].values @ df_temp['eq_7'].values\n",
    "\n",
    "#opt.broyden1(equation_7, 1)  # I can't get the broyden to work.  Maybe it's requiring a certain method.\n",
    "opt.root(equation_7, 0.8)"
   ]
  },
  {
   "cell_type": "code",
   "execution_count": null,
   "metadata": {},
   "outputs": [],
   "source": [
    "# Part 4: \n",
    "def find_m2(gamma, beta):\n",
    "    return beta * ((df[\"PCECC96\"].shift(-1) ** (-gamma)) / (df[\"PCECC96\"] ** (-gamma)))\n",
    "\n",
    "def GMM_error(params):\n",
    "    gamma, beta = params\n",
    "    df['m'] = find_m2(gamma, beta)\n",
    "    df_temp = df.copy().dropna()\n",
    "    error = np.zeros(2)\n",
    "    error[0] = (df_temp['m'].cov(df_temp['R']) + df_temp['m'].mean()*df_temp['R'].mean() - 1)\n",
    "    error[1] = np.sum(abs((df_temp['TB3MS'] - 1/df['m'])))\n",
    "    return error\n",
    "\n",
    "def criterion(params, *args):\n",
    "    gamma, beta = params\n",
    "    W = args\n",
    "    error = GMM_error(params)\n",
    "    return error.T @ W @ error\n",
    "\n",
    "W_temp = np.eye(2)\n",
    "params_init = np.array([1.5, 1])\n",
    "gmm_args = W_temp\n",
    "output1 = opt.minimize(criterion, params_init, args = (gmm_args), method= 'L-BFGS-B', bounds = ((1e-6, None), (1e-6, None)))\n",
    "gamma1, beta1 = output1.x\n",
    "err = GMM_error((gamma1, beta1)) \n",
    "W_hat = lin.pinv(np.outer(err, err.T) / len(df['TB3MS']))\n",
    "gmm_args = W_hat\n",
    "opt.minimize(criterion, params_init, args = (gmm_args), method= 'L-BFGS-B', bounds = ((1e-6, None), (1e-6, None)))\n",
    "# Gamma is definitely wrong in this but I can't figure out why."
   ]
  },
  {
   "cell_type": "code",
   "execution_count": null,
   "metadata": {},
   "outputs": [],
   "source": [
    "gamma_xspace = np.linspace(1e-6, 4, 100)\n",
    "beta_xspace = np.linspace(0.93, 0.99, 10)\n",
    "gmm_values = np.zeros((100, 100))\n",
    "for i in range(len(gamma_xspace)):\n",
    "    for j in range(len(beta_xspace)):\n",
    "        params = (gamma_xspace[i], beta_xspace[j])\n",
    "        gmm_values[i, j] = criterion(params, W_hat)"
   ]
  },
  {
   "cell_type": "code",
   "execution_count": null,
   "metadata": {},
   "outputs": [],
   "source": [
    "for j in range(len(beta_xspace)):\n",
    "    plt.plot(gamma_xspace, gmm_values[:, j], label=rf'$beta$ = {beta_xspace[j]:.2f}')\n",
    "plt.xlabel('gamma')\n",
    "plt.legend()\n",
    "plt.show()"
   ]
  },
  {
   "cell_type": "markdown",
   "metadata": {},
   "source": [
    "# Exercises 3.5 - Kyle Model"
   ]
  },
  {
   "cell_type": "code",
   "execution_count": null,
   "metadata": {},
   "outputs": [],
   "source": [
    "%reset"
   ]
  },
  {
   "cell_type": "code",
   "execution_count": 306,
   "metadata": {},
   "outputs": [],
   "source": [
    "import numpy as np\n",
    "from pprint import pprint\n",
    "import pandas as pd\n",
    "from matplotlib import pyplot as plt\n",
    "import pickle\n",
    "import statsmodels.formula.api as smf\n",
    "import statsmodels.api as sm\n",
    "import datetime"
   ]
  },
  {
   "cell_type": "code",
   "execution_count": 307,
   "metadata": {},
   "outputs": [],
   "source": [
    "AAPL = pickle.load(open('AAPL', 'rb'))\n",
    "C = pickle.load(open('C', 'rb'))\n",
    "GBX = pickle.load(open('GBX', 'rb'))\n",
    "SPY = pickle.load(open('SPY', 'rb'))\n",
    "THO = pickle.load(open('THO', 'rb'))"
   ]
  },
  {
   "cell_type": "code",
   "execution_count": 312,
   "metadata": {},
   "outputs": [],
   "source": [
    "class Orderbook:\n",
    "\n",
    "    def __init__(self, data, title):\n",
    "        self.time = data[0]\n",
    "        self.title = title\n",
    "        \n",
    "        \n",
    "        # Clean the data.  Thanks to the help of Matt, who had help from Reiko, who had help from ...\n",
    "        df = pd.DataFrame.from_dict(data[1], orient='index')\n",
    "        df = df.sort_index()\n",
    "        df = df.reset_index()\n",
    "        df.columns = ['Price', 'Quantity', 'Side', 'X', 'Y']\n",
    "        df = df.drop(['X', 'Y'], axis = 1)\n",
    "        \n",
    "        df['Cumulative Quantity'] = df[\"Quantity\"].cumsum()\n",
    "        Qmkt = np.max(df['Cumulative Quantity'][df['Side'] == 'B'])\n",
    "        Pmkt = df['Price'][(df['Cumulative Quantity'][df['Side'] == 'B']).idxmax()]\n",
    "        df['Cumulative Quantity'] = df['Cumulative Quantity'] - Qmkt\n",
    "        self.Pmkt = Pmkt\n",
    "        \n",
    "        self.data = df\n",
    "        self.data10 = df[(df.Price >= self.Pmkt *0.9) & (df.Price <= self.Pmkt*1.1)]\n",
    "        \n",
    "    def estimating(self):\n",
    "        self.data10['Ones'] = np.ones(len(self.data10['Price']))\n",
    "        P = self.data10[['Ones', 'Price']]\n",
    "        y = self.data10['Cumulative Quantity']\n",
    "        gamma, beta = np.linalg.lstsq(P, y, rcond=None)[0]\n",
    "\n",
    "        return gamma, beta\n",
    "    \n",
    "    def plot_fun(self):\n",
    "        plt.plot(self.data10['Price'], self.data10['Cumulative Quantity'])\n",
    "        plt.title(f\"The Order Book of {self.title} at t = {self.time}\")\n",
    "        plt.xlabel(\"Price\")\n",
    "        plt.ylabel(\"Cumulative Quantity\")\n",
    "        gamma, beta = self.estimating()\n",
    "        xgrid = np.linspace(0.9* self.Pmkt, 1.1*self.Pmkt, 100)\n",
    "        plt.plot(xgrid, gamma + beta*xgrid, label = 'equation 10' )\n",
    "        \n",
    "        plt.show()"
   ]
  },
  {
   "cell_type": "code",
   "execution_count": 313,
   "metadata": {},
   "outputs": [
    {
     "name": "stderr",
     "output_type": "stream",
     "text": [
      "/Users/cacheellsworth/anaconda3/lib/python3.6/site-packages/ipykernel_launcher.py:25: SettingWithCopyWarning: \n",
      "A value is trying to be set on a copy of a slice from a DataFrame.\n",
      "Try using .loc[row_indexer,col_indexer] = value instead\n",
      "\n",
      "See the caveats in the documentation: http://pandas.pydata.org/pandas-docs/stable/indexing.html#indexing-view-versus-copy\n"
     ]
    },
    {
     "data": {
      "image/png": "[encoded data removed]",
      "text/plain": [
       "<matplotlib.figure.Figure at 0x1c3863e5c0>"
      ]
     },
     "metadata": {},
     "output_type": "display_data"
    }
   ],
   "source": [
    "book1 = Orderbook(GBX[60], 'GBX')\n",
    "book1.plot_fun()"
   ]
  },
  {
   "cell_type": "code",
   "execution_count": 314,
   "metadata": {},
   "outputs": [
    {
     "name": "stderr",
     "output_type": "stream",
     "text": [
      "/Users/cacheellsworth/anaconda3/lib/python3.6/site-packages/ipykernel_launcher.py:25: SettingWithCopyWarning: \n",
      "A value is trying to be set on a copy of a slice from a DataFrame.\n",
      "Try using .loc[row_indexer,col_indexer] = value instead\n",
      "\n",
      "See the caveats in the documentation: http://pandas.pydata.org/pandas-docs/stable/indexing.html#indexing-view-versus-copy\n"
     ]
    },
    {
     "data": {
      "image/png": "[encoded data removed]",
      "text/plain": [
       "<matplotlib.figure.Figure at 0x1c381786d8>"
      ]
     },
     "metadata": {},
     "output_type": "display_data"
    }
   ],
   "source": [
    "book2 = Orderbook(C[60], 'C')\n",
    "book2.plot_fun()"
   ]
  },
  {
   "cell_type": "code",
   "execution_count": 315,
   "metadata": {},
   "outputs": [
    {
     "name": "stderr",
     "output_type": "stream",
     "text": [
      "/Users/cacheellsworth/anaconda3/lib/python3.6/site-packages/ipykernel_launcher.py:25: SettingWithCopyWarning: \n",
      "A value is trying to be set on a copy of a slice from a DataFrame.\n",
      "Try using .loc[row_indexer,col_indexer] = value instead\n",
      "\n",
      "See the caveats in the documentation: http://pandas.pydata.org/pandas-docs/stable/indexing.html#indexing-view-versus-copy\n"
     ]
    },
    {
     "data": {
      "image/png": "[encoded data removed]",
      "text/plain": [
       "<matplotlib.figure.Figure at 0x119ac8b00>"
      ]
     },
     "metadata": {},
     "output_type": "display_data"
    }
   ],
   "source": [
    "book3 = Orderbook(AAPL[60], 'AAPL')\n",
    "book3.plot_fun()"
   ]
  },
  {
   "cell_type": "markdown",
   "metadata": {},
   "source": [
    "The model fits well with only a part of the data in each orderbook.  Usually the linear model, does well but in some of the models seperating the linear models might work better ( like for C)."
   ]
  },
  {
   "cell_type": "code",
   "execution_count": null,
   "metadata": {},
   "outputs": [],
   "source": [
    "# Part 2"
   ]
  },
  {
   "cell_type": "code",
   "execution_count": null,
   "metadata": {},
   "outputs": [],
   "source": [
    "#  I followed matt's code to load in the data where he loads in a certain time. \n",
    "# If there's time later, redo the class into only one class to make it less messy.\n",
    "class Asset:\n",
    "    \n",
    "    def __init__(self, asset, title):\n",
    "        n = len(asset)\n",
    "        self.price = []\n",
    "        self.time = []\n",
    "        self.p_0 = []\n",
    "        self.beta = []\n",
    "        self.title = title\n",
    "        \n",
    "        for i in range(len(asset)):\n",
    "            book = Orderbook(asset[i], title)\n",
    "            \n",
    "            gamma, beta = book.estimating()\n",
    "            \n",
    "            \n",
    "            self.p_0.append(- gamma / beta)\n",
    "            self.time.append(book.time)\n",
    "            self.price.append(book.Pmkt)\n",
    "            self.beta.append(beta)\n",
    "            \n",
    "    def plot_day(self):\n",
    "        plt.plot(self.time, self.price, label=\"Original Price\")\n",
    "        plt.plot(self.time, self.beta, label = \"Beta's of 10%\")\n",
    "        plt.xlabel(\"Time\")\n",
    "        plt.ylabel(\"Beta Values\")\n",
    "        plt.show()"
   ]
  },
  {
   "cell_type": "code",
   "execution_count": null,
   "metadata": {},
   "outputs": [],
   "source": [
    "tickers = ['AAPL', 'C', 'SPY', 'GBX', 'THO']\n",
    "book_AAPL = Asset(AAPL, 'AAPL')\n",
    "book_C = Asset(C, 'C')\n",
    "book_SPY = Asset(SPY, 'SPY')\n",
    "book_GBX = Asset(GBX, 'GBX')\n",
    "book_THO = Asset(THO, 'THO')"
   ]
  },
  {
   "cell_type": "code",
   "execution_count": null,
   "metadata": {},
   "outputs": [],
   "source": [
    "book_AAPL.plot_day()"
   ]
  },
  {
   "cell_type": "markdown",
   "metadata": {},
   "source": [
    "I can't get this to run.  It acts like it is running but I don't think it is.  It's time to cut my losses."
   ]
  }
 ],
 "metadata": {
  "kernelspec": {
   "display_name": "Python 3",
   "language": "python",
   "name": "python3"
  },
  "language_info": {
   "codemirror_mode": {
    "name": "ipython",
    "version": 3
   },
   "file_extension": ".py",
   "mimetype": "text/x-python",
   "name": "python",
   "nbconvert_exporter": "python",
   "pygments_lexer": "ipython3",
   "version": "3.6.4"
  }
 },
 "nbformat": 4,
 "nbformat_minor": 2
}
