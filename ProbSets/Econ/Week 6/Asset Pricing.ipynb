{
 "cells": [
  {
   "cell_type": "markdown",
   "metadata": {},
   "source": [
    "## Exercises 2.5"
   ]
  },
  {
   "cell_type": "code",
   "execution_count": 3,
   "metadata": {},
   "outputs": [],
   "source": [
    "import numpy as np\n",
    "import scipy as sy\n",
    "import datetime\n",
    "\n",
    "import pandas as pd\n",
    "import pandas_datareader.data as web"
   ]
  },
  {
   "cell_type": "code",
   "execution_count": 64,
   "metadata": {},
   "outputs": [],
   "source": [
    "start = datetime.datetime(1970, 1, 1)\n",
    "end = datetime.datetime(2010, 1, 1)\n",
    "\n",
    "PCECC96 = web.DataReader('PCECC96', 'fred', start, end) \n",
    "WILL5000INDFC = web.DataReader('WILL5000INDFC', 'fred', start, end) \n",
    "GDPDEF = web.DataReader('GDPDEF', 'fred', start, end)      \n",
    "TB3MS= web.DataReader('TB3MS', 'fred', start, end)         \n",
    "\n",
    "#w5000INDFC.fillna(method=\"ffill\")\n",
    "\n",
    "# Transform the Wilshire 5000 series & T-Bill series into quarterly data. The start of the quarter.\n",
    "WILL5000INDFC = w5000INDFC.resample('QS').mean()\n",
    "TB3MS = rfr_tb3MS.resample('QS').mean()\n",
    "\n",
    "df = pd.DataFrame({'PCECC96': PCECC96[\"PCECC96\"],\n",
    "                   'WILL5000INDFC': WILL5000INDFC[\"WILL5000INDFC\"],\n",
    "                  'TB3MS': TB3MS[\"TB3MS\"],\n",
    "                  'GDPDEF': GDPDEF[\"GDPDEF\"]})\n",
    "\n",
    "# Account for inflation. (gdpdeflator = (nominal/real) * 100)\n",
    "df[\"GDPDEF\"] = df[\"GDPDEF\"] / 100 \n",
    "df[\"WILL5000INDFC_d\"] = df[\"WILL5000INDFC\"] / df[\"GDPDEF\"]\n",
    "\n",
    "# drop NaN variables.  This drops the row is there is a NaN value in the row.\n",
    "df = df.dropna()"
   ]
  },
  {
   "cell_type": "code",
   "execution_count": null,
   "metadata": {},
   "outputs": [],
   "source": [
    "# Part 1 - GMM for finding gamma\n",
    "beta = 0.99\n",
    "\n",
    "def find_m(gamma):\n",
    "    return beta * ((df[\"PCECC96\"].shift(-1) ** (-gamma)) / (df[\"PCECC96\"] ** (-gamma)))\n",
    "\n",
    "def find_R(gamma):\n",
    "    \n",
    "\n",
    "df['m'] = find_m(gamma)"
   ]
  },
  {
   "cell_type": "code",
   "execution_count": null,
   "metadata": {},
   "outputs": [],
   "source": [
    "# R\n",
    "R_i,tp1 = (p_i,t+1 + d_i,t+1) / p_i,t\n",
    "\n",
    "# m_tp1 \n",
    "m_tp1 = beta * uprime(c_tp1) / uprime(c_t)\n",
    "#utility\n",
    "u = (c ** (1 - gamma)) / (1 - gamma)\n",
    "# uprime\n",
    "uprime = c ** (-gamma)\n",
    "# 5\n",
    "1 = np.cov(m_tp1, R_i,tp1) + np.mean(m_tp1|omega_t) * np.mean(R_i,t+1|omega)"
   ]
  }
 ],
 "metadata": {
  "kernelspec": {
   "display_name": "Python 3",
   "language": "python",
   "name": "python3"
  },
  "language_info": {
   "codemirror_mode": {
    "name": "ipython",
    "version": 3
   },
   "file_extension": ".py",
   "mimetype": "text/x-python",
   "name": "python",
   "nbconvert_exporter": "python",
   "pygments_lexer": "ipython3",
   "version": "3.6.4"
  }
 },
 "nbformat": 4,
 "nbformat_minor": 2
}
