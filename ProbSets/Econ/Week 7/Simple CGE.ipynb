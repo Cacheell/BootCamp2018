{
 "cells": [
  {
   "cell_type": "markdown",
   "metadata": {},
   "source": [
    "A simple CGE model for KSA, code follows Hosoe et al (2004)"
   ]
  },
  {
   "cell_type": "code",
   "execution_count": 13,
   "metadata": {},
   "outputs": [],
   "source": [
    "import numpy as np"
   ]
  },
  {
   "cell_type": "code",
   "execution_count": 14,
   "metadata": {},
   "outputs": [],
   "source": [
    "SAM_list = [\"AGR\", \"OIL\", \"IND\", \"SER\", \"LAB\", \"CAP\", \"LAND\", \"NTR\", \"DTX\", \"IDT\", \"ACT\", \"HOH\", \"GOV\", \"INV\", \"EXT\"]\n",
    "goods = SAM_list[: SAM_list.index(\"SER\") + 1]\n",
    "factor = SAM_list[SAM_list.index(\"LAB\"): SAM_list.index(\"NTR\") + 1]\n",
    "non_capital_fact = [\"Lab\", \"LAND\", \"NTR\"]"
   ]
  },
  {
   "cell_type": "code",
   "execution_count": 39,
   "metadata": {},
   "outputs": [],
   "source": [
    "SAM = np.matrix([[7, 2, 56, 15, 0, 0, 0, 0, 0, 0, 0, 34, 2, 0, 2],\n",
    "               [0, 4, 134, 11, 0, 0, 0, 0, 0, 0, 0, 0, 0, 0, 866.435],\n",
    "               [15, 13, 316, 312, 0, 0, 0, 0, 0, 0, 0, 396, 265, 115, 306],\n",
    "               [9, 8, 147, 250, 0, 0, 0, 0, 0, 0, 0, 408, 611, 370, 34],\n",
    "               [7, 28, 87, 429, 0, 0, 0, 0, 0, 0, 0, 0, 0, 0, 0],\n",
    "               [26, 68, 351, 606, 0, 0, 0, 0, 0, 0, 0, 0, 0, 0, 0],\n",
    "               [24, 0, 0, 0, 0, 0, 0, 0, 0, 0, 0, 0, 0, 0, 0 ],\n",
    "               [0, 890.435, 0, 0, 0, 0, 0, 0, 0, 0, 0, 0, 0, 0, 0],\n",
    "               [0, 0, 0, 0, 0, 0, 0, 0, 0, 0, 0, 948, 0, 0, 0],\n",
    "               [1, 0, 20, 0, 0, 0, 0, 0, 0, 0, 0, 0, 0, 0, 0],\n",
    "               [-4, 0, 1, 12, 0, 0, 0, 0, 0, 0, 0, 0, 0, 0, 0],\n",
    "               [0, 0, 0, 0, 551, 1051, 24, 890.435, 0, 0, 0, 0, 100, 0, 0],\n",
    "               [0, 0, 0, 0, 0, 0, 0, 0, 948, 21, 9, 0, 0, 0, 0],\n",
    "               [0, 0, 0, 0, 0, 0, 0, 0, 0, 0, 0, 189, 0, 0, 296],\n",
    "               [33, 2, 626, 202, 0, 0, 0, 0, 0, 0, 0, 641.435, 0, 0, 0]])"
   ]
  },
  {
   "cell_type": "code",
   "execution_count": 44,
   "metadata": {},
   "outputs": [
    {
     "data": {
      "text/plain": [
       "948.0"
      ]
     },
     "execution_count": 44,
     "metadata": {},
     "output_type": "execute_result"
    }
   ],
   "source": [
    "\"\"\"Parameter       Y0(j)           composite factor\n",
    "                F0(h,j)         the h-th factor input by the j-th firm\n",
    "                X0(i,j)         intermediate input\n",
    "                XX0(j)          total intermediate inputs by the j-th sector\n",
    "                Z0(j)           output of the j-th good\n",
    "                Xp0(i)          household consumption of the i-th good\n",
    "                Xg0(i)          government consumption\n",
    "                Xv0(i)          investment demand\n",
    "                E0(i)           exports\n",
    "                M0(i)           imports\n",
    "                Q0(i)           Armington's composite good\n",
    "                D0(i)           domestic good\n",
    "                Sp0             private saving\n",
    "                Sg0             government saving\n",
    "                Td0             direct tax\n",
    "                Trf0            transfers from gov to household\n",
    "                Tz0(j)          production tax\n",
    "                Tm0(j)          import tariff\n",
    "\n",
    "                FF0(h)          factor endowment of the h-th factor\n",
    "                Sf0             foreign saving in US dollars\n",
    "                pWe(i)          export price in US dollars\n",
    "                pWm(i)          import price in US dollars\n",
    "                tauz(i)         production tax rate\n",
    "                taum(i)         import tariff rate\n",
    "\n",
    "                YY0             aggregate factor income\n",
    "                XXp0            aggregate consumption\n",
    "                XXv0            aggregate investment\n",
    "                XXg0            aggregate government consumption\n",
    "                MM0             aggregate imports\n",
    "                EE0             aggregate exports\n",
    "                GDP0            Gross Domestic Product\n",
    "\n",
    "                FSH0            repatriation of profits\n",
    "                KK0             capital stock\n",
    "                KD0             domestically-owned capital stock\n",
    "                KF0             foreign-owned capital stock\n",
    "                g               long-run growth rate\n",
    "                R0              Rate of return on domestic investment\"\"\"\n",
    "\n",
    "KK0 = 10510\n",
    "KF0 = 6314.35\n",
    "KD0 = KK0 - KF0\n",
    "Td0 = SAM[SAM_list.index(\"DTX\"), SAM_list.index(\"HOH\")]\n",
    "Trf0 = SAM[SAM_list.index(\"HOH\"), SAM_list.index(\"GOV\")]\n",
    "Tz0 = SAM[SAM_list.index(\"ACT\"), :]\n",
    "Tm0 = SAM[SAM_list.index(\"IDT\"), :]\n",
    "\n",
    "FSH0 = SAM[SAM_list.index(\"EXT\"), SAM_list.index(\"HOH\")]\n",
    "\n",
    "F0 = SAM\n",
    "Y0 = lambda x: np.sum(x[0], F0[x[0], x[1]])\n",
    "YY0 = lambda x: np.sum(x[1], Y0[x])\n",
    "X0 = SAM\n",
    "XX0 = lambda x: np.sum(x[0], X0(x[0], x[1]))\n",
    "Z0 = lambda x: Y0(j) +sum(i, X0(i,j))\n",
    "M0(i)   =SAM(\"EXT\",i)\n",
    "MM0     =sum(i,M0(i))\n",
    "\n",
    "tauz(j) =Tz0(j)/Z0(j)\n",
    "taum(j) =Tm0(j)/M0(j)\n",
    "\n",
    "Xp0(i)  =SAM(i,\"HOH\")\n",
    "XXp0    =sum(i,Xp0(i))\n",
    "FF0(h)  =SAM(\"HOH\",h)\n",
    "\n",
    "\n"
   ]
  },
  {
   "cell_type": "code",
   "execution_count": null,
   "metadata": {},
   "outputs": [],
   "source": [
    "\"\"\"\n",
    "Parameter       sigma(i)        elasticity of substitution\n",
    "                psi(i)          elasticity of transformation\n",
    "                eta(i)          substitution elasticity parameter\n",
    "                phi(i)          transformation elasticity parameter\n",
    "\"\"\"\n",
    "sigma = 3\n",
    "psi = 3\n",
    "sigma\n"
   ]
  },
  {
   "cell_type": "code",
   "execution_count": null,
   "metadata": {},
   "outputs": [],
   "source": []
  },
  {
   "cell_type": "code",
   "execution_count": null,
   "metadata": {},
   "outputs": [],
   "source": []
  }
 ],
 "metadata": {
  "kernelspec": {
   "display_name": "Python 3",
   "language": "python",
   "name": "python3"
  },
  "language_info": {
   "codemirror_mode": {
    "name": "ipython",
    "version": 3
   },
   "file_extension": ".py",
   "mimetype": "text/x-python",
   "name": "python",
   "nbconvert_exporter": "python",
   "pygments_lexer": "ipython3",
   "version": "3.6.4"
  }
 },
 "nbformat": 4,
 "nbformat_minor": 2
}
