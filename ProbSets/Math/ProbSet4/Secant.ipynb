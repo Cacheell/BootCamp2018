{
 "cells": [
  {
   "cell_type": "markdown",
   "metadata": {},
   "source": [
    "# Problem 6.15"
   ]
  },
  {
   "cell_type": "code",
   "execution_count": 74,
   "metadata": {},
   "outputs": [],
   "source": [
    "# ...\n",
    "import numpy as np\n",
    "import matplotlib.pyplot as plt\n",
    "\n",
    "\n",
    "x0 = 0\n",
    "x1 = 0.1\n",
    "eps = 1e-8\n"
   ]
  },
  {
   "cell_type": "code",
   "execution_count": 75,
   "metadata": {},
   "outputs": [],
   "source": [
    "def derivative(x):\n",
    "    return 4 * x ** 3 - 42 * x ** 2 + 120 * x - 70\n",
    "\n",
    "def secant(x0, x1, eps, derivative):\n",
    "    maxiter = 1000\n",
    "    xlast = x0\n",
    "    x = x1\n",
    "    i = 0\n",
    "    tol = 1\n",
    "    xke = x * eps\n",
    "    xvec = [x0, x1]\n",
    "    convergence = True\n",
    "    while i < maxiter and tol > xke: \n",
    "        xkp1 = x - derivative(x) * ((x - xlast) / (derivative(x) - derivative(xlast)))\n",
    "        xke = abs(x) * eps\n",
    "        tol = abs(xkp1 - x)\n",
    "        xlast = x\n",
    "        xvec.append(xkp1)\n",
    "        x = xkp1\n",
    "        i += 1\n",
    "    if i == maxiter:\n",
    "        convergence = False        \n",
    "    return xvec, convergence"
   ]
  },
  {
   "cell_type": "code",
   "execution_count": 76,
   "metadata": {},
   "outputs": [
    {
     "name": "stdout",
     "output_type": "stream",
     "text": [
      "The function converged to : [0, 0.1, 0.604281767955801, 0.733836943348735, 0.776858204659207, 0.7807859628421475, 0.7808838446784545, 0.7808840530772693, 0.7808840530880756]\n"
     ]
    }
   ],
   "source": [
    "# Estimate f = x ** 4 - 14 * x ** 3 + 60 * x ** 2 - 70 * x\n",
    "x, conv = secant(x0, x1, eps, derivative)\n",
    "if conv == True:\n",
    "    print(\"The function converged to :\", x)\n",
    "else:\n",
    "    print(\"The function didn't converge\", conv)"
   ]
  },
  {
   "cell_type": "code",
   "execution_count": null,
   "metadata": {},
   "outputs": [],
   "source": []
  },
  {
   "cell_type": "code",
   "execution_count": null,
   "metadata": {},
   "outputs": [],
   "source": []
  },
  {
   "cell_type": "code",
   "execution_count": null,
   "metadata": {},
   "outputs": [],
   "source": []
  }
 ],
 "metadata": {
  "kernelspec": {
   "display_name": "Python 3",
   "language": "python",
   "name": "python3"
  },
  "language_info": {
   "codemirror_mode": {
    "name": "ipython",
    "version": 3
   },
   "file_extension": ".py",
   "mimetype": "text/x-python",
   "name": "python",
   "nbconvert_exporter": "python",
   "pygments_lexer": "ipython3",
   "version": "3.6.4"
  }
 },
 "nbformat": 4,
 "nbformat_minor": 2
}
