{
 "cells": [
  {
   "cell_type": "markdown",
   "metadata": {},
   "source": [
    "## Problem 9.6"
   ]
  },
  {
   "cell_type": "code",
   "execution_count": 99,
   "metadata": {},
   "outputs": [],
   "source": [
    "import numpy as np\n",
    "import random as rand\n",
    "from scipy import linalg as la"
   ]
  },
  {
   "cell_type": "code",
   "execution_count": 100,
   "metadata": {},
   "outputs": [],
   "source": [
    "def steepest_descent(Q, b, c, x_0, eps=1e-6, maxiter=10):\n",
    "    f = lambda x: x.T @ Q @ x - b.T @ x + c\n",
    "    fprime = lambda x:  (Q + Q.T) @ x.T  - b\n",
    "    # I'm confused with what the actual function is.  The function given doesn't converge.\n",
    "    # whereas the general function does.  \n",
    "    fprime = lambda x: .5 *  x.T @ (Q.T + Q)  + b.T\n",
    "    x_k = x_0\n",
    "    i = 0\n",
    "    dist = 1\n",
    "    while dist > epsilon and i < maxiter:\n",
    "        alpha_k = (fprime(x_k) @ fprime(x_k).T) / (fprime(x_k) @ Q @ fprime(x_k).T)\n",
    "        x_kp1 = x_k - alpha_k * fprime(x_k).T\n",
    "        dist = np.linalg.norm(fprime(x_kp1))\n",
    "        x_k = np.copy(x_kp1)\n",
    "        i += 1\n",
    "    return x_k, i"
   ]
  },
  {
   "cell_type": "code",
   "execution_count": 101,
   "metadata": {},
   "outputs": [
    {
     "data": {
      "text/plain": [
       "(array([ 1.66666695, -1.33333322]), 10)"
      ]
     },
     "execution_count": 101,
     "metadata": {},
     "output_type": "execute_result"
    }
   ],
   "source": [
    "Q = np.array([[2, 1], [1, 2]])\n",
    "b = np.array([-2, 1])\n",
    "c = 0\n",
    "x_0 = np.array([23, 7])\n",
    "steepest_descent(Q, b, c, x_0)"
   ]
  },
  {
   "cell_type": "markdown",
   "metadata": {},
   "source": [
    "## Problem 9.7"
   ]
  },
  {
   "cell_type": "code",
   "execution_count": 102,
   "metadata": {},
   "outputs": [
    {
     "data": {
      "text/plain": [
       "array([10, 22])"
      ]
     },
     "execution_count": 102,
     "metadata": {},
     "output_type": "execute_result"
    }
   ],
   "source": [
    "def DF_forward_diff(f, x, err):\n",
    "    if np.isscalar(f(x)):\n",
    "        m = 1\n",
    "    else:\n",
    "        m = len(f(x))\n",
    "    if np.isscalar(x):\n",
    "        n = 1\n",
    "    else:\n",
    "        n = len(x)\n",
    "    df = np.empty((m, n))\n",
    "    e = np.eye(n)\n",
    "    h = np.sqrt(err)\n",
    "    for i in range(n):\n",
    "        df[:, i] = (f(x + h*e[i]) - f(x - h*e[i])) / (2*h)\n",
    "    return df\n",
    "f = lambda x: np.array([x[0] ** 2 + x[2], x[0] ** 3 - x[1]]).T\n",
    "x = np.array([3, 5, 1])\n",
    "f(x)"
   ]
  },
  {
   "cell_type": "code",
   "execution_count": 103,
   "metadata": {},
   "outputs": [
    {
     "data": {
      "text/plain": [
       "array([[ 6.      ,  0.      ,  1.      ],\n",
       "       [27.000001, -1.      ,  0.      ]])"
      ]
     },
     "execution_count": 103,
     "metadata": {},
     "output_type": "execute_result"
    }
   ],
   "source": [
    "DF_forward_diff(f, x, 1e-6)"
   ]
  },
  {
   "cell_type": "markdown",
   "metadata": {},
   "source": [
    "## Problem 9.8"
   ]
  },
  {
   "cell_type": "code",
   "execution_count": 113,
   "metadata": {},
   "outputs": [],
   "source": [
    "def secent_minimizer(x_0, x_1, phi, eps, maxiter):\n",
    "    x = np.array([x_0])\n",
    "    fprime= np.array([DF_forward_diff(phi, x[0], eps)[0]])\n",
    "    x = np.append(x, x_1)\n",
    "    fprime = np.append(fprime, DF_forward_diff(phi, x[1], eps)[0])\n",
    "    k = 2\n",
    "    dist = 1000\n",
    "    while dist > eps and k < maxiter:\n",
    "            x_next = x[k - 1] - fprime[k-1]*((x[k-1] - x[k-2]) / (fprime[k-1] - fprime[k-2]))\n",
    "            fprime_next = DF_forward_diff(phi, x_next, eps)[0]\n",
    "            dist = np.abs((x_next - x[k-1]) / x[k-1])\n",
    "            x = np.append(x, x_next)\n",
    "            fprime = np.append(fprime, fprime_next)\n",
    "            k += 1\n",
    "    return x[k - 1]\n",
    "\n",
    "\n",
    "def steepest_descent(f, x_0, eps, maxiter):\n",
    "    dist = 1000\n",
    "    i = 0\n",
    "    x_k = x_0\n",
    "    while dist > eps and i < maxiter:\n",
    "        df = DF_forward_diff(f, x_k, 1e-6)[0]\n",
    "        phi = lambda alpha: f(x_k - alpha*df.T)\n",
    "        alpha_k = secent_minimizer(0.1, 0.8, phi, eps, maxiter)\n",
    "        x_kp1 = x_k - alpha_k * df.T\n",
    "        dist = la.norm(x_kp1 - x_k)\n",
    "        x_k = x_kp1\n",
    "        i += 1\n",
    "    if i < maxiter:\n",
    "        print(\"Converges in \" + str(i) + \" iterations\")\n",
    "        minvalue = f(x_k)\n",
    "    else:\n",
    "        print(\"Didn't converge\")\n",
    "        minvalue= None\n",
    "    return x_k, minvalue\n"
   ]
  },
  {
   "cell_type": "markdown",
   "metadata": {},
   "source": [
    "## Problem 9.9"
   ]
  },
  {
   "cell_type": "code",
   "execution_count": 120,
   "metadata": {},
   "outputs": [],
   "source": [
    "f = lambda x: 100 * (x[1] - x[0] ** 2) ** 2 + (1 - x[0]) ** 2\n",
    "x_0 = np.array([-2, 2])"
   ]
  },
  {
   "cell_type": "code",
   "execution_count": 126,
   "metadata": {},
   "outputs": [
    {
     "name": "stdout",
     "output_type": "stream",
     "text": [
      "Converges in 1095 iterations\n",
      "Minimizer: ( 0.9999949331364352 , 0.9999898410954257 )\n",
      "Minimum:  2.5736626099348774e-11\n"
     ]
    }
   ],
   "source": [
    "(x, y), fxy = steepest_descent(f, x_0, 1e-8, 10000)\n",
    "print('Minimizer: (', x,',', y, ')')\n",
    "print('Minimum: ', fxy)"
   ]
  },
  {
   "cell_type": "code",
   "execution_count": null,
   "metadata": {},
   "outputs": [],
   "source": []
  },
  {
   "cell_type": "code",
   "execution_count": null,
   "metadata": {},
   "outputs": [],
   "source": []
  }
 ],
 "metadata": {
  "kernelspec": {
   "display_name": "Python 3",
   "language": "python",
   "name": "python3"
  },
  "language_info": {
   "codemirror_mode": {
    "name": "ipython",
    "version": 3
   },
   "file_extension": ".py",
   "mimetype": "text/x-python",
   "name": "python",
   "nbconvert_exporter": "python",
   "pygments_lexer": "ipython3",
   "version": "3.6.4"
  }
 },
 "nbformat": 4,
 "nbformat_minor": 2
}
